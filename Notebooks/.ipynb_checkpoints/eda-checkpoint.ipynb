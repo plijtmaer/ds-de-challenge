{
 "cells": [
  {
   "cell_type": "markdown",
   "id": "3fd4d650-11fa-4d56-8688-3da173e02fde",
   "metadata": {},
   "source": [
    "# Importar bibliotecas"
   ]
  },
  {
   "cell_type": "code",
   "execution_count": 41,
   "id": "7bd261de-3c90-443a-9db4-fd52ffba05c2",
   "metadata": {},
   "outputs": [],
   "source": [
    "import pandas as pd\n",
    "import numpy as np\n",
    "import matplotlib.pyplot as plt\n",
    "%matplotlib inline\n",
    "import seaborn as sns\n",
    "import warnings\n",
    "warnings.filterwarnings(\"ignore\") "
   ]
  },
  {
   "cell_type": "markdown",
   "id": "1a55b9da-dc87-4f23-9e87-2aa9a09136ad",
   "metadata": {},
   "source": [
    "# EDA"
   ]
  },
  {
   "cell_type": "markdown",
   "id": "3b769ea9-6ab1-4913-9de0-cd32d9d9d600",
   "metadata": {},
   "source": [
    "## Carga de datos y preevaluación de datos"
   ]
  },
  {
   "cell_type": "code",
   "execution_count": 2,
   "id": "442fbbbf-b7ae-432d-bf66-c2a8dba9b93d",
   "metadata": {},
   "outputs": [],
   "source": [
    "# Cargar dataset de ofertas relámpago en un DataFrame\n",
    "path = \"../Data/ofertas_relampago.csv\"\n",
    "df = pd.read_csv(path)"
   ]
  },
  {
   "cell_type": "code",
   "execution_count": 3,
   "id": "81e24c8f-7701-4c19-ba05-64d2f5cc67c8",
   "metadata": {},
   "outputs": [
    {
     "name": "stdout",
     "output_type": "stream",
     "text": [
      "Cantidad de registros: 48746\n",
      "Cantidad de columnas: 13\n"
     ]
    }
   ],
   "source": [
    "# Evaluar cantidad de registros y columnas\n",
    "registros = df.shape[0]\n",
    "columnas = df.shape[1]\n",
    "print(f\"Cantidad de registros: {registros}\\nCantidad de columnas: {columnas}\")"
   ]
  },
  {
   "cell_type": "code",
   "execution_count": 4,
   "id": "2d7bba53-e037-4d2c-b9f8-1369436c41a3",
   "metadata": {},
   "outputs": [
    {
     "data": {
      "text/html": [
       "<div>\n",
       "<style scoped>\n",
       "    .dataframe tbody tr th:only-of-type {\n",
       "        vertical-align: middle;\n",
       "    }\n",
       "\n",
       "    .dataframe tbody tr th {\n",
       "        vertical-align: top;\n",
       "    }\n",
       "\n",
       "    .dataframe thead th {\n",
       "        text-align: right;\n",
       "    }\n",
       "</style>\n",
       "<table border=\"1\" class=\"dataframe\">\n",
       "  <thead>\n",
       "    <tr style=\"text-align: right;\">\n",
       "      <th></th>\n",
       "      <th>OFFER_START_DATE</th>\n",
       "      <th>OFFER_START_DTTM</th>\n",
       "      <th>OFFER_FINISH_DTTM</th>\n",
       "      <th>OFFER_TYPE</th>\n",
       "      <th>INVOLVED_STOCK</th>\n",
       "      <th>REMAINING_STOCK_AFTER_END</th>\n",
       "      <th>SOLD_AMOUNT</th>\n",
       "      <th>SOLD_QUANTITY</th>\n",
       "      <th>ORIGIN</th>\n",
       "      <th>SHIPPING_PAYMENT_TYPE</th>\n",
       "      <th>DOM_DOMAIN_AGG1</th>\n",
       "      <th>VERTICAL</th>\n",
       "      <th>DOMAIN_ID</th>\n",
       "    </tr>\n",
       "  </thead>\n",
       "  <tbody>\n",
       "    <tr>\n",
       "      <th>0</th>\n",
       "      <td>2021-06-22</td>\n",
       "      <td>2021-06-22 16:00:00+00:00</td>\n",
       "      <td>2021-06-22 23:02:43+00:00</td>\n",
       "      <td>lightning_deal</td>\n",
       "      <td>4</td>\n",
       "      <td>-2</td>\n",
       "      <td>4.72</td>\n",
       "      <td>6.0</td>\n",
       "      <td>A</td>\n",
       "      <td>none</td>\n",
       "      <td>PETS FOOD</td>\n",
       "      <td>CPG</td>\n",
       "      <td>MLM-BIRD_FOODS</td>\n",
       "    </tr>\n",
       "    <tr>\n",
       "      <th>1</th>\n",
       "      <td>2021-06-22</td>\n",
       "      <td>2021-06-22 13:00:00+00:00</td>\n",
       "      <td>2021-06-22 19:00:02+00:00</td>\n",
       "      <td>lightning_deal</td>\n",
       "      <td>5</td>\n",
       "      <td>5</td>\n",
       "      <td>NaN</td>\n",
       "      <td>NaN</td>\n",
       "      <td>NaN</td>\n",
       "      <td>free_shipping</td>\n",
       "      <td>PET PRODUCTS</td>\n",
       "      <td>OTHERS</td>\n",
       "      <td>MLM-ANIMAL_AND_PET_PRODUCTS</td>\n",
       "    </tr>\n",
       "    <tr>\n",
       "      <th>2</th>\n",
       "      <td>2021-06-22</td>\n",
       "      <td>2021-06-22 07:00:00+00:00</td>\n",
       "      <td>2021-06-22 13:00:01+00:00</td>\n",
       "      <td>lightning_deal</td>\n",
       "      <td>15</td>\n",
       "      <td>12</td>\n",
       "      <td>10.73</td>\n",
       "      <td>3.0</td>\n",
       "      <td>NaN</td>\n",
       "      <td>none</td>\n",
       "      <td>COMPUTERS</td>\n",
       "      <td>CE</td>\n",
       "      <td>MLM-SPEAKERS</td>\n",
       "    </tr>\n",
       "  </tbody>\n",
       "</table>\n",
       "</div>"
      ],
      "text/plain": [
       "  OFFER_START_DATE           OFFER_START_DTTM          OFFER_FINISH_DTTM  \\\n",
       "0       2021-06-22  2021-06-22 16:00:00+00:00  2021-06-22 23:02:43+00:00   \n",
       "1       2021-06-22  2021-06-22 13:00:00+00:00  2021-06-22 19:00:02+00:00   \n",
       "2       2021-06-22  2021-06-22 07:00:00+00:00  2021-06-22 13:00:01+00:00   \n",
       "\n",
       "       OFFER_TYPE  INVOLVED_STOCK  REMAINING_STOCK_AFTER_END  SOLD_AMOUNT  \\\n",
       "0  lightning_deal               4                         -2         4.72   \n",
       "1  lightning_deal               5                          5          NaN   \n",
       "2  lightning_deal              15                         12        10.73   \n",
       "\n",
       "   SOLD_QUANTITY ORIGIN SHIPPING_PAYMENT_TYPE DOM_DOMAIN_AGG1 VERTICAL  \\\n",
       "0            6.0      A                  none       PETS FOOD      CPG   \n",
       "1            NaN    NaN         free_shipping    PET PRODUCTS   OTHERS   \n",
       "2            3.0    NaN                  none       COMPUTERS       CE   \n",
       "\n",
       "                     DOMAIN_ID  \n",
       "0               MLM-BIRD_FOODS  \n",
       "1  MLM-ANIMAL_AND_PET_PRODUCTS  \n",
       "2                 MLM-SPEAKERS  "
      ]
     },
     "execution_count": 4,
     "metadata": {},
     "output_type": "execute_result"
    }
   ],
   "source": [
    "# Evaluar primeros 3 registros\n",
    "df.head(3)"
   ]
  },
  {
   "cell_type": "code",
   "execution_count": 5,
   "id": "c0b9d42a-ca97-464a-819c-fed425a93318",
   "metadata": {},
   "outputs": [
    {
     "name": "stdout",
     "output_type": "stream",
     "text": [
      "<class 'pandas.core.frame.DataFrame'>\n",
      "RangeIndex: 48746 entries, 0 to 48745\n",
      "Data columns (total 13 columns):\n",
      " #   Column                     Non-Null Count  Dtype  \n",
      "---  ------                     --------------  -----  \n",
      " 0   OFFER_START_DATE           48746 non-null  object \n",
      " 1   OFFER_START_DTTM           48746 non-null  object \n",
      " 2   OFFER_FINISH_DTTM          48746 non-null  object \n",
      " 3   OFFER_TYPE                 48746 non-null  object \n",
      " 4   INVOLVED_STOCK             48746 non-null  int64  \n",
      " 5   REMAINING_STOCK_AFTER_END  48746 non-null  int64  \n",
      " 6   SOLD_AMOUNT                24579 non-null  float64\n",
      " 7   SOLD_QUANTITY              24579 non-null  float64\n",
      " 8   ORIGIN                     11316 non-null  object \n",
      " 9   SHIPPING_PAYMENT_TYPE      48746 non-null  object \n",
      " 10  DOM_DOMAIN_AGG1            48746 non-null  object \n",
      " 11  VERTICAL                   48746 non-null  object \n",
      " 12  DOMAIN_ID                  48746 non-null  object \n",
      "dtypes: float64(2), int64(2), object(9)\n",
      "memory usage: 4.8+ MB\n"
     ]
    }
   ],
   "source": [
    "# Evaluar columnas\n",
    "df.info()"
   ]
  },
  {
   "cell_type": "markdown",
   "id": "e197e7d7-d6e1-45fb-9b55-580e96f447d4",
   "metadata": {},
   "source": [
    "**Se observan las columnas con sus distintos tipos de datos, que serán evaluados posteriormente. Además, se encuentran valores nulos en 3 columnas.**"
   ]
  },
  {
   "cell_type": "code",
   "execution_count": 6,
   "id": "1fe63a23-d0ac-49e9-9a39-a8e1b803d2e4",
   "metadata": {},
   "outputs": [
    {
     "data": {
      "text/plain": [
       "OFFER_START_DATE                 0\n",
       "OFFER_START_DTTM                 0\n",
       "OFFER_FINISH_DTTM                0\n",
       "OFFER_TYPE                       0\n",
       "INVOLVED_STOCK                   0\n",
       "REMAINING_STOCK_AFTER_END        0\n",
       "SOLD_AMOUNT                  24167\n",
       "SOLD_QUANTITY                24167\n",
       "ORIGIN                       37430\n",
       "SHIPPING_PAYMENT_TYPE            0\n",
       "DOM_DOMAIN_AGG1                  0\n",
       "VERTICAL                         0\n",
       "DOMAIN_ID                        0\n",
       "dtype: int64"
      ]
     },
     "execution_count": 6,
     "metadata": {},
     "output_type": "execute_result"
    }
   ],
   "source": [
    "# Evaluar nulos\n",
    "df.isna().sum()"
   ]
  },
  {
   "cell_type": "markdown",
   "id": "1ebc115e-6b08-4b90-b4c2-f5ba0a2adf97",
   "metadata": {},
   "source": [
    "**Las columnas \"SOLD_AMOUNT\", \"SOLD_QUANTITY\" y \"ORIGIN\" contienen nulos.**"
   ]
  },
  {
   "cell_type": "code",
   "execution_count": 7,
   "id": "902cf2cb-1472-41b0-b9ce-22cc225f4155",
   "metadata": {},
   "outputs": [
    {
     "data": {
      "text/html": [
       "<div>\n",
       "<style scoped>\n",
       "    .dataframe tbody tr th:only-of-type {\n",
       "        vertical-align: middle;\n",
       "    }\n",
       "\n",
       "    .dataframe tbody tr th {\n",
       "        vertical-align: top;\n",
       "    }\n",
       "\n",
       "    .dataframe thead th {\n",
       "        text-align: right;\n",
       "    }\n",
       "</style>\n",
       "<table border=\"1\" class=\"dataframe\">\n",
       "  <thead>\n",
       "    <tr style=\"text-align: right;\">\n",
       "      <th></th>\n",
       "      <th>INVOLVED_STOCK</th>\n",
       "      <th>REMAINING_STOCK_AFTER_END</th>\n",
       "      <th>SOLD_AMOUNT</th>\n",
       "      <th>SOLD_QUANTITY</th>\n",
       "    </tr>\n",
       "  </thead>\n",
       "  <tbody>\n",
       "    <tr>\n",
       "      <th>count</th>\n",
       "      <td>48746.000000</td>\n",
       "      <td>48746.000000</td>\n",
       "      <td>24579.000000</td>\n",
       "      <td>24579.000000</td>\n",
       "    </tr>\n",
       "    <tr>\n",
       "      <th>mean</th>\n",
       "      <td>35.007508</td>\n",
       "      <td>30.565216</td>\n",
       "      <td>51.208898</td>\n",
       "      <td>10.851052</td>\n",
       "    </tr>\n",
       "    <tr>\n",
       "      <th>std</th>\n",
       "      <td>206.761058</td>\n",
       "      <td>195.813806</td>\n",
       "      <td>175.254414</td>\n",
       "      <td>45.475305</td>\n",
       "    </tr>\n",
       "    <tr>\n",
       "      <th>min</th>\n",
       "      <td>1.000000</td>\n",
       "      <td>-192.000000</td>\n",
       "      <td>0.280000</td>\n",
       "      <td>1.000000</td>\n",
       "    </tr>\n",
       "    <tr>\n",
       "      <th>25%</th>\n",
       "      <td>5.000000</td>\n",
       "      <td>4.000000</td>\n",
       "      <td>5.730000</td>\n",
       "      <td>1.000000</td>\n",
       "    </tr>\n",
       "    <tr>\n",
       "      <th>50%</th>\n",
       "      <td>10.000000</td>\n",
       "      <td>8.000000</td>\n",
       "      <td>12.420000</td>\n",
       "      <td>3.000000</td>\n",
       "    </tr>\n",
       "    <tr>\n",
       "      <th>75%</th>\n",
       "      <td>15.000000</td>\n",
       "      <td>15.000000</td>\n",
       "      <td>30.925000</td>\n",
       "      <td>6.000000</td>\n",
       "    </tr>\n",
       "    <tr>\n",
       "      <th>max</th>\n",
       "      <td>9000.000000</td>\n",
       "      <td>8635.000000</td>\n",
       "      <td>4836.570000</td>\n",
       "      <td>1646.000000</td>\n",
       "    </tr>\n",
       "  </tbody>\n",
       "</table>\n",
       "</div>"
      ],
      "text/plain": [
       "       INVOLVED_STOCK  REMAINING_STOCK_AFTER_END   SOLD_AMOUNT  SOLD_QUANTITY\n",
       "count    48746.000000               48746.000000  24579.000000   24579.000000\n",
       "mean        35.007508                  30.565216     51.208898      10.851052\n",
       "std        206.761058                 195.813806    175.254414      45.475305\n",
       "min          1.000000                -192.000000      0.280000       1.000000\n",
       "25%          5.000000                   4.000000      5.730000       1.000000\n",
       "50%         10.000000                   8.000000     12.420000       3.000000\n",
       "75%         15.000000                  15.000000     30.925000       6.000000\n",
       "max       9000.000000                8635.000000   4836.570000    1646.000000"
      ]
     },
     "execution_count": 7,
     "metadata": {},
     "output_type": "execute_result"
    }
   ],
   "source": [
    "# Evaluar estadísticas descriptivas de atributos numéricos\n",
    "df.describe()"
   ]
  },
  {
   "cell_type": "code",
   "execution_count": 8,
   "id": "58a91a83-6e8a-49a0-af2d-ec430298cc19",
   "metadata": {},
   "outputs": [
    {
     "data": {
      "text/plain": [
       "926"
      ]
     },
     "execution_count": 8,
     "metadata": {},
     "output_type": "execute_result"
    }
   ],
   "source": [
    "# Evaluar duplicados\n",
    "duplicados = df.duplicated()\n",
    "duplicados.sum()"
   ]
  },
  {
   "cell_type": "markdown",
   "id": "383a52c8-b730-4669-94d1-1971f14fdbe8",
   "metadata": {},
   "source": [
    "**Se encuentran 926 duplicados.**"
   ]
  },
  {
   "cell_type": "markdown",
   "id": "5e06ad01-267d-47bd-bee2-0f18960038e6",
   "metadata": {},
   "source": [
    "## Evaluar duplicados"
   ]
  },
  {
   "cell_type": "markdown",
   "id": "8fb9ee4a-7870-43f6-a087-a87168ec8039",
   "metadata": {},
   "source": [
    "**Investigar duplicados para entender si es necesario eliminarlos.**"
   ]
  },
  {
   "cell_type": "code",
   "execution_count": 9,
   "id": "19241e28-bad9-4499-a7d4-b01ec4cd2ff2",
   "metadata": {},
   "outputs": [
    {
     "data": {
      "text/html": [
       "<div>\n",
       "<style scoped>\n",
       "    .dataframe tbody tr th:only-of-type {\n",
       "        vertical-align: middle;\n",
       "    }\n",
       "\n",
       "    .dataframe tbody tr th {\n",
       "        vertical-align: top;\n",
       "    }\n",
       "\n",
       "    .dataframe thead th {\n",
       "        text-align: right;\n",
       "    }\n",
       "</style>\n",
       "<table border=\"1\" class=\"dataframe\">\n",
       "  <thead>\n",
       "    <tr style=\"text-align: right;\">\n",
       "      <th></th>\n",
       "      <th>OFFER_START_DATE</th>\n",
       "      <th>OFFER_START_DTTM</th>\n",
       "      <th>OFFER_FINISH_DTTM</th>\n",
       "      <th>OFFER_TYPE</th>\n",
       "      <th>INVOLVED_STOCK</th>\n",
       "      <th>REMAINING_STOCK_AFTER_END</th>\n",
       "      <th>SOLD_AMOUNT</th>\n",
       "      <th>SOLD_QUANTITY</th>\n",
       "      <th>ORIGIN</th>\n",
       "      <th>SHIPPING_PAYMENT_TYPE</th>\n",
       "      <th>DOM_DOMAIN_AGG1</th>\n",
       "      <th>VERTICAL</th>\n",
       "      <th>DOMAIN_ID</th>\n",
       "    </tr>\n",
       "  </thead>\n",
       "  <tbody>\n",
       "    <tr>\n",
       "      <th>39626</th>\n",
       "      <td>2021-06-01</td>\n",
       "      <td>2021-06-01 07:00:00+00:00</td>\n",
       "      <td>2021-06-01 13:00:02+00:00</td>\n",
       "      <td>lightning_deal</td>\n",
       "      <td>5</td>\n",
       "      <td>3</td>\n",
       "      <td>47.14</td>\n",
       "      <td>1.0</td>\n",
       "      <td>NaN</td>\n",
       "      <td>free_shipping</td>\n",
       "      <td>COMPUTERS</td>\n",
       "      <td>CE</td>\n",
       "      <td>MLM-HEADPHONES</td>\n",
       "    </tr>\n",
       "    <tr>\n",
       "      <th>39640</th>\n",
       "      <td>2021-06-01</td>\n",
       "      <td>2021-06-01 07:00:00+00:00</td>\n",
       "      <td>2021-06-01 13:00:02+00:00</td>\n",
       "      <td>lightning_deal</td>\n",
       "      <td>5</td>\n",
       "      <td>3</td>\n",
       "      <td>47.14</td>\n",
       "      <td>1.0</td>\n",
       "      <td>NaN</td>\n",
       "      <td>free_shipping</td>\n",
       "      <td>COMPUTERS</td>\n",
       "      <td>CE</td>\n",
       "      <td>MLM-HEADPHONES</td>\n",
       "    </tr>\n",
       "    <tr>\n",
       "      <th>39629</th>\n",
       "      <td>2021-06-01</td>\n",
       "      <td>2021-06-01 07:00:00+00:00</td>\n",
       "      <td>2021-06-01 13:00:08+00:00</td>\n",
       "      <td>lightning_deal</td>\n",
       "      <td>5</td>\n",
       "      <td>4</td>\n",
       "      <td>NaN</td>\n",
       "      <td>NaN</td>\n",
       "      <td>NaN</td>\n",
       "      <td>free_shipping</td>\n",
       "      <td>COMPUTERS</td>\n",
       "      <td>CE</td>\n",
       "      <td>MLM-HEADPHONES</td>\n",
       "    </tr>\n",
       "    <tr>\n",
       "      <th>39630</th>\n",
       "      <td>2021-06-01</td>\n",
       "      <td>2021-06-01 07:00:00+00:00</td>\n",
       "      <td>2021-06-01 13:00:08+00:00</td>\n",
       "      <td>lightning_deal</td>\n",
       "      <td>5</td>\n",
       "      <td>4</td>\n",
       "      <td>NaN</td>\n",
       "      <td>NaN</td>\n",
       "      <td>NaN</td>\n",
       "      <td>free_shipping</td>\n",
       "      <td>COMPUTERS</td>\n",
       "      <td>CE</td>\n",
       "      <td>MLM-HEADPHONES</td>\n",
       "    </tr>\n",
       "    <tr>\n",
       "      <th>40007</th>\n",
       "      <td>2021-06-01</td>\n",
       "      <td>2021-06-01 07:00:00+00:00</td>\n",
       "      <td>2021-06-01 13:00:08+00:00</td>\n",
       "      <td>lightning_deal</td>\n",
       "      <td>15</td>\n",
       "      <td>15</td>\n",
       "      <td>NaN</td>\n",
       "      <td>NaN</td>\n",
       "      <td>NaN</td>\n",
       "      <td>free_shipping</td>\n",
       "      <td>APPAREL ACCESORIES</td>\n",
       "      <td>APP &amp; SPORTS</td>\n",
       "      <td>MLM-SUNGLASSES</td>\n",
       "    </tr>\n",
       "    <tr>\n",
       "      <th>...</th>\n",
       "      <td>...</td>\n",
       "      <td>...</td>\n",
       "      <td>...</td>\n",
       "      <td>...</td>\n",
       "      <td>...</td>\n",
       "      <td>...</td>\n",
       "      <td>...</td>\n",
       "      <td>...</td>\n",
       "      <td>...</td>\n",
       "      <td>...</td>\n",
       "      <td>...</td>\n",
       "      <td>...</td>\n",
       "      <td>...</td>\n",
       "    </tr>\n",
       "    <tr>\n",
       "      <th>23460</th>\n",
       "      <td>2021-07-31</td>\n",
       "      <td>2021-07-31 16:00:00+00:00</td>\n",
       "      <td>2021-08-01 00:00:00+00:00</td>\n",
       "      <td>lightning_deal</td>\n",
       "      <td>5</td>\n",
       "      <td>5</td>\n",
       "      <td>NaN</td>\n",
       "      <td>NaN</td>\n",
       "      <td>A</td>\n",
       "      <td>free_shipping</td>\n",
       "      <td>ELECTRONICS</td>\n",
       "      <td>CE</td>\n",
       "      <td>MLM-RANGES</td>\n",
       "    </tr>\n",
       "    <tr>\n",
       "      <th>24399</th>\n",
       "      <td>2021-07-31</td>\n",
       "      <td>2021-07-31 19:00:00+00:00</td>\n",
       "      <td>2021-08-01 01:00:03+00:00</td>\n",
       "      <td>lightning_deal</td>\n",
       "      <td>15</td>\n",
       "      <td>15</td>\n",
       "      <td>NaN</td>\n",
       "      <td>NaN</td>\n",
       "      <td>NaN</td>\n",
       "      <td>none</td>\n",
       "      <td>HOME&amp;DECOR</td>\n",
       "      <td>HOME &amp; INDUSTRY</td>\n",
       "      <td>MLM-CHRISTMAS_LIGHTS</td>\n",
       "    </tr>\n",
       "    <tr>\n",
       "      <th>24401</th>\n",
       "      <td>2021-07-31</td>\n",
       "      <td>2021-07-31 19:00:00+00:00</td>\n",
       "      <td>2021-08-01 01:00:03+00:00</td>\n",
       "      <td>lightning_deal</td>\n",
       "      <td>15</td>\n",
       "      <td>15</td>\n",
       "      <td>NaN</td>\n",
       "      <td>NaN</td>\n",
       "      <td>NaN</td>\n",
       "      <td>none</td>\n",
       "      <td>HOME&amp;DECOR</td>\n",
       "      <td>HOME &amp; INDUSTRY</td>\n",
       "      <td>MLM-CHRISTMAS_LIGHTS</td>\n",
       "    </tr>\n",
       "    <tr>\n",
       "      <th>23423</th>\n",
       "      <td>2021-07-31</td>\n",
       "      <td>2021-07-31 19:00:00+00:00</td>\n",
       "      <td>2021-08-01 01:00:05+00:00</td>\n",
       "      <td>lightning_deal</td>\n",
       "      <td>5</td>\n",
       "      <td>5</td>\n",
       "      <td>NaN</td>\n",
       "      <td>NaN</td>\n",
       "      <td>NaN</td>\n",
       "      <td>none</td>\n",
       "      <td>BOOKS, MULTIMEDIA &amp; OTHER E!</td>\n",
       "      <td>ENTERTAINMENT</td>\n",
       "      <td>MLM-MUSIC_ALBUMS</td>\n",
       "    </tr>\n",
       "    <tr>\n",
       "      <th>23427</th>\n",
       "      <td>2021-07-31</td>\n",
       "      <td>2021-07-31 19:00:00+00:00</td>\n",
       "      <td>2021-08-01 01:00:05+00:00</td>\n",
       "      <td>lightning_deal</td>\n",
       "      <td>5</td>\n",
       "      <td>5</td>\n",
       "      <td>NaN</td>\n",
       "      <td>NaN</td>\n",
       "      <td>NaN</td>\n",
       "      <td>none</td>\n",
       "      <td>BOOKS, MULTIMEDIA &amp; OTHER E!</td>\n",
       "      <td>ENTERTAINMENT</td>\n",
       "      <td>MLM-MUSIC_ALBUMS</td>\n",
       "    </tr>\n",
       "  </tbody>\n",
       "</table>\n",
       "<p>1708 rows × 13 columns</p>\n",
       "</div>"
      ],
      "text/plain": [
       "      OFFER_START_DATE           OFFER_START_DTTM          OFFER_FINISH_DTTM  \\\n",
       "39626       2021-06-01  2021-06-01 07:00:00+00:00  2021-06-01 13:00:02+00:00   \n",
       "39640       2021-06-01  2021-06-01 07:00:00+00:00  2021-06-01 13:00:02+00:00   \n",
       "39629       2021-06-01  2021-06-01 07:00:00+00:00  2021-06-01 13:00:08+00:00   \n",
       "39630       2021-06-01  2021-06-01 07:00:00+00:00  2021-06-01 13:00:08+00:00   \n",
       "40007       2021-06-01  2021-06-01 07:00:00+00:00  2021-06-01 13:00:08+00:00   \n",
       "...                ...                        ...                        ...   \n",
       "23460       2021-07-31  2021-07-31 16:00:00+00:00  2021-08-01 00:00:00+00:00   \n",
       "24399       2021-07-31  2021-07-31 19:00:00+00:00  2021-08-01 01:00:03+00:00   \n",
       "24401       2021-07-31  2021-07-31 19:00:00+00:00  2021-08-01 01:00:03+00:00   \n",
       "23423       2021-07-31  2021-07-31 19:00:00+00:00  2021-08-01 01:00:05+00:00   \n",
       "23427       2021-07-31  2021-07-31 19:00:00+00:00  2021-08-01 01:00:05+00:00   \n",
       "\n",
       "           OFFER_TYPE  INVOLVED_STOCK  REMAINING_STOCK_AFTER_END  SOLD_AMOUNT  \\\n",
       "39626  lightning_deal               5                          3        47.14   \n",
       "39640  lightning_deal               5                          3        47.14   \n",
       "39629  lightning_deal               5                          4          NaN   \n",
       "39630  lightning_deal               5                          4          NaN   \n",
       "40007  lightning_deal              15                         15          NaN   \n",
       "...               ...             ...                        ...          ...   \n",
       "23460  lightning_deal               5                          5          NaN   \n",
       "24399  lightning_deal              15                         15          NaN   \n",
       "24401  lightning_deal              15                         15          NaN   \n",
       "23423  lightning_deal               5                          5          NaN   \n",
       "23427  lightning_deal               5                          5          NaN   \n",
       "\n",
       "       SOLD_QUANTITY ORIGIN SHIPPING_PAYMENT_TYPE  \\\n",
       "39626            1.0    NaN         free_shipping   \n",
       "39640            1.0    NaN         free_shipping   \n",
       "39629            NaN    NaN         free_shipping   \n",
       "39630            NaN    NaN         free_shipping   \n",
       "40007            NaN    NaN         free_shipping   \n",
       "...              ...    ...                   ...   \n",
       "23460            NaN      A         free_shipping   \n",
       "24399            NaN    NaN                  none   \n",
       "24401            NaN    NaN                  none   \n",
       "23423            NaN    NaN                  none   \n",
       "23427            NaN    NaN                  none   \n",
       "\n",
       "                    DOM_DOMAIN_AGG1         VERTICAL             DOMAIN_ID  \n",
       "39626                     COMPUTERS               CE        MLM-HEADPHONES  \n",
       "39640                     COMPUTERS               CE        MLM-HEADPHONES  \n",
       "39629                     COMPUTERS               CE        MLM-HEADPHONES  \n",
       "39630                     COMPUTERS               CE        MLM-HEADPHONES  \n",
       "40007            APPAREL ACCESORIES     APP & SPORTS        MLM-SUNGLASSES  \n",
       "...                             ...              ...                   ...  \n",
       "23460                   ELECTRONICS               CE            MLM-RANGES  \n",
       "24399                    HOME&DECOR  HOME & INDUSTRY  MLM-CHRISTMAS_LIGHTS  \n",
       "24401                    HOME&DECOR  HOME & INDUSTRY  MLM-CHRISTMAS_LIGHTS  \n",
       "23423  BOOKS, MULTIMEDIA & OTHER E!    ENTERTAINMENT      MLM-MUSIC_ALBUMS  \n",
       "23427  BOOKS, MULTIMEDIA & OTHER E!    ENTERTAINMENT      MLM-MUSIC_ALBUMS  \n",
       "\n",
       "[1708 rows x 13 columns]"
      ]
     },
     "execution_count": 9,
     "metadata": {},
     "output_type": "execute_result"
    }
   ],
   "source": [
    "# Ver duplicados en orden\n",
    "df[df.duplicated(keep=False)].sort_values(by=[col for col in df.columns])"
   ]
  },
  {
   "cell_type": "markdown",
   "id": "39791012-130c-41f7-b419-77f51a146831",
   "metadata": {},
   "source": [
    "# COMPLETAR ANALISIS"
   ]
  },
  {
   "cell_type": "markdown",
   "id": "7203a397-d1b3-411b-b101-538a576d58f8",
   "metadata": {},
   "source": [
    "**Al tener duplicados que son iguales en todas las columnas, se eliminan para evitar redundancia, ya que no aportan información nueva y solo aumentan el tamaño de la tabla.**\n",
    "\n",
    "**Además, al COMPLETAR!"
   ]
  },
  {
   "cell_type": "code",
   "execution_count": 10,
   "id": "870a5368-4af5-411e-a6e7-6603dadc8649",
   "metadata": {},
   "outputs": [
    {
     "data": {
      "text/plain": [
       "48746"
      ]
     },
     "execution_count": 10,
     "metadata": {},
     "output_type": "execute_result"
    }
   ],
   "source": [
    "registros"
   ]
  },
  {
   "cell_type": "code",
   "execution_count": 11,
   "id": "4d3d221f-b496-40ea-80f4-1f8d529ff127",
   "metadata": {},
   "outputs": [],
   "source": [
    "df.drop_duplicates(keep=\"first\", inplace=True)"
   ]
  },
  {
   "cell_type": "code",
   "execution_count": 12,
   "id": "91ca7016-2ed7-4b96-9128-067fd2076afb",
   "metadata": {},
   "outputs": [
    {
     "data": {
      "text/plain": [
       "47820"
      ]
     },
     "execution_count": 12,
     "metadata": {},
     "output_type": "execute_result"
    }
   ],
   "source": [
    "df.shape[0]"
   ]
  },
  {
   "cell_type": "code",
   "execution_count": 13,
   "id": "ca919bc8-ab58-44b8-9cf4-bd2875eaf028",
   "metadata": {},
   "outputs": [
    {
     "data": {
      "text/plain": [
       "False"
      ]
     },
     "execution_count": 13,
     "metadata": {},
     "output_type": "execute_result"
    }
   ],
   "source": [
    "# Verificar que se eliminaron los duplicados\n",
    "df.duplicated(keep=False).any()"
   ]
  },
  {
   "cell_type": "markdown",
   "id": "c366dce8-f9b6-4491-8ba5-78cacc88f5e4",
   "metadata": {},
   "source": [
    "## Evaluar nulos"
   ]
  },
  {
   "cell_type": "code",
   "execution_count": null,
   "id": "8349ad91-292b-4e50-b7a4-d070c9a4bb91",
   "metadata": {},
   "outputs": [],
   "source": []
  },
  {
   "cell_type": "code",
   "execution_count": null,
   "id": "97f0fb12-3fc2-4d8f-9548-3773aac216a8",
   "metadata": {},
   "outputs": [],
   "source": []
  },
  {
   "cell_type": "markdown",
   "id": "9dbd698e-8c2b-48af-974f-01940e3e1c70",
   "metadata": {},
   "source": [
    "## Analizar valores y distribución de variables"
   ]
  },
  {
   "cell_type": "code",
   "execution_count": 14,
   "id": "d46dd54f-77d0-486b-ad5f-d576403ddec5",
   "metadata": {},
   "outputs": [
    {
     "data": {
      "text/plain": [
       "OFFER_START_DATE              object\n",
       "OFFER_START_DTTM              object\n",
       "OFFER_FINISH_DTTM             object\n",
       "OFFER_TYPE                    object\n",
       "INVOLVED_STOCK                 int64\n",
       "REMAINING_STOCK_AFTER_END      int64\n",
       "SOLD_AMOUNT                  float64\n",
       "SOLD_QUANTITY                float64\n",
       "ORIGIN                        object\n",
       "SHIPPING_PAYMENT_TYPE         object\n",
       "DOM_DOMAIN_AGG1               object\n",
       "VERTICAL                      object\n",
       "DOMAIN_ID                     object\n",
       "dtype: object"
      ]
     },
     "execution_count": 14,
     "metadata": {},
     "output_type": "execute_result"
    }
   ],
   "source": [
    "# Ver columnas y tipos de datos\n",
    "df.dtypes"
   ]
  },
  {
   "cell_type": "markdown",
   "id": "dd46d7d9-135e-4872-8d63-17b490cf72ba",
   "metadata": {},
   "source": [
    "### \"OFFER_START_DATE\""
   ]
  },
  {
   "cell_type": "markdown",
   "id": "c1255971-73e9-4d34-90d8-ff2dd6345365",
   "metadata": {},
   "source": [
    "**Columna parece representar las fechas en las cuales inicia cada oferta relámpago.**\n",
    "**Se importó como tipo Object, y es un campo que extrae la fecha sin el timestamp de la columna \"OFFER_START_DTTM\", por lo tanto no es necesario castear a tipo datetime.**"
   ]
  },
  {
   "cell_type": "code",
   "execution_count": 15,
   "id": "4a706b2e-5b01-49f3-b69f-d7f12b49ea06",
   "metadata": {},
   "outputs": [
    {
     "data": {
      "text/plain": [
       "False"
      ]
     },
     "execution_count": 15,
     "metadata": {},
     "output_type": "execute_result"
    }
   ],
   "source": [
    "df[\"OFFER_START_DATE\"].isna().any()"
   ]
  },
  {
   "cell_type": "markdown",
   "id": "ab3212fd-f027-406f-a790-5f2385316650",
   "metadata": {},
   "source": [
    "**No contiene nulos, por lo tanto, cada oferta tiene su inicio.**"
   ]
  },
  {
   "cell_type": "code",
   "execution_count": 16,
   "id": "d69527b4-e48c-4074-b70b-25a8f12d2418",
   "metadata": {},
   "outputs": [
    {
     "name": "stdout",
     "output_type": "stream",
     "text": [
      "Valores únicos: 61\n"
     ]
    },
    {
     "data": {
      "text/plain": [
       "array(['2021-06-01', '2021-06-02', '2021-06-03', '2021-06-04',\n",
       "       '2021-06-05', '2021-06-06', '2021-06-07', '2021-06-08',\n",
       "       '2021-06-09', '2021-06-10', '2021-06-11', '2021-06-12',\n",
       "       '2021-06-13', '2021-06-14', '2021-06-15', '2021-06-16',\n",
       "       '2021-06-17', '2021-06-18', '2021-06-19', '2021-06-20',\n",
       "       '2021-06-21', '2021-06-22', '2021-06-23', '2021-06-24',\n",
       "       '2021-06-25', '2021-06-26', '2021-06-27', '2021-06-28',\n",
       "       '2021-06-29', '2021-06-30', '2021-07-01', '2021-07-02',\n",
       "       '2021-07-03', '2021-07-04', '2021-07-05', '2021-07-06',\n",
       "       '2021-07-07', '2021-07-08', '2021-07-09', '2021-07-10',\n",
       "       '2021-07-11', '2021-07-12', '2021-07-13', '2021-07-14',\n",
       "       '2021-07-15', '2021-07-16', '2021-07-17', '2021-07-18',\n",
       "       '2021-07-19', '2021-07-20', '2021-07-21', '2021-07-22',\n",
       "       '2021-07-23', '2021-07-24', '2021-07-25', '2021-07-26',\n",
       "       '2021-07-27', '2021-07-28', '2021-07-29', '2021-07-30',\n",
       "       '2021-07-31'], dtype=object)"
      ]
     },
     "execution_count": 16,
     "metadata": {},
     "output_type": "execute_result"
    }
   ],
   "source": [
    "print(f\"Valores únicos: {df[\"OFFER_START_DATE\"].nunique()}\")\n",
    "np.sort(df[\"OFFER_START_DATE\"].unique())"
   ]
  },
  {
   "cell_type": "code",
   "execution_count": 17,
   "id": "51aaebe6-f30e-4a2c-873e-bf0ac212e5fd",
   "metadata": {},
   "outputs": [
    {
     "name": "stdout",
     "output_type": "stream",
     "text": [
      "Fecha máxima\n",
      "2021-07-31\n",
      "\n",
      "Fecha mínima\n",
      "2021-06-01\n"
     ]
    }
   ],
   "source": [
    "# Verificar rango de fechas\n",
    "print(\"Fecha máxima\")\n",
    "print(df[\"OFFER_START_DATE\"].max())\n",
    "\n",
    "print(\"\\nFecha mínima\")\n",
    "print(df[\"OFFER_START_DATE\"].min())"
   ]
  },
  {
   "cell_type": "markdown",
   "id": "1a630c0c-a17b-43ca-a84d-96452d3799cd",
   "metadata": {},
   "source": [
    "**La fecha de inicio de las ofertas relámpago cubre el período de 2 meses, junio y julio del 2021.**\n",
    "\n",
    "**La ventana de estos 2 meses abarca el cambio de otoño a invierno en Argentina, posiblemente influenciando las categorías y productos de las ofertas.**\n",
    "\n",
    "**Además, el rango toma casi la totalidad de las vacaciones de invierno en Argentina (21 hasta 30 de julio), posiblemente apuntando a la mayor disponibilidad horaria de niños, adolescentes y adultos (profesores, padres/madres y trabajadores que se tomen vacaciones en esta época).**\n",
    "\n",
    "**En caso que el dataset tome datos de otro país, sería relevante entender si las vacaciones de invierno suceden en la misma ventana de tiempo o similar.**"
   ]
  },
  {
   "cell_type": "code",
   "execution_count": 23,
   "id": "c094b0a2-3179-4b55-b1d6-86c1e8c05167",
   "metadata": {},
   "outputs": [
    {
     "data": {
      "text/plain": [
       "OFFER_START_DATE\n",
       "2021-07-30    1290\n",
       "2021-07-29    1285\n",
       "2021-07-08    1219\n",
       "2021-07-31    1201\n",
       "2021-07-28    1196\n",
       "              ... \n",
       "2021-06-07     411\n",
       "2021-06-06     410\n",
       "2021-06-09     363\n",
       "2021-06-08     312\n",
       "2021-06-30     250\n",
       "Name: count, Length: 61, dtype: int64"
      ]
     },
     "execution_count": 23,
     "metadata": {},
     "output_type": "execute_result"
    }
   ],
   "source": [
    "# Observar frecuencia de fechas\n",
    "frec_offer_start_date = pd.to_datetime(df[\"OFFER_START_DATE\"]).value_counts()\n",
    "frec_offer_start_date"
   ]
  },
  {
   "cell_type": "markdown",
   "id": "a53704b2-84fa-4463-a436-fcb34e65c9f6",
   "metadata": {},
   "source": [
    "**El 30 de julio del 2021 fue cuando más ofertas únicas comenzaron, seguido del 29, 8, 31 y 28 del mismo mes y año.**\n",
    "\n",
    "**De las primeras 5 fechas más frecuentes, 4 fechas caen durante las vacaciones de invierno en Argentina, posiblemente apuntando a maximizar ventas a partir de ofertas, aprovechando las vacaciones.**\n",
    "\n",
    "**Es relevante evaluar posteriormente, al analizar las otras variables, si las ventas efectivamente aumentan en el rango de las vacaciones de invierno, para poder confirmar el potencial comportamiento de los clientes, para finalmente recomendar campañas de marketing y ofertas durante esta época.**\n",
    "\n",
    "**Las 5 fechas menos frecuentes suceden todas en junio, posiblemente indicando que los clientes prefieren comprar cerca de sus vacaciones.**\n",
    "\n",
    "**Por otro lado, sería relevante evaluar otros meses del año, para tener un mejor entendimiento del comportamiento de compra de los clientes. Además, a la hora de realizar un modelo de Machine Learning, entrenado exclusivamente con estos datos, podría generalizar mal al sobreestimar la demanda en meses que estén fuera de vacaciones.**"
   ]
  },
  {
   "cell_type": "markdown",
   "id": "a7145631-fb0d-4902-bdd3-79078a01c95b",
   "metadata": {},
   "source": [
    "**Además, al observar que las fechas con el menor inicio de ofertas ocurren en junio, indica la existencia de una oportunidad para intentar aumentar las ventas en junio, debido a la diferencia competitiva entre meses. Se podrían aumentar las ofertas para evaluar posteriormente la efectividad de ofrecer ofertas previas a las vacaciones. Es posible que si hay pocas ofertas, exista una relación con un comportamiento de los usuarios donde esperan los descuentos en julio.**"
   ]
  },
  {
   "cell_type": "code",
   "execution_count": 72,
   "id": "99c1298a-6fbd-47b7-af92-81529ec46fc3",
   "metadata": {},
   "outputs": [
    {
     "data": {
      "image/png": "[encoded data removed]",
      "text/plain": [
       "<Figure size 1000x500 with 1 Axes>"
      ]
     },
     "metadata": {},
     "output_type": "display_data"
    }
   ],
   "source": [
    "# Evaluar distribución de \"OFFER_START_DATE\"\n",
    "plt.figure(figsize=(10,5))\n",
    "plt.title(\"Frecuencia de fechas de inicio de ofertas\")\n",
    "plt.xlabel(\"Fecha\")\n",
    "plt.ylabel(\"Frecuencia\")\n",
    "plt.xticks(rotation=45)\n",
    "sns.lineplot(x=frec_offer_start_date.index, y=frec_offer_start_date.values);"
   ]
  },
  {
   "cell_type": "markdown",
   "id": "dd17f736-70fd-4ad3-aab7-e624d72781e0",
   "metadata": {},
   "source": [
    "# COMPLETAR ANALISIS!"
   ]
  },
  {
   "cell_type": "markdown",
   "id": "31e6f0db-720b-439c-9b1f-0dba594289e7",
   "metadata": {},
   "source": [
    "**El gráfico indica una tendencia creciente en la segunda mitad de junio y a lo largo de julio.**\n",
    "\n",
    "COMPLETAR!"
   ]
  },
  {
   "cell_type": "code",
   "execution_count": 53,
   "id": "bdf782d1-f41a-4aa9-adfd-c8e7828836b5",
   "metadata": {},
   "outputs": [],
   "source": [
    "# COMPARAR DIFERENCIAS ENTRE JUNIO Y JULIO!"
   ]
  },
  {
   "cell_type": "markdown",
   "id": "7cd38eee-f5b8-4cd5-8b6d-943e004d4dba",
   "metadata": {},
   "source": [
    "### \"OFFER_START_DTTM\""
   ]
  },
  {
   "cell_type": "markdown",
   "id": "1ae0d12f-3f5e-4612-b873-9f2e99dfb1bc",
   "metadata": {},
   "source": [
    "**La columna \"OFFER_START_DTTM\" parece ser la columna original, idéntica a \"OFFER_START_DATE\" pero con el horario (timestamp) incluído. Permitiría analizar las horas en las cuales se lanzan más ofertas.**"
   ]
  },
  {
   "cell_type": "code",
   "execution_count": 42,
   "id": "ce2a590d-681b-4a35-a8e7-ce044be4a45d",
   "metadata": {},
   "outputs": [
    {
     "data": {
      "text/html": [
       "<div>\n",
       "<style scoped>\n",
       "    .dataframe tbody tr th:only-of-type {\n",
       "        vertical-align: middle;\n",
       "    }\n",
       "\n",
       "    .dataframe tbody tr th {\n",
       "        vertical-align: top;\n",
       "    }\n",
       "\n",
       "    .dataframe thead th {\n",
       "        text-align: right;\n",
       "    }\n",
       "</style>\n",
       "<table border=\"1\" class=\"dataframe\">\n",
       "  <thead>\n",
       "    <tr style=\"text-align: right;\">\n",
       "      <th></th>\n",
       "      <th>OFFER_START_DATE</th>\n",
       "      <th>OFFER_START_DTTM</th>\n",
       "    </tr>\n",
       "  </thead>\n",
       "  <tbody>\n",
       "    <tr>\n",
       "      <th>0</th>\n",
       "      <td>2021-06-22</td>\n",
       "      <td>2021-06-22 16:00:00+00:00</td>\n",
       "    </tr>\n",
       "    <tr>\n",
       "      <th>1</th>\n",
       "      <td>2021-06-22</td>\n",
       "      <td>2021-06-22 13:00:00+00:00</td>\n",
       "    </tr>\n",
       "    <tr>\n",
       "      <th>2</th>\n",
       "      <td>2021-06-22</td>\n",
       "      <td>2021-06-22 07:00:00+00:00</td>\n",
       "    </tr>\n",
       "    <tr>\n",
       "      <th>3</th>\n",
       "      <td>2021-06-22</td>\n",
       "      <td>2021-06-22 19:00:00+00:00</td>\n",
       "    </tr>\n",
       "    <tr>\n",
       "      <th>4</th>\n",
       "      <td>2021-06-22</td>\n",
       "      <td>2021-06-22 13:00:00+00:00</td>\n",
       "    </tr>\n",
       "    <tr>\n",
       "      <th>...</th>\n",
       "      <td>...</td>\n",
       "      <td>...</td>\n",
       "    </tr>\n",
       "    <tr>\n",
       "      <th>48741</th>\n",
       "      <td>2021-06-19</td>\n",
       "      <td>2021-06-19 13:00:00+00:00</td>\n",
       "    </tr>\n",
       "    <tr>\n",
       "      <th>48742</th>\n",
       "      <td>2021-06-19</td>\n",
       "      <td>2021-06-19 13:00:00+00:00</td>\n",
       "    </tr>\n",
       "    <tr>\n",
       "      <th>48743</th>\n",
       "      <td>2021-06-19</td>\n",
       "      <td>2021-06-19 07:00:00+00:00</td>\n",
       "    </tr>\n",
       "    <tr>\n",
       "      <th>48744</th>\n",
       "      <td>2021-06-19</td>\n",
       "      <td>2021-06-19 13:00:00+00:00</td>\n",
       "    </tr>\n",
       "    <tr>\n",
       "      <th>48745</th>\n",
       "      <td>2021-06-19</td>\n",
       "      <td>2021-06-19 13:00:00+00:00</td>\n",
       "    </tr>\n",
       "  </tbody>\n",
       "</table>\n",
       "<p>47820 rows × 2 columns</p>\n",
       "</div>"
      ],
      "text/plain": [
       "      OFFER_START_DATE           OFFER_START_DTTM\n",
       "0           2021-06-22  2021-06-22 16:00:00+00:00\n",
       "1           2021-06-22  2021-06-22 13:00:00+00:00\n",
       "2           2021-06-22  2021-06-22 07:00:00+00:00\n",
       "3           2021-06-22  2021-06-22 19:00:00+00:00\n",
       "4           2021-06-22  2021-06-22 13:00:00+00:00\n",
       "...                ...                        ...\n",
       "48741       2021-06-19  2021-06-19 13:00:00+00:00\n",
       "48742       2021-06-19  2021-06-19 13:00:00+00:00\n",
       "48743       2021-06-19  2021-06-19 07:00:00+00:00\n",
       "48744       2021-06-19  2021-06-19 13:00:00+00:00\n",
       "48745       2021-06-19  2021-06-19 13:00:00+00:00\n",
       "\n",
       "[47820 rows x 2 columns]"
      ]
     },
     "execution_count": 42,
     "metadata": {},
     "output_type": "execute_result"
    }
   ],
   "source": [
    "df[[\"OFFER_START_DATE\", \"OFFER_START_DTTM\"]]"
   ]
  },
  {
   "cell_type": "markdown",
   "id": "461b820a-b079-400b-b238-d3cdf3a135bf",
   "metadata": {},
   "source": [
    "**Se verifica que ambos campos sean iguales, exceptuando el horario, para confirmar que \"OFFER_START_DATE\" fue generado a partir de \"OFFER_START_DTTM\", y que no existan potenciales errores de typeo, en caso de venir de algún CRM o software similar.**"
   ]
  },
  {
   "cell_type": "code",
   "execution_count": 34,
   "id": "e96256a2-91cc-4964-abb8-24784bb49f09",
   "metadata": {},
   "outputs": [
    {
     "data": {
      "text/plain": [
       "0    2021-06-22\n",
       "1    2021-06-22\n",
       "2    2021-06-22\n",
       "Name: OFFER_START_DTTM_DATE, dtype: object"
      ]
     },
     "execution_count": 34,
     "metadata": {},
     "output_type": "execute_result"
    }
   ],
   "source": [
    "# Convertir columna \"OFFER_START_DTTM\" a tipo Datetime\n",
    "df[\"OFFER_START_DTTM\"] = pd.to_datetime(df[\"OFFER_START_DTTM\"])\n",
    "\n",
    "# Crear columna para verificación\n",
    "df[\"OFFER_START_DTTM_DATE\"] = df[\"OFFER_START_DTTM\"].copy()\n",
    "\n",
    "# Extraer fecha sin timestamp\n",
    "df[\"OFFER_START_DTTM_DATE\"] = df[\"OFFER_START_DTTM_DATE\"].dt.date\n",
    "\n",
    "# Verificar\n",
    "df[\"OFFER_START_DTTM_DATE\"].head(3)"
   ]
  },
  {
   "cell_type": "code",
   "execution_count": 51,
   "id": "dc3c9a6b-ac58-4eeb-8e8a-51f524be0621",
   "metadata": {},
   "outputs": [
    {
     "data": {
      "text/plain": [
       "False"
      ]
     },
     "execution_count": 51,
     "metadata": {},
     "output_type": "execute_result"
    }
   ],
   "source": [
    "# Evaluar si existen diferencias\n",
    "(pd.to_datetime(df[\"OFFER_START_DATE\"]) != df[\"OFFER_START_DTTM_DATE\"]).any()"
   ]
  },
  {
   "cell_type": "code",
   "execution_count": 52,
   "id": "39652889-6394-44d7-8d03-384080b6f7fd",
   "metadata": {},
   "outputs": [
    {
     "name": "stdout",
     "output_type": "stream",
     "text": [
      "Index(['OFFER_START_DATE', 'OFFER_START_DTTM', 'OFFER_FINISH_DTTM',\n",
      "       'OFFER_TYPE', 'INVOLVED_STOCK', 'REMAINING_STOCK_AFTER_END',\n",
      "       'SOLD_AMOUNT', 'SOLD_QUANTITY', 'ORIGIN', 'SHIPPING_PAYMENT_TYPE',\n",
      "       'DOM_DOMAIN_AGG1', 'VERTICAL', 'DOMAIN_ID', 'OFFER_START_DTTM_DATE'],\n",
      "      dtype='object')\n"
     ]
    },
    {
     "data": {
      "text/plain": [
       "Index(['OFFER_START_DATE', 'OFFER_START_DTTM', 'OFFER_FINISH_DTTM',\n",
       "       'OFFER_TYPE', 'INVOLVED_STOCK', 'REMAINING_STOCK_AFTER_END',\n",
       "       'SOLD_AMOUNT', 'SOLD_QUANTITY', 'ORIGIN', 'SHIPPING_PAYMENT_TYPE',\n",
       "       'DOM_DOMAIN_AGG1', 'VERTICAL', 'DOMAIN_ID'],\n",
       "      dtype='object')"
      ]
     },
     "execution_count": 52,
     "metadata": {},
     "output_type": "execute_result"
    }
   ],
   "source": [
    "# Imprimir columnas\n",
    "print(df.columns)\n",
    "\n",
    "# Droppear columna adicional\n",
    "df.drop(columns=\"OFFER_START_DTTM_DATE\", inplace=True)\n",
    "\n",
    "# Verificar\n",
    "df.columns"
   ]
  },
  {
   "cell_type": "markdown",
   "id": "33140346-c3e4-4f92-9d00-cd379ec47c47",
   "metadata": {},
   "source": [
    "**Debido a que el campo es exactamente igual a \"OFFER_START_DATE\", se creará un campo para evaluar posteriormente los horarios donde se publican las ofertas.**"
   ]
  },
  {
   "cell_type": "markdown",
   "id": "a4db1368-f158-4394-8637-19c3d7b43bfe",
   "metadata": {},
   "source": [
    "**Se extrae exclusivamente la hora, ya que los minutos agregarían más granularidad innecesaria, generando 60 categorías adicionales (0 a 59), mientras que con las horas, existen 24 categorías (0 a 23).**\n",
    "\n",
    "**Extraer el horario permitiría entender si hay más ofertas a la mañana, a la tarde o a la noche, además de horarios populares, para entender patrones.**"
   ]
  },
  {
   "cell_type": "markdown",
   "id": "bf434667-53fa-43fb-8358-bf1be0f23f42",
   "metadata": {},
   "source": [
    "**Posteriormente sería interesante entender en qué horarios se vende más, para recomendar lanzar más campañas en esos horarios.**"
   ]
  },
  {
   "cell_type": "code",
   "execution_count": 60,
   "id": "890ce909-7c1c-443c-a427-f0ee5c931995",
   "metadata": {},
   "outputs": [
    {
     "data": {
      "text/plain": [
       "0    16\n",
       "1    13\n",
       "2     7\n",
       "Name: OFFER_START_DTTM_H, dtype: int32"
      ]
     },
     "execution_count": 60,
     "metadata": {},
     "output_type": "execute_result"
    }
   ],
   "source": [
    "# Crear columna con timestamp\n",
    "df[\"OFFER_START_DTTM_H\"] = df[\"OFFER_START_DTTM\"].copy()\n",
    "df[\"OFFER_START_DTTM_H\"] = df[\"OFFER_START_DTTM_H\"].dt.hour\n",
    "\n",
    "# Verificar\n",
    "df[\"OFFER_START_DTTM_H\"].head(3)"
   ]
  },
  {
   "cell_type": "code",
   "execution_count": 62,
   "id": "a0803b35-6d74-4d42-aa9f-33b1d0515c05",
   "metadata": {},
   "outputs": [
    {
     "data": {
      "text/plain": [
       "24"
      ]
     },
     "execution_count": 62,
     "metadata": {},
     "output_type": "execute_result"
    }
   ],
   "source": [
    "# Cantidad de horarios en la columna\n",
    "df[\"OFFER_START_DTTM_H\"].nunique()"
   ]
  },
  {
   "cell_type": "code",
   "execution_count": 63,
   "id": "254a5ef9-b0a5-45b5-a53d-281e819ad1a4",
   "metadata": {},
   "outputs": [
    {
     "data": {
      "text/plain": [
       "OFFER_START_DTTM_H\n",
       "13    14103\n",
       "19    12725\n",
       "7     12367\n",
       "12     2127\n",
       "17     1308\n",
       "11     1230\n",
       "15     1166\n",
       "14      939\n",
       "16      786\n",
       "10      375\n",
       "18      314\n",
       "20      105\n",
       "9        79\n",
       "8        53\n",
       "1        52\n",
       "21       41\n",
       "22       18\n",
       "6        10\n",
       "3         8\n",
       "2         7\n",
       "23        4\n",
       "0         1\n",
       "5         1\n",
       "4         1\n",
       "Name: count, dtype: int64"
      ]
     },
     "execution_count": 63,
     "metadata": {},
     "output_type": "execute_result"
    }
   ],
   "source": [
    "# Evaluar horarios más populares\n",
    "frec_offer_start_h = df[\"OFFER_START_DTTM_H\"].value_counts()\n",
    "frec_offer_start_h"
   ]
  },
  {
   "cell_type": "markdown",
   "id": "95786211-7ca7-4b94-928e-ae5c542e308d",
   "metadata": {},
   "source": [
    "**Se puede observar que los 3 horarios más populares son a las 13hs, 19hs y 7hs.**\n",
    "\n",
    "**Esto se puede deber potencialmente a que el horario del almuerzo le da mayor libertad a los clientes y les permite navegar, ver ofertas, y comprar, por lo tanto, las ofertas relámpago apuntan a este horario.**"
   ]
  },
  {
   "cell_type": "markdown",
   "id": "638ec790-6a34-400a-8dd6-52702390ddaa",
   "metadata": {},
   "source": [
    "**A las 19hs, las ofertas apuntan a los clientes que salen de la jornada laboral o estudiantil, mientras que a las 7hs se pueden lanzar ofertas que apunten a usuarios que estén desayunando o se estén desplazando al trabajo, universidad o colegio, mientras revisan celular o la computadora.**"
   ]
  },
  {
   "cell_type": "markdown",
   "id": "ac6911e6-c74c-4fd5-ac2d-b2863666e555",
   "metadata": {},
   "source": [
    "**Los horarios menos populares son a la noche tarde o a la madrugada, entre las 20 y 6hs, donde es racional estimar una actividad baja por parte de los usuarios, ya que seguramente se encuentren cenando o durmiendo.**"
   ]
  },
  {
   "cell_type": "code",
   "execution_count": 73,
   "id": "f36c5a9d-e575-4384-a6c9-168782663b30",
   "metadata": {},
   "outputs": [
    {
     "data": {
      "image/png": "[encoded data removed]",
      "text/plain": [
       "<Figure size 1000x500 with 1 Axes>"
      ]
     },
     "metadata": {},
     "output_type": "display_data"
    }
   ],
   "source": [
    "# Evaluar distribución de \"OFFER_START_DTTM_H\"\n",
    "plt.figure(figsize=(10,5))\n",
    "plt.title(\"Frecuencia de horarios de inicio de ofertas\")\n",
    "plt.xlabel(\"Hora\")\n",
    "plt.ylabel(\"Frecuencia\")\n",
    "sns.barplot(x=frec_offer_start_h.index, y=frec_offer_start_h.values);"
   ]
  },
  {
   "cell_type": "markdown",
   "id": "a259e06b-0100-41db-bed7-3fe385adb11e",
   "metadata": {},
   "source": [
    "**El gráfico expone y apoya lo discutido anteriormente, sobre los picos de lanzamiento de ofertas a la mañana, mediodía y noche (7, 13 y 19hs), y demuestra de forma visual los horarios menos populares para ofrecer ofertas (entre las 20 y 6hs).**"
   ]
  },
  {
   "cell_type": "markdown",
   "id": "7f56a311-5df2-4880-9530-f2ee5a66850d",
   "metadata": {},
   "source": [
    "# VER DIFERENCIAS DE HORARIOS ENTRE JUNIO Y JULIO, POR VACACIONES!"
   ]
  },
  {
   "cell_type": "markdown",
   "id": "ca54b725-503f-4259-9668-de8dab128d30",
   "metadata": {},
   "source": [
    "### \"OFFER_FINISH_DTTM\""
   ]
  },
  {
   "cell_type": "markdown",
   "id": "3ffdeae0-b59b-4b9e-99f0-280818981387",
   "metadata": {},
   "source": [
    "# EVALUAR FECHAS, Y LUEGO HORARIOS, LUEGO EVALUAR COMPARAR CON VENTAS EN OTRA SECCION!"
   ]
  },
  {
   "cell_type": "markdown",
   "id": "992a9edc-11d7-4fb2-ad72-52a1a07e51e9",
   "metadata": {},
   "source": [
    "### \"OFFER_TYPE\""
   ]
  },
  {
   "cell_type": "code",
   "execution_count": 81,
   "id": "983121ac-7515-4990-8198-07036ebe9949",
   "metadata": {},
   "outputs": [
    {
     "data": {
      "text/plain": [
       "OFFER_TYPE\n",
       "lightning_deal    47820\n",
       "Name: count, dtype: int64"
      ]
     },
     "execution_count": 81,
     "metadata": {},
     "output_type": "execute_result"
    }
   ],
   "source": [
    "df[\"OFFER_TYPE\"].value_counts()"
   ]
  },
  {
   "cell_type": "markdown",
   "id": "b794b3aa-a327-4f6a-aab9-0d80ae8d84bb",
   "metadata": {},
   "source": [
    "**La columna \"OFFER_TYPE\" contiene solamente el valor \"lightning_deal\", también conocido como oférta relámpago. Posiblemente este valor haya ayudado a extraer esta muestra de una base de datos más aplia, junto con el rango de tiempo.**\n",
    "\n",
    "**En este dataset, esta columna con un solo dato no aportaría valor para un modelo de Machine Learning y se droppearía o ignoraría.**"
   ]
  },
  {
   "cell_type": "markdown",
   "id": "99b46c0b-96cb-48b3-b620-4ab097dee19b",
   "metadata": {},
   "source": [
    "### \"INVOLVED_STOCK\""
   ]
  },
  {
   "cell_type": "markdown",
   "id": "992ed49b-c834-4e26-8a72-17b52cfebb37",
   "metadata": {},
   "source": [
    "**La columna \"INVOLVED_STOCK\" indica la cantidad de unidades (en integers) que el producto en la oferta relámpago tiene disponible para este tipo de oferta.**"
   ]
  },
  {
   "cell_type": "markdown",
   "id": "9c05be5a-a818-47a5-a587-f4478759bc30",
   "metadata": {},
   "source": [
    "**Sería interesante entender si la cantidad de unidades disponible influye en el comportamiento de los clientes a la hora de comprar, en el caso de que una oferta al tener una menor cantidad de unidades disponibles, genere cierta sensación de urgencia en el usuario y lo empuje a comprar.**"
   ]
  },
  {
   "cell_type": "code",
   "execution_count": 109,
   "id": "9af6dd6b-387a-4e4c-ae0d-ac08295b4ad2",
   "metadata": {},
   "outputs": [
    {
     "data": {
      "text/plain": [
       "INVOLVED_STOCK\n",
       "5      17868\n",
       "15     16676\n",
       "10      3198\n",
       "20       784\n",
       "8        569\n",
       "       ...  \n",
       "165        1\n",
       "599        1\n",
       "699        1\n",
       "675        1\n",
       "436        1\n",
       "Name: count, Length: 505, dtype: int64"
      ]
     },
     "execution_count": 109,
     "metadata": {},
     "output_type": "execute_result"
    }
   ],
   "source": [
    "frec_involved_stock = df[\"INVOLVED_STOCK\"].value_counts(dropna=False)\n",
    "frec_involved_stock"
   ]
  },
  {
   "cell_type": "code",
   "execution_count": 83,
   "id": "2037fed6-d27b-42f2-b6a3-8236903ef91c",
   "metadata": {},
   "outputs": [
    {
     "data": {
      "text/plain": [
       "505"
      ]
     },
     "execution_count": 83,
     "metadata": {},
     "output_type": "execute_result"
    }
   ],
   "source": [
    "df[\"INVOLVED_STOCK\"].nunique()"
   ]
  },
  {
   "cell_type": "code",
   "execution_count": 118,
   "id": "93dc1509-e79c-4b00-973d-c33fb70ad9d2",
   "metadata": {},
   "outputs": [],
   "source": [
    "# Filtrar por cantidad de unidades que ocurran por lo menos 30 veces, para poder visualizar en el gráfico\n",
    "umbral = 30\n",
    "frec_involved_stock_umbral = frec_involved_stock[frec_involved_stock >= umbral]"
   ]
  },
  {
   "cell_type": "code",
   "execution_count": 119,
   "id": "b90c670d-6e2d-4299-8cde-91a9bef58c40",
   "metadata": {},
   "outputs": [
    {
     "data": {
      "image/png": "[encoded data removed]",
      "text/plain": [
       "<Figure size 1000x500 with 1 Axes>"
      ]
     },
     "metadata": {},
     "output_type": "display_data"
    }
   ],
   "source": [
    "# Graficar distribución de \"INVOLVED_STOCK\"\n",
    "plt.figure(figsize=(10,5))\n",
    "plt.title(\"Distribución de unidades disponibles en oferta\")\n",
    "plt.xlabel(\"Cantidad de unidades\")\n",
    "plt.ylabel(\"Frecuencia\")\n",
    "plt.xticks(rotation=90)\n",
    "sns.barplot(x=frec_involved_stock_umbral.index, y=frec_involved_stock_umbral.values);"
   ]
  },
  {
   "cell_type": "markdown",
   "id": "90979a43-f48c-4b4a-88f7-7c9cf127cb8c",
   "metadata": {},
   "source": [
    "**Los picos están en 5 y 15 unidades, seguidos de 10 unidades, con una diferencia bastante significativa. Esto podría indicar que es frecuente cargar una cantidad de unidades que sean múltiplos de 5, en ofertas relámpago.**\n",
    "\n",
    "**Habría que investigarlo, pero es posible que sea una estrategia comercial para simplificar compras, al tratar de incentivar compras en packs o conjuntos de 5, 10 o 15 unidades. Además, es posible que estas ofertas sean por volumen.**\n",
    "\n",
    "**Por otro lado, hay muchos valores extremos (de unidades) con bajas frecuencias. Al tener frecuencias muy bajas, son casos extremos aislados, que dificultaron la visualización, por lo tanto se tuvo que fijar un umbral en la frecuencia por cada valor en la cantidad de unidades, en 30.**"
   ]
  },
  {
   "cell_type": "code",
   "execution_count": 126,
   "id": "43bbb050-527d-4b6b-a54c-57b8ca625ffa",
   "metadata": {},
   "outputs": [
    {
     "data": {
      "image/png": "[encoded data removed]",
      "text/plain": [
       "<Figure size 1000x500 with 1 Axes>"
      ]
     },
     "metadata": {},
     "output_type": "display_data"
    }
   ],
   "source": [
    "# Observar outliers\n",
    "plt.figure(figsize=(10,5))\n",
    "plt.title(\"Distribución de unidades disponibles en oferta\")\n",
    "plt.xlabel(\"Cantidad de unidades\")\n",
    "plt.ylabel(\"Frecuencia\")\n",
    "plt.xticks(rotation=90)\n",
    "sns.boxplot(x=frec_involved_stock_umbral);"
   ]
  },
  {
   "cell_type": "markdown",
   "id": "f68ad1b5-8391-4490-a82d-0337680d6fc5",
   "metadata": {},
   "source": [
    "**El boxplot refuerza el concepto de que hay una cantidad de outliers en términos de cantidades de unidades. Es posible que en muchos casos se trate de error de typeo, o una apuesta masiva a la venta de alguna oferta durante la época de vacaciones de invierno.**"
   ]
  },
  {
   "cell_type": "code",
   "execution_count": 130,
   "id": "31c2a99f-7bfb-4d80-b4bc-cece26516634",
   "metadata": {},
   "outputs": [
    {
     "data": {
      "text/plain": [
       "count    47820.000000\n",
       "mean        35.153095\n",
       "std        208.339376\n",
       "min          1.000000\n",
       "25%          5.000000\n",
       "50%         10.000000\n",
       "75%         15.000000\n",
       "max       9000.000000\n",
       "Name: INVOLVED_STOCK, dtype: float64"
      ]
     },
     "execution_count": 130,
     "metadata": {},
     "output_type": "execute_result"
    }
   ],
   "source": [
    "# Observar estadísticas descriptivas\n",
    "involved_stock_estadisticas = df[\"INVOLVED_STOCK\"].describe()\n",
    "involved_stock_estadisticas"
   ]
  },
  {
   "cell_type": "markdown",
   "id": "7eb0b36d-8e0e-42ca-a706-6ee326cfef13",
   "metadata": {},
   "source": [
    "**Se puede observar que en términos de stock, la media es de aproximadamente 35, mientras que el Q1, la mediana y el Q3 son de 5, 10 y 15 unidades respectivamente, los picos, reforzando el concepto que la media está influenciada por los outliers en términos de stock.** "
   ]
  },
  {
   "cell_type": "code",
   "execution_count": 134,
   "id": "36b4c946-683b-4236-b7c1-5c121fb23b8f",
   "metadata": {},
   "outputs": [
    {
     "name": "stdout",
     "output_type": "stream",
     "text": [
      "Rango intercuartil: 10.00\n",
      "Punto de corte superior para outliers: 30.00\n",
      "Punto de corte inferior para outliers: -10.00\n"
     ]
    }
   ],
   "source": [
    "# Calcular rango intercuartil\n",
    "iqr_involved_stock = involved_stock_estadisticas.loc[\"75%\"] - involved_stock_estadisticas.loc[\"25%\"]\n",
    "\n",
    "# Calcular punto de corte superior para outliers\n",
    "punto_corte_superior_involved_stock = involved_stock_estadisticas.loc[\"75%\"] + iqr_involved_stock * 1.5\n",
    "\n",
    "# Calcular punto de corte inferior para outliers\n",
    "punto_corte_inferior_involved_stock = involved_stock_estadisticas.loc[\"25%\"] - iqr_involved_stock * 1.5\n",
    "\n",
    "# Imprimir rango intercuartil y punto de corte superior e inferior\n",
    "print(f\"Rango intercuartil: {iqr_involved_stock:.2f}\")\n",
    "print(f\"Punto de corte superior para outliers: {punto_corte_superior_involved_stock:.2f}\")\n",
    "print(f\"Punto de corte inferior para outliers: {punto_corte_inferior_involved_stock:.2f}\")"
   ]
  },
  {
   "cell_type": "markdown",
   "id": "d4997437-9895-40a0-bede-6ced2b4529a3",
   "metadata": {},
   "source": [
    "**Se puede observar que el stock a partir de las 30 unidades por oferta relámpago es considerado un valor extremo.**"
   ]
  },
  {
   "cell_type": "code",
   "execution_count": null,
   "id": "54de0e9f-890f-4e64-8444-1b9221fe872d",
   "metadata": {},
   "outputs": [],
   "source": []
  },
  {
   "cell_type": "markdown",
   "id": "6fc8c00d-20b1-4030-86e7-f89c07e6fb8c",
   "metadata": {},
   "source": [
    "### \"REMAINING_STOCK_AFTER_END\""
   ]
  },
  {
   "cell_type": "code",
   "execution_count": 138,
   "id": "1081c3a2-f2ad-4576-8dc8-eb06536be378",
   "metadata": {},
   "outputs": [
    {
     "data": {
      "text/plain": [
       "REMAINING_STOCK_AFTER_END\n",
       "5       9666\n",
       "15      7010\n",
       "4       3673\n",
       "0       2961\n",
       "14      2750\n",
       "        ... \n",
       "853        1\n",
       "1459       1\n",
       "220        1\n",
       "3918       1\n",
       "1730       1\n",
       "Name: count, Length: 801, dtype: int64"
      ]
     },
     "execution_count": 138,
     "metadata": {},
     "output_type": "execute_result"
    }
   ],
   "source": [
    "df[\"REMAINING_STOCK_AFTER_END\"].value_counts()"
   ]
  },
  {
   "cell_type": "code",
   "execution_count": null,
   "id": "53ee435c-85d6-4a12-b56c-d33a72df2646",
   "metadata": {},
   "outputs": [],
   "source": []
  },
  {
   "cell_type": "code",
   "execution_count": null,
   "id": "4212438d-b196-4b9d-aaf2-9981db1965e1",
   "metadata": {},
   "outputs": [],
   "source": []
  },
  {
   "cell_type": "markdown",
   "id": "45ce1293-fd65-4b47-afca-4e697c0e2d70",
   "metadata": {},
   "source": [
    "### \"SOLD_AMOUNT\""
   ]
  },
  {
   "cell_type": "code",
   "execution_count": null,
   "id": "77de2059-097b-426c-90e0-d91740d1e930",
   "metadata": {},
   "outputs": [],
   "source": []
  },
  {
   "cell_type": "code",
   "execution_count": null,
   "id": "810b9ec4-fde1-4495-bf9a-17390b1571ab",
   "metadata": {},
   "outputs": [],
   "source": []
  },
  {
   "cell_type": "code",
   "execution_count": null,
   "id": "2e27375a-5ab4-4032-a7f4-822d2b40ce22",
   "metadata": {},
   "outputs": [],
   "source": []
  },
  {
   "cell_type": "markdown",
   "id": "e4bb78f7-16d7-427e-806c-9ca113a3df2f",
   "metadata": {},
   "source": [
    "### \"SOLD_QUANTITY\""
   ]
  },
  {
   "cell_type": "code",
   "execution_count": null,
   "id": "d4dba50c-dadb-438d-abdd-150232c8417c",
   "metadata": {},
   "outputs": [],
   "source": []
  },
  {
   "cell_type": "code",
   "execution_count": null,
   "id": "fd999c54-b7cc-4168-b6b8-f93bef0cc97c",
   "metadata": {},
   "outputs": [],
   "source": []
  },
  {
   "cell_type": "code",
   "execution_count": null,
   "id": "d8992009-5ebf-4828-a6b5-cd0920a722d7",
   "metadata": {},
   "outputs": [],
   "source": []
  },
  {
   "cell_type": "markdown",
   "id": "a88bb6ee-1221-4aa6-af2d-13372f79de2b",
   "metadata": {},
   "source": [
    "### \"ORIGIN\""
   ]
  },
  {
   "cell_type": "code",
   "execution_count": null,
   "id": "2f76f1f6-23ab-4945-bbe2-ea86c9b8ae26",
   "metadata": {},
   "outputs": [],
   "source": []
  },
  {
   "cell_type": "code",
   "execution_count": null,
   "id": "c5fede7e-ecbf-414e-8577-1c0c652d12c2",
   "metadata": {},
   "outputs": [],
   "source": []
  },
  {
   "cell_type": "markdown",
   "id": "ad8df204-7d8a-4099-8327-1e5fd10f4026",
   "metadata": {},
   "source": [
    "### \"SHIPPING_PAYMENT_TYPE\""
   ]
  },
  {
   "cell_type": "code",
   "execution_count": null,
   "id": "459f4396-ade1-4419-8e60-d75aec7b6d94",
   "metadata": {},
   "outputs": [],
   "source": []
  },
  {
   "cell_type": "code",
   "execution_count": null,
   "id": "27b50388-a877-46da-a6d9-e285a7b8ae21",
   "metadata": {},
   "outputs": [],
   "source": []
  },
  {
   "cell_type": "code",
   "execution_count": null,
   "id": "8bc556c6-034b-4ee3-a24a-2e49152bc3d7",
   "metadata": {},
   "outputs": [],
   "source": []
  },
  {
   "cell_type": "markdown",
   "id": "e607eae0-00ce-442c-972e-315b5f1544e9",
   "metadata": {},
   "source": [
    "### \"DOM_DOMAIN_AGG1\""
   ]
  },
  {
   "cell_type": "code",
   "execution_count": null,
   "id": "4d5938bd-c797-4e90-aef2-e22befbcd0b3",
   "metadata": {},
   "outputs": [],
   "source": []
  },
  {
   "cell_type": "code",
   "execution_count": null,
   "id": "b5380f5f-9f56-4b2d-92d4-b360c494854f",
   "metadata": {},
   "outputs": [],
   "source": []
  },
  {
   "cell_type": "markdown",
   "id": "201536fd-a51d-4d6d-876f-6920b04268ac",
   "metadata": {},
   "source": [
    "### \"VERTICAL\""
   ]
  },
  {
   "cell_type": "code",
   "execution_count": null,
   "id": "a01c5c95-4c07-4557-ade1-037f21d9ba4d",
   "metadata": {},
   "outputs": [],
   "source": []
  },
  {
   "cell_type": "code",
   "execution_count": null,
   "id": "a8627d63-e807-4e73-8e0c-6e1adafd9e70",
   "metadata": {},
   "outputs": [],
   "source": []
  },
  {
   "cell_type": "markdown",
   "id": "a0422408-75a9-4fed-9cab-2deea588f2d7",
   "metadata": {},
   "source": [
    "### \"DOMAIN_ID\""
   ]
  },
  {
   "cell_type": "code",
   "execution_count": null,
   "id": "6f41bf68-a7b6-414f-a6fe-07b72190428b",
   "metadata": {},
   "outputs": [],
   "source": []
  },
  {
   "cell_type": "code",
   "execution_count": null,
   "id": "5f2616f5-b5c1-4512-b495-7d61b66fa0a4",
   "metadata": {},
   "outputs": [],
   "source": []
  },
  {
   "cell_type": "code",
   "execution_count": null,
   "id": "73d3d4ea-5b86-41e0-9718-355b55d8d546",
   "metadata": {},
   "outputs": [],
   "source": []
  },
  {
   "cell_type": "code",
   "execution_count": 35,
   "id": "d7441042-ab08-43c8-bf6e-e5a87bf5d3e4",
   "metadata": {},
   "outputs": [],
   "source": [
    "# Comparar diferencias de ventas entre junio y julio"
   ]
  },
  {
   "cell_type": "code",
   "execution_count": null,
   "id": "7b3254d2-e43d-429d-8023-e21c2d75fe7c",
   "metadata": {},
   "outputs": [],
   "source": []
  },
  {
   "cell_type": "code",
   "execution_count": null,
   "id": "4cb14891-26a5-4909-a600-e54b9f75be93",
   "metadata": {},
   "outputs": [],
   "source": []
  },
  {
   "cell_type": "code",
   "execution_count": 51,
   "id": "e6074383-a2e2-4408-a5de-8a5143aa334c",
   "metadata": {},
   "outputs": [
    {
     "data": {
      "image/png": "[encoded data removed]",
      "text/plain": [
       "<Figure size 1000x600 with 4 Axes>"
      ]
     },
     "metadata": {},
     "output_type": "display_data"
    }
   ],
   "source": [
    "# Histogramas de variables numéricas\n",
    "df.hist(figsize=(10,6));"
   ]
  },
  {
   "cell_type": "code",
   "execution_count": null,
   "id": "fc67ae25-39fb-4285-9dba-3f49feab2fcb",
   "metadata": {},
   "outputs": [],
   "source": []
  },
  {
   "cell_type": "code",
   "execution_count": 53,
   "id": "229ebfe5-46b3-40c3-8c82-e000cc18114f",
   "metadata": {},
   "outputs": [
    {
     "data": {
      "text/plain": [
       "OFFER_START_DATE              object\n",
       "OFFER_START_DTTM              object\n",
       "OFFER_FINISH_DTTM             object\n",
       "OFFER_TYPE                    object\n",
       "INVOLVED_STOCK                 int64\n",
       "REMAINING_STOCK_AFTER_END      int64\n",
       "SOLD_AMOUNT                  float64\n",
       "SOLD_QUANTITY                float64\n",
       "ORIGIN                        object\n",
       "SHIPPING_PAYMENT_TYPE         object\n",
       "DOM_DOMAIN_AGG1               object\n",
       "VERTICAL                      object\n",
       "DOMAIN_ID                     object\n",
       "dtype: object"
      ]
     },
     "execution_count": 53,
     "metadata": {},
     "output_type": "execute_result"
    }
   ],
   "source": [
    "# Evaluar variables categóricas\n",
    "df.dtypes"
   ]
  },
  {
   "cell_type": "markdown",
   "id": "35cf45be-e9c4-4bd7-8641-2ac4b480484d",
   "metadata": {},
   "source": [
    "* Revisar tipos de datos\n",
    "* Evaluar casteos\n",
    "* Armar countplots de variables categóricas y de torta\n",
    "* Armar gráficos temporales\n",
    "* Armar variables dummies"
   ]
  },
  {
   "cell_type": "code",
   "execution_count": 54,
   "id": "75c87599-5f42-4435-9d07-c1efce3171dc",
   "metadata": {},
   "outputs": [
    {
     "data": {
      "text/plain": [
       "0        2021-06-22\n",
       "1        2021-06-22\n",
       "2        2021-06-22\n",
       "3        2021-06-22\n",
       "4        2021-06-22\n",
       "            ...    \n",
       "48741    2021-06-19\n",
       "48742    2021-06-19\n",
       "48743    2021-06-19\n",
       "48744    2021-06-19\n",
       "48745    2021-06-19\n",
       "Name: OFFER_START_DATE, Length: 47820, dtype: object"
      ]
     },
     "execution_count": 54,
     "metadata": {},
     "output_type": "execute_result"
    }
   ],
   "source": [
    "df[\"OFFER_START_DATE\"]"
   ]
  },
  {
   "cell_type": "code",
   "execution_count": 50,
   "id": "03f7d6b9-39ed-46f1-aafc-f22649690650",
   "metadata": {},
   "outputs": [
    {
     "data": {
      "text/plain": [
       "array([[<Axes: title={'center': 'INVOLVED_STOCK'}>,\n",
       "        <Axes: title={'center': 'REMAINING_STOCK_AFTER_END'}>],\n",
       "       [<Axes: title={'center': 'SOLD_AMOUNT'}>,\n",
       "        <Axes: title={'center': 'SOLD_QUANTITY'}>]], dtype=object)"
      ]
     },
     "execution_count": 50,
     "metadata": {},
     "output_type": "execute_result"
    },
    {
     "data": {
      "image/png": "[encoded data removed]",
      "text/plain": [
       "<Figure size 1000x600 with 4 Axes>"
      ]
     },
     "metadata": {},
     "output_type": "display_data"
    }
   ],
   "source": []
  },
  {
   "cell_type": "code",
   "execution_count": null,
   "id": "80b5c4a8-8edc-491e-8c0c-2e4197c329f0",
   "metadata": {},
   "outputs": [],
   "source": []
  },
  {
   "cell_type": "markdown",
   "id": "3bc628a0-19db-4fdd-9e98-06d7f517309b",
   "metadata": {},
   "source": [
    "## Evaluar outliers"
   ]
  },
  {
   "cell_type": "code",
   "execution_count": null,
   "id": "faa97ac0-b967-4f60-95b0-c95074438b0d",
   "metadata": {},
   "outputs": [],
   "source": []
  },
  {
   "cell_type": "markdown",
   "id": "01606f43-69f4-4c15-a0af-6d8ae40c5be0",
   "metadata": {},
   "source": [
    "## Evaluar correlaciones"
   ]
  },
  {
   "cell_type": "code",
   "execution_count": 19,
   "id": "e393f20e-d0b9-43c3-8220-555f42af1c3a",
   "metadata": {},
   "outputs": [
    {
     "data": {
      "text/html": [
       "<div>\n",
       "<style scoped>\n",
       "    .dataframe tbody tr th:only-of-type {\n",
       "        vertical-align: middle;\n",
       "    }\n",
       "\n",
       "    .dataframe tbody tr th {\n",
       "        vertical-align: top;\n",
       "    }\n",
       "\n",
       "    .dataframe thead th {\n",
       "        text-align: right;\n",
       "    }\n",
       "</style>\n",
       "<table border=\"1\" class=\"dataframe\">\n",
       "  <thead>\n",
       "    <tr style=\"text-align: right;\">\n",
       "      <th></th>\n",
       "      <th>INVOLVED_STOCK</th>\n",
       "      <th>REMAINING_STOCK_AFTER_END</th>\n",
       "      <th>SOLD_AMOUNT</th>\n",
       "      <th>SOLD_QUANTITY</th>\n",
       "    </tr>\n",
       "  </thead>\n",
       "  <tbody>\n",
       "    <tr>\n",
       "      <th>INVOLVED_STOCK</th>\n",
       "      <td>1.000000</td>\n",
       "      <td>0.994240</td>\n",
       "      <td>0.405859</td>\n",
       "      <td>0.557684</td>\n",
       "    </tr>\n",
       "    <tr>\n",
       "      <th>REMAINING_STOCK_AFTER_END</th>\n",
       "      <td>0.994240</td>\n",
       "      <td>1.000000</td>\n",
       "      <td>0.354320</td>\n",
       "      <td>0.484031</td>\n",
       "    </tr>\n",
       "    <tr>\n",
       "      <th>SOLD_AMOUNT</th>\n",
       "      <td>0.405859</td>\n",
       "      <td>0.354320</td>\n",
       "      <td>1.000000</td>\n",
       "      <td>0.708884</td>\n",
       "    </tr>\n",
       "    <tr>\n",
       "      <th>SOLD_QUANTITY</th>\n",
       "      <td>0.557684</td>\n",
       "      <td>0.484031</td>\n",
       "      <td>0.708884</td>\n",
       "      <td>1.000000</td>\n",
       "    </tr>\n",
       "  </tbody>\n",
       "</table>\n",
       "</div>"
      ],
      "text/plain": [
       "                           INVOLVED_STOCK  REMAINING_STOCK_AFTER_END  \\\n",
       "INVOLVED_STOCK                   1.000000                   0.994240   \n",
       "REMAINING_STOCK_AFTER_END        0.994240                   1.000000   \n",
       "SOLD_AMOUNT                      0.405859                   0.354320   \n",
       "SOLD_QUANTITY                    0.557684                   0.484031   \n",
       "\n",
       "                           SOLD_AMOUNT  SOLD_QUANTITY  \n",
       "INVOLVED_STOCK                0.405859       0.557684  \n",
       "REMAINING_STOCK_AFTER_END     0.354320       0.484031  \n",
       "SOLD_AMOUNT                   1.000000       0.708884  \n",
       "SOLD_QUANTITY                 0.708884       1.000000  "
      ]
     },
     "execution_count": 19,
     "metadata": {},
     "output_type": "execute_result"
    }
   ],
   "source": [
    "# Evaluar correlaciones de atributos numéricos\n",
    "df_numeric = df.select_dtypes(include=[\"float64\", \"int64\"])\n",
    "df_numeric_corr = df_numeric.corr()\n",
    "df_numeric_corr"
   ]
  },
  {
   "cell_type": "code",
   "execution_count": 56,
   "id": "76150474-1d7f-4a8b-9086-5da38e1ea196",
   "metadata": {},
   "outputs": [
    {
     "data": {
      "text/plain": [
       "''"
      ]
     },
     "execution_count": 56,
     "metadata": {},
     "output_type": "execute_result"
    },
    {
     "data": {
      "image/png": "[encoded data removed]",
      "text/plain": [
       "<Figure size 400x400 with 2 Axes>"
      ]
     },
     "metadata": {},
     "output_type": "display_data"
    }
   ],
   "source": [
    "plt.figure(figsize=(4, 4))\n",
    "sns.heatmap(df_numeric_corr)\n",
    ";"
   ]
  },
  {
   "cell_type": "code",
   "execution_count": null,
   "id": "65b6ae01-822d-4a3d-b684-6f56417ea29a",
   "metadata": {},
   "outputs": [],
   "source": []
  },
  {
   "cell_type": "code",
   "execution_count": null,
   "id": "652d0583-6464-4da1-bcab-39b4906b2c82",
   "metadata": {},
   "outputs": [],
   "source": []
  },
  {
   "cell_type": "code",
   "execution_count": null,
   "id": "a5c2b0ed-42e7-423d-904e-e7a3816b36e0",
   "metadata": {},
   "outputs": [],
   "source": []
  },
  {
   "cell_type": "code",
   "execution_count": null,
   "id": "f2ed4545-ef08-4eb5-b7b8-e073316af54b",
   "metadata": {},
   "outputs": [],
   "source": []
  },
  {
   "cell_type": "markdown",
   "id": "4d7b91ce-b9ec-4526-8347-63e9f85a1e59",
   "metadata": {},
   "source": [
    "# Conclusiones"
   ]
  },
  {
   "cell_type": "code",
   "execution_count": null,
   "id": "4a714f21-bd28-4387-8684-9aec656f91fb",
   "metadata": {},
   "outputs": [],
   "source": []
  }
 ],
 "metadata": {
  "kernelspec": {
   "display_name": "Python 3 (ipykernel)",
   "language": "python",
   "name": "python3"
  },
  "language_info": {
   "codemirror_mode": {
    "name": "ipython",
    "version": 3
   },
   "file_extension": ".py",
   "mimetype": "text/x-python",
   "name": "python",
   "nbconvert_exporter": "python",
   "pygments_lexer": "ipython3",
   "version": "3.12.5"
  }
 },
 "nbformat": 4,
 "nbformat_minor": 5
}
