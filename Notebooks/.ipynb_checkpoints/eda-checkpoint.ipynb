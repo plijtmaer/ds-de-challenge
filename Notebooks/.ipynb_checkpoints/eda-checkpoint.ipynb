{
 "cells": [
  {
   "cell_type": "markdown",
   "id": "3fd4d650-11fa-4d56-8688-3da173e02fde",
   "metadata": {},
   "source": [
    "# Importar bibliotecas"
   ]
  },
  {
   "cell_type": "code",
   "execution_count": 1,
   "id": "7bd261de-3c90-443a-9db4-fd52ffba05c2",
   "metadata": {},
   "outputs": [],
   "source": [
    "import pandas as pd\n",
    "import numpy as np\n",
    "import matplotlib.pyplot as plt\n",
    "%matplotlib inline\n",
    "import seaborn as sns"
   ]
  },
  {
   "cell_type": "markdown",
   "id": "1a55b9da-dc87-4f23-9e87-2aa9a09136ad",
   "metadata": {},
   "source": [
    "# EDA"
   ]
  },
  {
   "cell_type": "markdown",
   "id": "3b769ea9-6ab1-4913-9de0-cd32d9d9d600",
   "metadata": {},
   "source": [
    "## Carga de datos y preevaluación de datos"
   ]
  },
  {
   "cell_type": "code",
   "execution_count": 2,
   "id": "442fbbbf-b7ae-432d-bf66-c2a8dba9b93d",
   "metadata": {},
   "outputs": [],
   "source": [
    "# Cargar dataset de ofertas relámpago en un DataFrame\n",
    "path = \"../Data/ofertas_relampago.csv\"\n",
    "df = pd.read_csv(path)"
   ]
  },
  {
   "cell_type": "code",
   "execution_count": 3,
   "id": "81e24c8f-7701-4c19-ba05-64d2f5cc67c8",
   "metadata": {},
   "outputs": [
    {
     "name": "stdout",
     "output_type": "stream",
     "text": [
      "Cantidad de registros: 48746\n",
      "Cantidad de columnas: 13\n"
     ]
    }
   ],
   "source": [
    "# Evaluar cantidad de registros y columnas\n",
    "registros = df.shape[0]\n",
    "columnas = df.shape[1]\n",
    "print(f\"Cantidad de registros: {registros}\\nCantidad de columnas: {columnas}\")"
   ]
  },
  {
   "cell_type": "code",
   "execution_count": 4,
   "id": "2d7bba53-e037-4d2c-b9f8-1369436c41a3",
   "metadata": {},
   "outputs": [
    {
     "data": {
      "text/html": [
       "<div>\n",
       "<style scoped>\n",
       "    .dataframe tbody tr th:only-of-type {\n",
       "        vertical-align: middle;\n",
       "    }\n",
       "\n",
       "    .dataframe tbody tr th {\n",
       "        vertical-align: top;\n",
       "    }\n",
       "\n",
       "    .dataframe thead th {\n",
       "        text-align: right;\n",
       "    }\n",
       "</style>\n",
       "<table border=\"1\" class=\"dataframe\">\n",
       "  <thead>\n",
       "    <tr style=\"text-align: right;\">\n",
       "      <th></th>\n",
       "      <th>OFFER_START_DATE</th>\n",
       "      <th>OFFER_START_DTTM</th>\n",
       "      <th>OFFER_FINISH_DTTM</th>\n",
       "      <th>OFFER_TYPE</th>\n",
       "      <th>INVOLVED_STOCK</th>\n",
       "      <th>REMAINING_STOCK_AFTER_END</th>\n",
       "      <th>SOLD_AMOUNT</th>\n",
       "      <th>SOLD_QUANTITY</th>\n",
       "      <th>ORIGIN</th>\n",
       "      <th>SHIPPING_PAYMENT_TYPE</th>\n",
       "      <th>DOM_DOMAIN_AGG1</th>\n",
       "      <th>VERTICAL</th>\n",
       "      <th>DOMAIN_ID</th>\n",
       "    </tr>\n",
       "  </thead>\n",
       "  <tbody>\n",
       "    <tr>\n",
       "      <th>0</th>\n",
       "      <td>2021-06-22</td>\n",
       "      <td>2021-06-22 16:00:00+00:00</td>\n",
       "      <td>2021-06-22 23:02:43+00:00</td>\n",
       "      <td>lightning_deal</td>\n",
       "      <td>4</td>\n",
       "      <td>-2</td>\n",
       "      <td>4.72</td>\n",
       "      <td>6.0</td>\n",
       "      <td>A</td>\n",
       "      <td>none</td>\n",
       "      <td>PETS FOOD</td>\n",
       "      <td>CPG</td>\n",
       "      <td>MLM-BIRD_FOODS</td>\n",
       "    </tr>\n",
       "    <tr>\n",
       "      <th>1</th>\n",
       "      <td>2021-06-22</td>\n",
       "      <td>2021-06-22 13:00:00+00:00</td>\n",
       "      <td>2021-06-22 19:00:02+00:00</td>\n",
       "      <td>lightning_deal</td>\n",
       "      <td>5</td>\n",
       "      <td>5</td>\n",
       "      <td>NaN</td>\n",
       "      <td>NaN</td>\n",
       "      <td>NaN</td>\n",
       "      <td>free_shipping</td>\n",
       "      <td>PET PRODUCTS</td>\n",
       "      <td>OTHERS</td>\n",
       "      <td>MLM-ANIMAL_AND_PET_PRODUCTS</td>\n",
       "    </tr>\n",
       "    <tr>\n",
       "      <th>2</th>\n",
       "      <td>2021-06-22</td>\n",
       "      <td>2021-06-22 07:00:00+00:00</td>\n",
       "      <td>2021-06-22 13:00:01+00:00</td>\n",
       "      <td>lightning_deal</td>\n",
       "      <td>15</td>\n",
       "      <td>12</td>\n",
       "      <td>10.73</td>\n",
       "      <td>3.0</td>\n",
       "      <td>NaN</td>\n",
       "      <td>none</td>\n",
       "      <td>COMPUTERS</td>\n",
       "      <td>CE</td>\n",
       "      <td>MLM-SPEAKERS</td>\n",
       "    </tr>\n",
       "  </tbody>\n",
       "</table>\n",
       "</div>"
      ],
      "text/plain": [
       "  OFFER_START_DATE           OFFER_START_DTTM          OFFER_FINISH_DTTM  \\\n",
       "0       2021-06-22  2021-06-22 16:00:00+00:00  2021-06-22 23:02:43+00:00   \n",
       "1       2021-06-22  2021-06-22 13:00:00+00:00  2021-06-22 19:00:02+00:00   \n",
       "2       2021-06-22  2021-06-22 07:00:00+00:00  2021-06-22 13:00:01+00:00   \n",
       "\n",
       "       OFFER_TYPE  INVOLVED_STOCK  REMAINING_STOCK_AFTER_END  SOLD_AMOUNT  \\\n",
       "0  lightning_deal               4                         -2         4.72   \n",
       "1  lightning_deal               5                          5          NaN   \n",
       "2  lightning_deal              15                         12        10.73   \n",
       "\n",
       "   SOLD_QUANTITY ORIGIN SHIPPING_PAYMENT_TYPE DOM_DOMAIN_AGG1 VERTICAL  \\\n",
       "0            6.0      A                  none       PETS FOOD      CPG   \n",
       "1            NaN    NaN         free_shipping    PET PRODUCTS   OTHERS   \n",
       "2            3.0    NaN                  none       COMPUTERS       CE   \n",
       "\n",
       "                     DOMAIN_ID  \n",
       "0               MLM-BIRD_FOODS  \n",
       "1  MLM-ANIMAL_AND_PET_PRODUCTS  \n",
       "2                 MLM-SPEAKERS  "
      ]
     },
     "execution_count": 4,
     "metadata": {},
     "output_type": "execute_result"
    }
   ],
   "source": [
    "# Evaluar primeros 3 registros\n",
    "df.head(3)"
   ]
  },
  {
   "cell_type": "code",
   "execution_count": 5,
   "id": "c0b9d42a-ca97-464a-819c-fed425a93318",
   "metadata": {},
   "outputs": [
    {
     "name": "stdout",
     "output_type": "stream",
     "text": [
      "<class 'pandas.core.frame.DataFrame'>\n",
      "RangeIndex: 48746 entries, 0 to 48745\n",
      "Data columns (total 13 columns):\n",
      " #   Column                     Non-Null Count  Dtype  \n",
      "---  ------                     --------------  -----  \n",
      " 0   OFFER_START_DATE           48746 non-null  object \n",
      " 1   OFFER_START_DTTM           48746 non-null  object \n",
      " 2   OFFER_FINISH_DTTM          48746 non-null  object \n",
      " 3   OFFER_TYPE                 48746 non-null  object \n",
      " 4   INVOLVED_STOCK             48746 non-null  int64  \n",
      " 5   REMAINING_STOCK_AFTER_END  48746 non-null  int64  \n",
      " 6   SOLD_AMOUNT                24579 non-null  float64\n",
      " 7   SOLD_QUANTITY              24579 non-null  float64\n",
      " 8   ORIGIN                     11316 non-null  object \n",
      " 9   SHIPPING_PAYMENT_TYPE      48746 non-null  object \n",
      " 10  DOM_DOMAIN_AGG1            48746 non-null  object \n",
      " 11  VERTICAL                   48746 non-null  object \n",
      " 12  DOMAIN_ID                  48746 non-null  object \n",
      "dtypes: float64(2), int64(2), object(9)\n",
      "memory usage: 4.8+ MB\n"
     ]
    }
   ],
   "source": [
    "# Evaluar columnas\n",
    "df.info()"
   ]
  },
  {
   "cell_type": "markdown",
   "id": "e197e7d7-d6e1-45fb-9b55-580e96f447d4",
   "metadata": {},
   "source": [
    "**Se observan las columnas con sus distintos tipos de datos, que serán evaluados posteriormente. Además, se encuentran valores nulos en 3 columnas.**"
   ]
  },
  {
   "cell_type": "code",
   "execution_count": 6,
   "id": "1fe63a23-d0ac-49e9-9a39-a8e1b803d2e4",
   "metadata": {},
   "outputs": [
    {
     "data": {
      "text/plain": [
       "OFFER_START_DATE                 0\n",
       "OFFER_START_DTTM                 0\n",
       "OFFER_FINISH_DTTM                0\n",
       "OFFER_TYPE                       0\n",
       "INVOLVED_STOCK                   0\n",
       "REMAINING_STOCK_AFTER_END        0\n",
       "SOLD_AMOUNT                  24167\n",
       "SOLD_QUANTITY                24167\n",
       "ORIGIN                       37430\n",
       "SHIPPING_PAYMENT_TYPE            0\n",
       "DOM_DOMAIN_AGG1                  0\n",
       "VERTICAL                         0\n",
       "DOMAIN_ID                        0\n",
       "dtype: int64"
      ]
     },
     "execution_count": 6,
     "metadata": {},
     "output_type": "execute_result"
    }
   ],
   "source": [
    "# Evaluar nulos\n",
    "df.isna().sum()"
   ]
  },
  {
   "cell_type": "markdown",
   "id": "1ebc115e-6b08-4b90-b4c2-f5ba0a2adf97",
   "metadata": {},
   "source": [
    "**Las columnas \"SOLD_AMOUNT\", \"SOLD_QUANTITY\" y \"ORIGIN\" contienen nulos.**"
   ]
  },
  {
   "cell_type": "code",
   "execution_count": 7,
   "id": "902cf2cb-1472-41b0-b9ce-22cc225f4155",
   "metadata": {},
   "outputs": [
    {
     "data": {
      "text/html": [
       "<div>\n",
       "<style scoped>\n",
       "    .dataframe tbody tr th:only-of-type {\n",
       "        vertical-align: middle;\n",
       "    }\n",
       "\n",
       "    .dataframe tbody tr th {\n",
       "        vertical-align: top;\n",
       "    }\n",
       "\n",
       "    .dataframe thead th {\n",
       "        text-align: right;\n",
       "    }\n",
       "</style>\n",
       "<table border=\"1\" class=\"dataframe\">\n",
       "  <thead>\n",
       "    <tr style=\"text-align: right;\">\n",
       "      <th></th>\n",
       "      <th>INVOLVED_STOCK</th>\n",
       "      <th>REMAINING_STOCK_AFTER_END</th>\n",
       "      <th>SOLD_AMOUNT</th>\n",
       "      <th>SOLD_QUANTITY</th>\n",
       "    </tr>\n",
       "  </thead>\n",
       "  <tbody>\n",
       "    <tr>\n",
       "      <th>count</th>\n",
       "      <td>48746.000000</td>\n",
       "      <td>48746.000000</td>\n",
       "      <td>24579.000000</td>\n",
       "      <td>24579.000000</td>\n",
       "    </tr>\n",
       "    <tr>\n",
       "      <th>mean</th>\n",
       "      <td>35.007508</td>\n",
       "      <td>30.565216</td>\n",
       "      <td>51.208898</td>\n",
       "      <td>10.851052</td>\n",
       "    </tr>\n",
       "    <tr>\n",
       "      <th>std</th>\n",
       "      <td>206.761058</td>\n",
       "      <td>195.813806</td>\n",
       "      <td>175.254414</td>\n",
       "      <td>45.475305</td>\n",
       "    </tr>\n",
       "    <tr>\n",
       "      <th>min</th>\n",
       "      <td>1.000000</td>\n",
       "      <td>-192.000000</td>\n",
       "      <td>0.280000</td>\n",
       "      <td>1.000000</td>\n",
       "    </tr>\n",
       "    <tr>\n",
       "      <th>25%</th>\n",
       "      <td>5.000000</td>\n",
       "      <td>4.000000</td>\n",
       "      <td>5.730000</td>\n",
       "      <td>1.000000</td>\n",
       "    </tr>\n",
       "    <tr>\n",
       "      <th>50%</th>\n",
       "      <td>10.000000</td>\n",
       "      <td>8.000000</td>\n",
       "      <td>12.420000</td>\n",
       "      <td>3.000000</td>\n",
       "    </tr>\n",
       "    <tr>\n",
       "      <th>75%</th>\n",
       "      <td>15.000000</td>\n",
       "      <td>15.000000</td>\n",
       "      <td>30.925000</td>\n",
       "      <td>6.000000</td>\n",
       "    </tr>\n",
       "    <tr>\n",
       "      <th>max</th>\n",
       "      <td>9000.000000</td>\n",
       "      <td>8635.000000</td>\n",
       "      <td>4836.570000</td>\n",
       "      <td>1646.000000</td>\n",
       "    </tr>\n",
       "  </tbody>\n",
       "</table>\n",
       "</div>"
      ],
      "text/plain": [
       "       INVOLVED_STOCK  REMAINING_STOCK_AFTER_END   SOLD_AMOUNT  SOLD_QUANTITY\n",
       "count    48746.000000               48746.000000  24579.000000   24579.000000\n",
       "mean        35.007508                  30.565216     51.208898      10.851052\n",
       "std        206.761058                 195.813806    175.254414      45.475305\n",
       "min          1.000000                -192.000000      0.280000       1.000000\n",
       "25%          5.000000                   4.000000      5.730000       1.000000\n",
       "50%         10.000000                   8.000000     12.420000       3.000000\n",
       "75%         15.000000                  15.000000     30.925000       6.000000\n",
       "max       9000.000000                8635.000000   4836.570000    1646.000000"
      ]
     },
     "execution_count": 7,
     "metadata": {},
     "output_type": "execute_result"
    }
   ],
   "source": [
    "# Evaluar estadísticas descriptivas de atributos numéricos\n",
    "df.describe()"
   ]
  },
  {
   "cell_type": "code",
   "execution_count": 8,
   "id": "58a91a83-6e8a-49a0-af2d-ec430298cc19",
   "metadata": {},
   "outputs": [
    {
     "data": {
      "text/plain": [
       "926"
      ]
     },
     "execution_count": 8,
     "metadata": {},
     "output_type": "execute_result"
    }
   ],
   "source": [
    "# Evaluar duplicados\n",
    "duplicados = df.duplicated()\n",
    "duplicados.sum()"
   ]
  },
  {
   "cell_type": "markdown",
   "id": "383a52c8-b730-4669-94d1-1971f14fdbe8",
   "metadata": {},
   "source": [
    "**Se encuentran 926 duplicados.**"
   ]
  },
  {
   "cell_type": "markdown",
   "id": "5e06ad01-267d-47bd-bee2-0f18960038e6",
   "metadata": {},
   "source": [
    "## Evaluar duplicados"
   ]
  },
  {
   "cell_type": "markdown",
   "id": "8fb9ee4a-7870-43f6-a087-a87168ec8039",
   "metadata": {},
   "source": [
    "**Investigar duplicados para entender si es necesario eliminarlos.**"
   ]
  },
  {
   "cell_type": "code",
   "execution_count": 9,
   "id": "19241e28-bad9-4499-a7d4-b01ec4cd2ff2",
   "metadata": {},
   "outputs": [
    {
     "data": {
      "text/html": [
       "<div>\n",
       "<style scoped>\n",
       "    .dataframe tbody tr th:only-of-type {\n",
       "        vertical-align: middle;\n",
       "    }\n",
       "\n",
       "    .dataframe tbody tr th {\n",
       "        vertical-align: top;\n",
       "    }\n",
       "\n",
       "    .dataframe thead th {\n",
       "        text-align: right;\n",
       "    }\n",
       "</style>\n",
       "<table border=\"1\" class=\"dataframe\">\n",
       "  <thead>\n",
       "    <tr style=\"text-align: right;\">\n",
       "      <th></th>\n",
       "      <th>OFFER_START_DATE</th>\n",
       "      <th>OFFER_START_DTTM</th>\n",
       "      <th>OFFER_FINISH_DTTM</th>\n",
       "      <th>OFFER_TYPE</th>\n",
       "      <th>INVOLVED_STOCK</th>\n",
       "      <th>REMAINING_STOCK_AFTER_END</th>\n",
       "      <th>SOLD_AMOUNT</th>\n",
       "      <th>SOLD_QUANTITY</th>\n",
       "      <th>ORIGIN</th>\n",
       "      <th>SHIPPING_PAYMENT_TYPE</th>\n",
       "      <th>DOM_DOMAIN_AGG1</th>\n",
       "      <th>VERTICAL</th>\n",
       "      <th>DOMAIN_ID</th>\n",
       "    </tr>\n",
       "  </thead>\n",
       "  <tbody>\n",
       "    <tr>\n",
       "      <th>39626</th>\n",
       "      <td>2021-06-01</td>\n",
       "      <td>2021-06-01 07:00:00+00:00</td>\n",
       "      <td>2021-06-01 13:00:02+00:00</td>\n",
       "      <td>lightning_deal</td>\n",
       "      <td>5</td>\n",
       "      <td>3</td>\n",
       "      <td>47.14</td>\n",
       "      <td>1.0</td>\n",
       "      <td>NaN</td>\n",
       "      <td>free_shipping</td>\n",
       "      <td>COMPUTERS</td>\n",
       "      <td>CE</td>\n",
       "      <td>MLM-HEADPHONES</td>\n",
       "    </tr>\n",
       "    <tr>\n",
       "      <th>39640</th>\n",
       "      <td>2021-06-01</td>\n",
       "      <td>2021-06-01 07:00:00+00:00</td>\n",
       "      <td>2021-06-01 13:00:02+00:00</td>\n",
       "      <td>lightning_deal</td>\n",
       "      <td>5</td>\n",
       "      <td>3</td>\n",
       "      <td>47.14</td>\n",
       "      <td>1.0</td>\n",
       "      <td>NaN</td>\n",
       "      <td>free_shipping</td>\n",
       "      <td>COMPUTERS</td>\n",
       "      <td>CE</td>\n",
       "      <td>MLM-HEADPHONES</td>\n",
       "    </tr>\n",
       "    <tr>\n",
       "      <th>39629</th>\n",
       "      <td>2021-06-01</td>\n",
       "      <td>2021-06-01 07:00:00+00:00</td>\n",
       "      <td>2021-06-01 13:00:08+00:00</td>\n",
       "      <td>lightning_deal</td>\n",
       "      <td>5</td>\n",
       "      <td>4</td>\n",
       "      <td>NaN</td>\n",
       "      <td>NaN</td>\n",
       "      <td>NaN</td>\n",
       "      <td>free_shipping</td>\n",
       "      <td>COMPUTERS</td>\n",
       "      <td>CE</td>\n",
       "      <td>MLM-HEADPHONES</td>\n",
       "    </tr>\n",
       "    <tr>\n",
       "      <th>39630</th>\n",
       "      <td>2021-06-01</td>\n",
       "      <td>2021-06-01 07:00:00+00:00</td>\n",
       "      <td>2021-06-01 13:00:08+00:00</td>\n",
       "      <td>lightning_deal</td>\n",
       "      <td>5</td>\n",
       "      <td>4</td>\n",
       "      <td>NaN</td>\n",
       "      <td>NaN</td>\n",
       "      <td>NaN</td>\n",
       "      <td>free_shipping</td>\n",
       "      <td>COMPUTERS</td>\n",
       "      <td>CE</td>\n",
       "      <td>MLM-HEADPHONES</td>\n",
       "    </tr>\n",
       "    <tr>\n",
       "      <th>40007</th>\n",
       "      <td>2021-06-01</td>\n",
       "      <td>2021-06-01 07:00:00+00:00</td>\n",
       "      <td>2021-06-01 13:00:08+00:00</td>\n",
       "      <td>lightning_deal</td>\n",
       "      <td>15</td>\n",
       "      <td>15</td>\n",
       "      <td>NaN</td>\n",
       "      <td>NaN</td>\n",
       "      <td>NaN</td>\n",
       "      <td>free_shipping</td>\n",
       "      <td>APPAREL ACCESORIES</td>\n",
       "      <td>APP &amp; SPORTS</td>\n",
       "      <td>MLM-SUNGLASSES</td>\n",
       "    </tr>\n",
       "    <tr>\n",
       "      <th>...</th>\n",
       "      <td>...</td>\n",
       "      <td>...</td>\n",
       "      <td>...</td>\n",
       "      <td>...</td>\n",
       "      <td>...</td>\n",
       "      <td>...</td>\n",
       "      <td>...</td>\n",
       "      <td>...</td>\n",
       "      <td>...</td>\n",
       "      <td>...</td>\n",
       "      <td>...</td>\n",
       "      <td>...</td>\n",
       "      <td>...</td>\n",
       "    </tr>\n",
       "    <tr>\n",
       "      <th>23460</th>\n",
       "      <td>2021-07-31</td>\n",
       "      <td>2021-07-31 16:00:00+00:00</td>\n",
       "      <td>2021-08-01 00:00:00+00:00</td>\n",
       "      <td>lightning_deal</td>\n",
       "      <td>5</td>\n",
       "      <td>5</td>\n",
       "      <td>NaN</td>\n",
       "      <td>NaN</td>\n",
       "      <td>A</td>\n",
       "      <td>free_shipping</td>\n",
       "      <td>ELECTRONICS</td>\n",
       "      <td>CE</td>\n",
       "      <td>MLM-RANGES</td>\n",
       "    </tr>\n",
       "    <tr>\n",
       "      <th>24399</th>\n",
       "      <td>2021-07-31</td>\n",
       "      <td>2021-07-31 19:00:00+00:00</td>\n",
       "      <td>2021-08-01 01:00:03+00:00</td>\n",
       "      <td>lightning_deal</td>\n",
       "      <td>15</td>\n",
       "      <td>15</td>\n",
       "      <td>NaN</td>\n",
       "      <td>NaN</td>\n",
       "      <td>NaN</td>\n",
       "      <td>none</td>\n",
       "      <td>HOME&amp;DECOR</td>\n",
       "      <td>HOME &amp; INDUSTRY</td>\n",
       "      <td>MLM-CHRISTMAS_LIGHTS</td>\n",
       "    </tr>\n",
       "    <tr>\n",
       "      <th>24401</th>\n",
       "      <td>2021-07-31</td>\n",
       "      <td>2021-07-31 19:00:00+00:00</td>\n",
       "      <td>2021-08-01 01:00:03+00:00</td>\n",
       "      <td>lightning_deal</td>\n",
       "      <td>15</td>\n",
       "      <td>15</td>\n",
       "      <td>NaN</td>\n",
       "      <td>NaN</td>\n",
       "      <td>NaN</td>\n",
       "      <td>none</td>\n",
       "      <td>HOME&amp;DECOR</td>\n",
       "      <td>HOME &amp; INDUSTRY</td>\n",
       "      <td>MLM-CHRISTMAS_LIGHTS</td>\n",
       "    </tr>\n",
       "    <tr>\n",
       "      <th>23423</th>\n",
       "      <td>2021-07-31</td>\n",
       "      <td>2021-07-31 19:00:00+00:00</td>\n",
       "      <td>2021-08-01 01:00:05+00:00</td>\n",
       "      <td>lightning_deal</td>\n",
       "      <td>5</td>\n",
       "      <td>5</td>\n",
       "      <td>NaN</td>\n",
       "      <td>NaN</td>\n",
       "      <td>NaN</td>\n",
       "      <td>none</td>\n",
       "      <td>BOOKS, MULTIMEDIA &amp; OTHER E!</td>\n",
       "      <td>ENTERTAINMENT</td>\n",
       "      <td>MLM-MUSIC_ALBUMS</td>\n",
       "    </tr>\n",
       "    <tr>\n",
       "      <th>23427</th>\n",
       "      <td>2021-07-31</td>\n",
       "      <td>2021-07-31 19:00:00+00:00</td>\n",
       "      <td>2021-08-01 01:00:05+00:00</td>\n",
       "      <td>lightning_deal</td>\n",
       "      <td>5</td>\n",
       "      <td>5</td>\n",
       "      <td>NaN</td>\n",
       "      <td>NaN</td>\n",
       "      <td>NaN</td>\n",
       "      <td>none</td>\n",
       "      <td>BOOKS, MULTIMEDIA &amp; OTHER E!</td>\n",
       "      <td>ENTERTAINMENT</td>\n",
       "      <td>MLM-MUSIC_ALBUMS</td>\n",
       "    </tr>\n",
       "  </tbody>\n",
       "</table>\n",
       "<p>1708 rows × 13 columns</p>\n",
       "</div>"
      ],
      "text/plain": [
       "      OFFER_START_DATE           OFFER_START_DTTM          OFFER_FINISH_DTTM  \\\n",
       "39626       2021-06-01  2021-06-01 07:00:00+00:00  2021-06-01 13:00:02+00:00   \n",
       "39640       2021-06-01  2021-06-01 07:00:00+00:00  2021-06-01 13:00:02+00:00   \n",
       "39629       2021-06-01  2021-06-01 07:00:00+00:00  2021-06-01 13:00:08+00:00   \n",
       "39630       2021-06-01  2021-06-01 07:00:00+00:00  2021-06-01 13:00:08+00:00   \n",
       "40007       2021-06-01  2021-06-01 07:00:00+00:00  2021-06-01 13:00:08+00:00   \n",
       "...                ...                        ...                        ...   \n",
       "23460       2021-07-31  2021-07-31 16:00:00+00:00  2021-08-01 00:00:00+00:00   \n",
       "24399       2021-07-31  2021-07-31 19:00:00+00:00  2021-08-01 01:00:03+00:00   \n",
       "24401       2021-07-31  2021-07-31 19:00:00+00:00  2021-08-01 01:00:03+00:00   \n",
       "23423       2021-07-31  2021-07-31 19:00:00+00:00  2021-08-01 01:00:05+00:00   \n",
       "23427       2021-07-31  2021-07-31 19:00:00+00:00  2021-08-01 01:00:05+00:00   \n",
       "\n",
       "           OFFER_TYPE  INVOLVED_STOCK  REMAINING_STOCK_AFTER_END  SOLD_AMOUNT  \\\n",
       "39626  lightning_deal               5                          3        47.14   \n",
       "39640  lightning_deal               5                          3        47.14   \n",
       "39629  lightning_deal               5                          4          NaN   \n",
       "39630  lightning_deal               5                          4          NaN   \n",
       "40007  lightning_deal              15                         15          NaN   \n",
       "...               ...             ...                        ...          ...   \n",
       "23460  lightning_deal               5                          5          NaN   \n",
       "24399  lightning_deal              15                         15          NaN   \n",
       "24401  lightning_deal              15                         15          NaN   \n",
       "23423  lightning_deal               5                          5          NaN   \n",
       "23427  lightning_deal               5                          5          NaN   \n",
       "\n",
       "       SOLD_QUANTITY ORIGIN SHIPPING_PAYMENT_TYPE  \\\n",
       "39626            1.0    NaN         free_shipping   \n",
       "39640            1.0    NaN         free_shipping   \n",
       "39629            NaN    NaN         free_shipping   \n",
       "39630            NaN    NaN         free_shipping   \n",
       "40007            NaN    NaN         free_shipping   \n",
       "...              ...    ...                   ...   \n",
       "23460            NaN      A         free_shipping   \n",
       "24399            NaN    NaN                  none   \n",
       "24401            NaN    NaN                  none   \n",
       "23423            NaN    NaN                  none   \n",
       "23427            NaN    NaN                  none   \n",
       "\n",
       "                    DOM_DOMAIN_AGG1         VERTICAL             DOMAIN_ID  \n",
       "39626                     COMPUTERS               CE        MLM-HEADPHONES  \n",
       "39640                     COMPUTERS               CE        MLM-HEADPHONES  \n",
       "39629                     COMPUTERS               CE        MLM-HEADPHONES  \n",
       "39630                     COMPUTERS               CE        MLM-HEADPHONES  \n",
       "40007            APPAREL ACCESORIES     APP & SPORTS        MLM-SUNGLASSES  \n",
       "...                             ...              ...                   ...  \n",
       "23460                   ELECTRONICS               CE            MLM-RANGES  \n",
       "24399                    HOME&DECOR  HOME & INDUSTRY  MLM-CHRISTMAS_LIGHTS  \n",
       "24401                    HOME&DECOR  HOME & INDUSTRY  MLM-CHRISTMAS_LIGHTS  \n",
       "23423  BOOKS, MULTIMEDIA & OTHER E!    ENTERTAINMENT      MLM-MUSIC_ALBUMS  \n",
       "23427  BOOKS, MULTIMEDIA & OTHER E!    ENTERTAINMENT      MLM-MUSIC_ALBUMS  \n",
       "\n",
       "[1708 rows x 13 columns]"
      ]
     },
     "execution_count": 9,
     "metadata": {},
     "output_type": "execute_result"
    }
   ],
   "source": [
    "# Ver duplicados en orden\n",
    "df[df.duplicated(keep=False)].sort_values(by=[col for col in df.columns])"
   ]
  },
  {
   "cell_type": "markdown",
   "id": "7203a397-d1b3-411b-b101-538a576d58f8",
   "metadata": {},
   "source": [
    "**Al tener duplicados que son iguales en todas las columnas, se eliminan para evitar redundancia, ya que no aportan información nueva y solo aumentan el tamaño de la tabla.**\n",
    "\n",
    "**Además, al COMPLETAR!"
   ]
  },
  {
   "cell_type": "code",
   "execution_count": 10,
   "id": "870a5368-4af5-411e-a6e7-6603dadc8649",
   "metadata": {},
   "outputs": [
    {
     "data": {
      "text/plain": [
       "48746"
      ]
     },
     "execution_count": 10,
     "metadata": {},
     "output_type": "execute_result"
    }
   ],
   "source": [
    "registros"
   ]
  },
  {
   "cell_type": "code",
   "execution_count": 11,
   "id": "4d3d221f-b496-40ea-80f4-1f8d529ff127",
   "metadata": {},
   "outputs": [],
   "source": [
    "df.drop_duplicates(keep=\"first\", inplace=True)"
   ]
  },
  {
   "cell_type": "code",
   "execution_count": 12,
   "id": "91ca7016-2ed7-4b96-9128-067fd2076afb",
   "metadata": {},
   "outputs": [
    {
     "data": {
      "text/plain": [
       "47820"
      ]
     },
     "execution_count": 12,
     "metadata": {},
     "output_type": "execute_result"
    }
   ],
   "source": [
    "df.shape[0]"
   ]
  },
  {
   "cell_type": "code",
   "execution_count": 13,
   "id": "ca919bc8-ab58-44b8-9cf4-bd2875eaf028",
   "metadata": {},
   "outputs": [
    {
     "data": {
      "text/plain": [
       "False"
      ]
     },
     "execution_count": 13,
     "metadata": {},
     "output_type": "execute_result"
    }
   ],
   "source": [
    "# Verificar que se eliminaron los duplicados\n",
    "df.duplicated(keep=False).any()"
   ]
  },
  {
   "cell_type": "markdown",
   "id": "c366dce8-f9b6-4491-8ba5-78cacc88f5e4",
   "metadata": {},
   "source": [
    "## Evaluar nulos"
   ]
  },
  {
   "cell_type": "code",
   "execution_count": null,
   "id": "8349ad91-292b-4e50-b7a4-d070c9a4bb91",
   "metadata": {},
   "outputs": [],
   "source": []
  },
  {
   "cell_type": "code",
   "execution_count": null,
   "id": "97f0fb12-3fc2-4d8f-9548-3773aac216a8",
   "metadata": {},
   "outputs": [],
   "source": []
  },
  {
   "cell_type": "markdown",
   "id": "9dbd698e-8c2b-48af-974f-01940e3e1c70",
   "metadata": {},
   "source": [
    "## Analizar valores y distribución de variables"
   ]
  },
  {
   "cell_type": "code",
   "execution_count": 14,
   "id": "d46dd54f-77d0-486b-ad5f-d576403ddec5",
   "metadata": {},
   "outputs": [
    {
     "data": {
      "text/plain": [
       "OFFER_START_DATE              object\n",
       "OFFER_START_DTTM              object\n",
       "OFFER_FINISH_DTTM             object\n",
       "OFFER_TYPE                    object\n",
       "INVOLVED_STOCK                 int64\n",
       "REMAINING_STOCK_AFTER_END      int64\n",
       "SOLD_AMOUNT                  float64\n",
       "SOLD_QUANTITY                float64\n",
       "ORIGIN                        object\n",
       "SHIPPING_PAYMENT_TYPE         object\n",
       "DOM_DOMAIN_AGG1               object\n",
       "VERTICAL                      object\n",
       "DOMAIN_ID                     object\n",
       "dtype: object"
      ]
     },
     "execution_count": 14,
     "metadata": {},
     "output_type": "execute_result"
    }
   ],
   "source": [
    "# Ver columnas y tipos de datos\n",
    "df.dtypes"
   ]
  },
  {
   "cell_type": "markdown",
   "id": "dd46d7d9-135e-4872-8d63-17b490cf72ba",
   "metadata": {},
   "source": [
    "**Columna \"OFFER_START_DATE\"**"
   ]
  },
  {
   "cell_type": "markdown",
   "id": "c1255971-73e9-4d34-90d8-ff2dd6345365",
   "metadata": {},
   "source": [
    "**Columna parece representar las fechas en las cuales inicia cada oferta relámpago.**\n",
    "**Se importó como tipo Object, y luego debería castearse a tipo Datetime.**"
   ]
  },
  {
   "cell_type": "code",
   "execution_count": 17,
   "id": "51be7439-d501-4f3c-8258-ea40aabac5fd",
   "metadata": {},
   "outputs": [
    {
     "name": "stdout",
     "output_type": "stream",
     "text": [
      "object\n",
      "datetime64[ns]\n"
     ]
    }
   ],
   "source": [
    "# Imprimir tipo Object\n",
    "print(df[\"OFFER_START_DATE\"].dtype)\n",
    "\n",
    "# Castear \"OFFER_START_DATE\" a tipo Datetime\n",
    "df[\"OFFER_START_DATE\"] = pd.to_datetime(df[\"OFFER_START_DATE\"])\n",
    "\n",
    "# Verificar cambio de tipo de dato\n",
    "print(df[\"OFFER_START_DATE\"].dtype)"
   ]
  },
  {
   "cell_type": "code",
   "execution_count": 18,
   "id": "4a706b2e-5b01-49f3-b69f-d7f12b49ea06",
   "metadata": {},
   "outputs": [
    {
     "data": {
      "text/plain": [
       "False"
      ]
     },
     "execution_count": 18,
     "metadata": {},
     "output_type": "execute_result"
    }
   ],
   "source": [
    "df[\"OFFER_START_DATE\"].isna().any()"
   ]
  },
  {
   "cell_type": "markdown",
   "id": "ab3212fd-f027-406f-a790-5f2385316650",
   "metadata": {},
   "source": [
    "**No contiene nulos, por lo tanto, cada oferta tiene su inicio.**"
   ]
  },
  {
   "cell_type": "code",
   "execution_count": 34,
   "id": "51aaebe6-f30e-4a2c-873e-bf0ac212e5fd",
   "metadata": {},
   "outputs": [
    {
     "name": "stdout",
     "output_type": "stream",
     "text": [
      "Fecha máxima\n",
      "2021-07-31 00:00:00\n",
      "\n",
      "Fecha mínima\n",
      "2021-06-01 00:00:00\n"
     ]
    }
   ],
   "source": [
    "# Verificar rango de fechas\n",
    "print(\"Fecha máxima\")\n",
    "print(df[\"OFFER_START_DATE\"].max())\n",
    "\n",
    "print(\"\\nFecha mínima\")\n",
    "print(df[\"OFFER_START_DATE\"].min())"
   ]
  },
  {
   "cell_type": "markdown",
   "id": "1a630c0c-a17b-43ca-a84d-96452d3799cd",
   "metadata": {},
   "source": [
    "**La fecha de inicio de las ofertas relámpago cubre el período de 2 meses, junio y julio del 2021.**\n",
    "\n",
    "**La ventana de estos 2 meses abarca el cambio de otoño a invierno en Argentina, posiblemente influenciando las categorías y productos de las ofertas.**\n",
    "\n",
    "**Además, el rango toma casi la totalidad de las vacaciones de invierno en Argentina (21 hasta 30 de julio), posiblemente apuntando a la mayor disponibilidad horaria de niños, adolescentes y adultos (profesores, padres/madres y trabajadores que se tomen vacaciones en esta época).**"
   ]
  },
  {
   "cell_type": "code",
   "execution_count": 40,
   "id": "c094b0a2-3179-4b55-b1d6-86c1e8c05167",
   "metadata": {},
   "outputs": [
    {
     "data": {
      "text/plain": [
       "OFFER_START_DATE\n",
       "2021-07-30    1290\n",
       "2021-07-29    1285\n",
       "2021-07-08    1219\n",
       "2021-07-31    1201\n",
       "2021-07-28    1196\n",
       "              ... \n",
       "2021-06-07     411\n",
       "2021-06-06     410\n",
       "2021-06-09     363\n",
       "2021-06-08     312\n",
       "2021-06-30     250\n",
       "Name: count, Length: 61, dtype: int64"
      ]
     },
     "execution_count": 40,
     "metadata": {},
     "output_type": "execute_result"
    }
   ],
   "source": [
    "# Observar frecuencia de fechas\n",
    "frec_offer_start_date = df[\"OFFER_START_DATE\"].value_counts()\n",
    "frec_offer_start_date"
   ]
  },
  {
   "cell_type": "markdown",
   "id": "a53704b2-84fa-4463-a436-fcb34e65c9f6",
   "metadata": {},
   "source": [
    "**El 30 de julio del 2021 fue cuando más ofertas únicas comenzaron, seguido del 29, 8, 31 y 28 del mismo mes y año.**\n",
    "\n",
    "**De las primeras 5 fechas más frecuentes, 4 fechas caen durante las vacaciones de invierno en Argentina, posiblemente apuntando a maximizar ventas a partir de ofertas, aprovechando las vacaciones.**\n",
    "\n",
    "**Es relevante evaluar posteriormente, al analizar las otras variables, si las ventas efectivamente aumentan en el rango de las vacaciones de invierno, para poder confirmar el potencial comportamiento de los clientes, para finalmente recomendar campañas de marketing y ofertas durante esta época.**\n",
    "\n",
    "**Las 5 fechas menos frecuentes suceden todas en junio, posiblemente indicando que los clientes prefieren comprar cerca de sus vacaciones.**\n",
    "\n",
    "**Por otro lado, sería relevante evaluar otros meses del año, para tener un mejor entendimiento del comportamiento de compra de los clientes. Además, a la hora de realizar un modelo de Machine Learning, entrenado exclusivamente con estos datos, podría generalizar mal al sobreestimar la demanda en meses que estén fuera de vacaciones.**"
   ]
  },
  {
   "cell_type": "markdown",
   "id": "a7145631-fb0d-4902-bdd3-79078a01c95b",
   "metadata": {},
   "source": [
    "**Además, al observar que las fechas con el menor inicio de ofertas ocurren en junio, indica la existencia de una oportunidad para intentar aumentar las ventas en junio, debido a la diferencia competitiva entre meses. Se podrían aumentar las ofertas para evaluar posteriormente la efectividad de ofrecer ofertas previas a las vacaciones. Es posible que si hay pocas ofertas, exista una relación con un comportamiento de los usuarios donde esperan los descuentos en julio.**"
   ]
  },
  {
   "cell_type": "code",
   "execution_count": null,
   "id": "99c1298a-6fbd-47b7-af92-81529ec46fc3",
   "metadata": {},
   "outputs": [],
   "source": [
    "# Evaluar distribución de \"OFFER_START_DATE\"\n"
   ]
  },
  {
   "cell_type": "code",
   "execution_count": null,
   "id": "60e0e5ac-9407-4b79-b2bd-e9606a92dcd7",
   "metadata": {},
   "outputs": [],
   "source": [
    "df[\"OFFER_START_DATE\"]"
   ]
  },
  {
   "cell_type": "code",
   "execution_count": 35,
   "id": "d7441042-ab08-43c8-bf6e-e5a87bf5d3e4",
   "metadata": {},
   "outputs": [],
   "source": [
    "# Comparar diferencias de ventas entre junio y julio"
   ]
  },
  {
   "cell_type": "code",
   "execution_count": 51,
   "id": "e6074383-a2e2-4408-a5de-8a5143aa334c",
   "metadata": {},
   "outputs": [
    {
     "data": {
      "image/png": "[encoded data removed]",
      "text/plain": [
       "<Figure size 1000x600 with 4 Axes>"
      ]
     },
     "metadata": {},
     "output_type": "display_data"
    }
   ],
   "source": [
    "# Histogramas de variables numéricas\n",
    "df.hist(figsize=(10,6));"
   ]
  },
  {
   "cell_type": "code",
   "execution_count": null,
   "id": "fc67ae25-39fb-4285-9dba-3f49feab2fcb",
   "metadata": {},
   "outputs": [],
   "source": []
  },
  {
   "cell_type": "code",
   "execution_count": 53,
   "id": "229ebfe5-46b3-40c3-8c82-e000cc18114f",
   "metadata": {},
   "outputs": [
    {
     "data": {
      "text/plain": [
       "OFFER_START_DATE              object\n",
       "OFFER_START_DTTM              object\n",
       "OFFER_FINISH_DTTM             object\n",
       "OFFER_TYPE                    object\n",
       "INVOLVED_STOCK                 int64\n",
       "REMAINING_STOCK_AFTER_END      int64\n",
       "SOLD_AMOUNT                  float64\n",
       "SOLD_QUANTITY                float64\n",
       "ORIGIN                        object\n",
       "SHIPPING_PAYMENT_TYPE         object\n",
       "DOM_DOMAIN_AGG1               object\n",
       "VERTICAL                      object\n",
       "DOMAIN_ID                     object\n",
       "dtype: object"
      ]
     },
     "execution_count": 53,
     "metadata": {},
     "output_type": "execute_result"
    }
   ],
   "source": [
    "# Evaluar variables categóricas\n",
    "df.dtypes"
   ]
  },
  {
   "cell_type": "markdown",
   "id": "35cf45be-e9c4-4bd7-8641-2ac4b480484d",
   "metadata": {},
   "source": [
    "* Revisar tipos de datos\n",
    "* Evaluar casteos\n",
    "* Armar countplots de variables categóricas y de torta\n",
    "* Armar gráficos temporales\n",
    "* Armar variables dummies"
   ]
  },
  {
   "cell_type": "code",
   "execution_count": 54,
   "id": "75c87599-5f42-4435-9d07-c1efce3171dc",
   "metadata": {},
   "outputs": [
    {
     "data": {
      "text/plain": [
       "0        2021-06-22\n",
       "1        2021-06-22\n",
       "2        2021-06-22\n",
       "3        2021-06-22\n",
       "4        2021-06-22\n",
       "            ...    \n",
       "48741    2021-06-19\n",
       "48742    2021-06-19\n",
       "48743    2021-06-19\n",
       "48744    2021-06-19\n",
       "48745    2021-06-19\n",
       "Name: OFFER_START_DATE, Length: 47820, dtype: object"
      ]
     },
     "execution_count": 54,
     "metadata": {},
     "output_type": "execute_result"
    }
   ],
   "source": [
    "df[\"OFFER_START_DATE\"]"
   ]
  },
  {
   "cell_type": "code",
   "execution_count": 50,
   "id": "03f7d6b9-39ed-46f1-aafc-f22649690650",
   "metadata": {},
   "outputs": [
    {
     "data": {
      "text/plain": [
       "array([[<Axes: title={'center': 'INVOLVED_STOCK'}>,\n",
       "        <Axes: title={'center': 'REMAINING_STOCK_AFTER_END'}>],\n",
       "       [<Axes: title={'center': 'SOLD_AMOUNT'}>,\n",
       "        <Axes: title={'center': 'SOLD_QUANTITY'}>]], dtype=object)"
      ]
     },
     "execution_count": 50,
     "metadata": {},
     "output_type": "execute_result"
    },
    {
     "data": {
      "image/png": "[encoded data removed]",
      "text/plain": [
       "<Figure size 1000x600 with 4 Axes>"
      ]
     },
     "metadata": {},
     "output_type": "display_data"
    }
   ],
   "source": []
  },
  {
   "cell_type": "code",
   "execution_count": null,
   "id": "80b5c4a8-8edc-491e-8c0c-2e4197c329f0",
   "metadata": {},
   "outputs": [],
   "source": []
  },
  {
   "cell_type": "markdown",
   "id": "3bc628a0-19db-4fdd-9e98-06d7f517309b",
   "metadata": {},
   "source": [
    "## Evaluar outliers"
   ]
  },
  {
   "cell_type": "code",
   "execution_count": null,
   "id": "faa97ac0-b967-4f60-95b0-c95074438b0d",
   "metadata": {},
   "outputs": [],
   "source": []
  },
  {
   "cell_type": "markdown",
   "id": "01606f43-69f4-4c15-a0af-6d8ae40c5be0",
   "metadata": {},
   "source": [
    "## Evaluar correlaciones"
   ]
  },
  {
   "cell_type": "code",
   "execution_count": 19,
   "id": "e393f20e-d0b9-43c3-8220-555f42af1c3a",
   "metadata": {},
   "outputs": [
    {
     "data": {
      "text/html": [
       "<div>\n",
       "<style scoped>\n",
       "    .dataframe tbody tr th:only-of-type {\n",
       "        vertical-align: middle;\n",
       "    }\n",
       "\n",
       "    .dataframe tbody tr th {\n",
       "        vertical-align: top;\n",
       "    }\n",
       "\n",
       "    .dataframe thead th {\n",
       "        text-align: right;\n",
       "    }\n",
       "</style>\n",
       "<table border=\"1\" class=\"dataframe\">\n",
       "  <thead>\n",
       "    <tr style=\"text-align: right;\">\n",
       "      <th></th>\n",
       "      <th>INVOLVED_STOCK</th>\n",
       "      <th>REMAINING_STOCK_AFTER_END</th>\n",
       "      <th>SOLD_AMOUNT</th>\n",
       "      <th>SOLD_QUANTITY</th>\n",
       "    </tr>\n",
       "  </thead>\n",
       "  <tbody>\n",
       "    <tr>\n",
       "      <th>INVOLVED_STOCK</th>\n",
       "      <td>1.000000</td>\n",
       "      <td>0.994240</td>\n",
       "      <td>0.405859</td>\n",
       "      <td>0.557684</td>\n",
       "    </tr>\n",
       "    <tr>\n",
       "      <th>REMAINING_STOCK_AFTER_END</th>\n",
       "      <td>0.994240</td>\n",
       "      <td>1.000000</td>\n",
       "      <td>0.354320</td>\n",
       "      <td>0.484031</td>\n",
       "    </tr>\n",
       "    <tr>\n",
       "      <th>SOLD_AMOUNT</th>\n",
       "      <td>0.405859</td>\n",
       "      <td>0.354320</td>\n",
       "      <td>1.000000</td>\n",
       "      <td>0.708884</td>\n",
       "    </tr>\n",
       "    <tr>\n",
       "      <th>SOLD_QUANTITY</th>\n",
       "      <td>0.557684</td>\n",
       "      <td>0.484031</td>\n",
       "      <td>0.708884</td>\n",
       "      <td>1.000000</td>\n",
       "    </tr>\n",
       "  </tbody>\n",
       "</table>\n",
       "</div>"
      ],
      "text/plain": [
       "                           INVOLVED_STOCK  REMAINING_STOCK_AFTER_END  \\\n",
       "INVOLVED_STOCK                   1.000000                   0.994240   \n",
       "REMAINING_STOCK_AFTER_END        0.994240                   1.000000   \n",
       "SOLD_AMOUNT                      0.405859                   0.354320   \n",
       "SOLD_QUANTITY                    0.557684                   0.484031   \n",
       "\n",
       "                           SOLD_AMOUNT  SOLD_QUANTITY  \n",
       "INVOLVED_STOCK                0.405859       0.557684  \n",
       "REMAINING_STOCK_AFTER_END     0.354320       0.484031  \n",
       "SOLD_AMOUNT                   1.000000       0.708884  \n",
       "SOLD_QUANTITY                 0.708884       1.000000  "
      ]
     },
     "execution_count": 19,
     "metadata": {},
     "output_type": "execute_result"
    }
   ],
   "source": [
    "# Evaluar correlaciones de atributos numéricos\n",
    "df_numeric = df.select_dtypes(include=[\"float64\", \"int64\"])\n",
    "df_numeric_corr = df_numeric.corr()\n",
    "df_numeric_corr"
   ]
  },
  {
   "cell_type": "code",
   "execution_count": 56,
   "id": "76150474-1d7f-4a8b-9086-5da38e1ea196",
   "metadata": {},
   "outputs": [
    {
     "data": {
      "text/plain": [
       "''"
      ]
     },
     "execution_count": 56,
     "metadata": {},
     "output_type": "execute_result"
    },
    {
     "data": {
      "image/png": "[encoded data removed]",
      "text/plain": [
       "<Figure size 400x400 with 2 Axes>"
      ]
     },
     "metadata": {},
     "output_type": "display_data"
    }
   ],
   "source": [
    "plt.figure(figsize=(4, 4))\n",
    "sns.heatmap(df_numeric_corr)\n",
    ";"
   ]
  },
  {
   "cell_type": "code",
   "execution_count": null,
   "id": "65b6ae01-822d-4a3d-b684-6f56417ea29a",
   "metadata": {},
   "outputs": [],
   "source": []
  },
  {
   "cell_type": "code",
   "execution_count": null,
   "id": "652d0583-6464-4da1-bcab-39b4906b2c82",
   "metadata": {},
   "outputs": [],
   "source": []
  },
  {
   "cell_type": "code",
   "execution_count": null,
   "id": "a5c2b0ed-42e7-423d-904e-e7a3816b36e0",
   "metadata": {},
   "outputs": [],
   "source": []
  },
  {
   "cell_type": "code",
   "execution_count": null,
   "id": "f2ed4545-ef08-4eb5-b7b8-e073316af54b",
   "metadata": {},
   "outputs": [],
   "source": []
  },
  {
   "cell_type": "markdown",
   "id": "4d7b91ce-b9ec-4526-8347-63e9f85a1e59",
   "metadata": {},
   "source": [
    "# Conclusiones"
   ]
  },
  {
   "cell_type": "code",
   "execution_count": null,
   "id": "4a714f21-bd28-4387-8684-9aec656f91fb",
   "metadata": {},
   "outputs": [],
   "source": []
  }
 ],
 "metadata": {
  "kernelspec": {
   "display_name": "Python 3 (ipykernel)",
   "language": "python",
   "name": "python3"
  },
  "language_info": {
   "codemirror_mode": {
    "name": "ipython",
    "version": 3
   },
   "file_extension": ".py",
   "mimetype": "text/x-python",
   "name": "python",
   "nbconvert_exporter": "python",
   "pygments_lexer": "ipython3",
   "version": "3.12.5"
  }
 },
 "nbformat": 4,
 "nbformat_minor": 5
}
