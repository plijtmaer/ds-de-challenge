{
 "cells": [
  {
   "cell_type": "markdown",
   "id": "8ff07174-42f5-4b73-b807-370910169c5e",
   "metadata": {},
   "source": [
    "# Importar bibliotecas"
   ]
  },
  {
   "cell_type": "code",
   "execution_count": 1,
   "id": "06ef834e-4961-4803-9d1a-45af38d84d73",
   "metadata": {},
   "outputs": [],
   "source": [
    "import pandas as pd\n",
    "import numpy as np\n",
    "import matplotlib.pyplot as plt\n",
    "import seaborn as sns\n",
    "import statsmodels.api as sm\n",
    "import statsmodels.formula.api as smf\n",
    "import statsmodels.tsa.api as smt\n",
    "from sklearn.model_selection import train_test_split\n",
    "from sklearn.metrics import mean_squared_error\n",
    "from statsmodels.tsa.stattools import adfuller, acf, pacf\n",
    "from statsmodels.graphics.tsaplots import plot_acf, plot_pacf ,plot_predict\n",
    "from statsmodels.tsa.arima.model import ARIMA\n",
    "from sklearn import linear_model\n",
    "from statsmodels.tsa.statespace.sarimax import SARIMAX"
   ]
  },
  {
   "cell_type": "markdown",
   "id": "337c200e-44a9-4a63-9fef-c56bb353e608",
   "metadata": {},
   "source": [
    "# Cargar y explorar el dataset"
   ]
  },
  {
   "cell_type": "code",
   "execution_count": 2,
   "id": "dc9981b1-3201-491e-8c56-a99c130c3750",
   "metadata": {},
   "outputs": [],
   "source": [
    "# Cargar dataset en un DataFrame\n",
    "path = \"../Data/series (1).csv\"\n",
    "df = pd.read_csv(path)"
   ]
  },
  {
   "cell_type": "code",
   "execution_count": 3,
   "id": "765c2302-8b71-4d84-bb84-863863ae773c",
   "metadata": {},
   "outputs": [
    {
     "name": "stdout",
     "output_type": "stream",
     "text": [
      "Registros: 2686\n",
      "Columnas: 3\n"
     ]
    }
   ],
   "source": [
    "# Ver forma del df\n",
    "registros = df.shape[0]\n",
    "columnas = df.shape[1]\n",
    "print(f\"Registros: {registros}\\nColumnas: {columnas}\")"
   ]
  },
  {
   "cell_type": "code",
   "execution_count": 4,
   "id": "3489ba71-cd1a-458e-92a2-bf9b2ea249a1",
   "metadata": {},
   "outputs": [
    {
     "data": {
      "text/html": [
       "<div>\n",
       "<style scoped>\n",
       "    .dataframe tbody tr th:only-of-type {\n",
       "        vertical-align: middle;\n",
       "    }\n",
       "\n",
       "    .dataframe tbody tr th {\n",
       "        vertical-align: top;\n",
       "    }\n",
       "\n",
       "    .dataframe thead th {\n",
       "        text-align: right;\n",
       "    }\n",
       "</style>\n",
       "<table border=\"1\" class=\"dataframe\">\n",
       "  <thead>\n",
       "    <tr style=\"text-align: right;\">\n",
       "      <th></th>\n",
       "      <th>CATEGORY</th>\n",
       "      <th>DATE</th>\n",
       "      <th>UNITS_SOLD</th>\n",
       "    </tr>\n",
       "  </thead>\n",
       "  <tbody>\n",
       "    <tr>\n",
       "      <th>0</th>\n",
       "      <td>CATEG-1</td>\n",
       "      <td>2021-08-17</td>\n",
       "      <td>59</td>\n",
       "    </tr>\n",
       "    <tr>\n",
       "      <th>1</th>\n",
       "      <td>CATEG-1</td>\n",
       "      <td>2020-09-19</td>\n",
       "      <td>40</td>\n",
       "    </tr>\n",
       "    <tr>\n",
       "      <th>2</th>\n",
       "      <td>CATEG-2</td>\n",
       "      <td>2021-10-26</td>\n",
       "      <td>23</td>\n",
       "    </tr>\n",
       "  </tbody>\n",
       "</table>\n",
       "</div>"
      ],
      "text/plain": [
       "  CATEGORY        DATE  UNITS_SOLD\n",
       "0  CATEG-1  2021-08-17          59\n",
       "1  CATEG-1  2020-09-19          40\n",
       "2  CATEG-2  2021-10-26          23"
      ]
     },
     "execution_count": 4,
     "metadata": {},
     "output_type": "execute_result"
    }
   ],
   "source": [
    "# Observar primeros 3 registros\n",
    "df.head(3)"
   ]
  },
  {
   "cell_type": "code",
   "execution_count": 5,
   "id": "6b0d0172-34b5-4ea9-aa6b-67cdc6008f0d",
   "metadata": {},
   "outputs": [
    {
     "name": "stdout",
     "output_type": "stream",
     "text": [
      "False\n",
      "<class 'pandas.core.frame.DataFrame'>\n",
      "RangeIndex: 2686 entries, 0 to 2685\n",
      "Data columns (total 3 columns):\n",
      " #   Column      Non-Null Count  Dtype \n",
      "---  ------      --------------  ----- \n",
      " 0   CATEGORY    2686 non-null   object\n",
      " 1   DATE        2686 non-null   object\n",
      " 2   UNITS_SOLD  2686 non-null   int64 \n",
      "dtypes: int64(1), object(2)\n",
      "memory usage: 63.1+ KB\n"
     ]
    }
   ],
   "source": [
    "# Ver columnas, tipos de datos y si contienen nulos\n",
    "print(df.isna().any().any())\n",
    "df.info()"
   ]
  },
  {
   "cell_type": "markdown",
   "id": "33eae083-ad5d-47c2-8d47-6043fbe7599d",
   "metadata": {},
   "source": [
    "**El df no contiene nulos.**"
   ]
  },
  {
   "cell_type": "markdown",
   "id": "6a595c00-3733-42d4-b0c5-342216414615",
   "metadata": {},
   "source": [
    "**Hay 3 columnas, una con categoría de productos de tipo object, otra de fecha de tipo Object, y finalmente las unidades, de tipo Int. La columna \"DATE\" posteriormente será casteada a time Datetime.**"
   ]
  },
  {
   "cell_type": "code",
   "execution_count": 6,
   "id": "df4e30e1-8d19-4b02-90cd-3f8a2fcde38f",
   "metadata": {},
   "outputs": [
    {
     "data": {
      "text/plain": [
       "CATEGORY\n",
       "CATEG-3    920\n",
       "CATEG-1    887\n",
       "CATEG-2    879\n",
       "Name: count, dtype: int64"
      ]
     },
     "execution_count": 6,
     "metadata": {},
     "output_type": "execute_result"
    }
   ],
   "source": [
    "# Evaluar categorías\n",
    "df[\"CATEGORY\"].value_counts()"
   ]
  },
  {
   "cell_type": "markdown",
   "id": "c53126e9-a536-4b90-91a8-b6559593154e",
   "metadata": {},
   "source": [
    "**El df presenta 3 categorías, con cantidades similares de registros. Para entrenar modelos ARIMA, SARIMA y SARIMAX, el df se dividirá para cada categoría.**"
   ]
  },
  {
   "cell_type": "code",
   "execution_count": 7,
   "id": "e15cabbf-58e6-4890-8994-38688aee9f9c",
   "metadata": {},
   "outputs": [
    {
     "data": {
      "text/plain": [
       "921"
      ]
     },
     "execution_count": 7,
     "metadata": {},
     "output_type": "execute_result"
    }
   ],
   "source": [
    "# Evaluar columna \"DATE\"\n",
    "df[\"DATE\"].nunique()"
   ]
  },
  {
   "cell_type": "markdown",
   "id": "59cf4713-3079-4e6a-a6ca-8d6f4605d047",
   "metadata": {},
   "source": [
    "**La columna \"DATE\" contiene 921 fechas únicas.**"
   ]
  },
  {
   "cell_type": "code",
   "execution_count": 8,
   "id": "1a136cda-76b3-4e8d-aca7-3c9e3f2b409a",
   "metadata": {},
   "outputs": [
    {
     "name": "stdout",
     "output_type": "stream",
     "text": [
      "Fecha mínima: 2018-09-24\n",
      "Fecha máxima: 2021-11-12\n"
     ]
    }
   ],
   "source": [
    "print(f\"Fecha mínima: {df[\"DATE\"].min()}\\nFecha máxima: {df[\"DATE\"].max()}\")"
   ]
  },
  {
   "cell_type": "code",
   "execution_count": 9,
   "id": "443bc916-62e4-481f-83c1-641e0c6bbd2f",
   "metadata": {},
   "outputs": [
    {
     "data": {
      "text/plain": [
       "dtype('<M8[ns]')"
      ]
     },
     "execution_count": 9,
     "metadata": {},
     "output_type": "execute_result"
    }
   ],
   "source": [
    "# Convertir columna \"DATE\" en tipo Datetime\n",
    "df[\"DATE\"] = pd.to_datetime(df[\"DATE\"])\n",
    "df[\"DATE\"].dtype"
   ]
  },
  {
   "cell_type": "code",
   "execution_count": 10,
   "id": "1fff9d53-1411-4889-97a7-4d2e345b6d79",
   "metadata": {},
   "outputs": [
    {
     "data": {
      "text/plain": [
       "UNITS_SOLD\n",
       "3     46\n",
       "4     45\n",
       "18    38\n",
       "11    36\n",
       "1     33\n",
       "Name: count, dtype: int64"
      ]
     },
     "execution_count": 10,
     "metadata": {},
     "output_type": "execute_result"
    }
   ],
   "source": [
    "# Evaluar columna \"UNITS_SOLD\"\n",
    "df[\"UNITS_SOLD\"].value_counts()[:5]"
   ]
  },
  {
   "cell_type": "code",
   "execution_count": 11,
   "id": "addc8abe-a564-408b-b7a6-9e6378defc71",
   "metadata": {},
   "outputs": [
    {
     "data": {
      "text/plain": [
       "915"
      ]
     },
     "execution_count": 11,
     "metadata": {},
     "output_type": "execute_result"
    }
   ],
   "source": [
    "df[\"UNITS_SOLD\"].nunique()"
   ]
  },
  {
   "cell_type": "code",
   "execution_count": 12,
   "id": "2b0732c6-54d9-4c2f-ab06-2ee99d763869",
   "metadata": {},
   "outputs": [
    {
     "data": {
      "text/plain": [
       "count    2686.000000\n",
       "mean      531.340283\n",
       "std       840.944458\n",
       "min         0.000000\n",
       "25%        25.000000\n",
       "50%        62.000000\n",
       "75%       695.000000\n",
       "max      7551.000000\n",
       "Name: UNITS_SOLD, dtype: float64"
      ]
     },
     "execution_count": 12,
     "metadata": {},
     "output_type": "execute_result"
    }
   ],
   "source": [
    "# Evaluar estadísticas descriptivas\n",
    "df[\"UNITS_SOLD\"].describe()"
   ]
  },
  {
   "cell_type": "markdown",
   "id": "04409bcc-5cd2-4165-bd6b-d5dd8074c8bd",
   "metadata": {},
   "source": [
    "**El rango de la cantidad de unidades vendidas va de 0 a 7551, con una mediana de 62 y una media de aproximadamente 531, indicando la presencia de outliers.**"
   ]
  },
  {
   "cell_type": "code",
   "execution_count": 13,
   "id": "e0ef0f97-12e2-4675-950b-a877cf50aa60",
   "metadata": {},
   "outputs": [
    {
     "data": {
      "image/png": "[encoded data removed]",
      "text/plain": [
       "<Figure size 1000x500 with 1 Axes>"
      ]
     },
     "metadata": {},
     "output_type": "display_data"
    }
   ],
   "source": [
    "# Graficar\n",
    "plt.figure(figsize=(10,5))\n",
    "plt.title(\"Boxplot de 'UNITS_SOLD'\")\n",
    "plt.xlabel(\"Unidades vendidas\")\n",
    "sns.boxplot(x=df[\"UNITS_SOLD\"]);"
   ]
  },
  {
   "cell_type": "code",
   "execution_count": null,
   "id": "1266ce13-9f3c-4e73-8b5d-0c3debb75373",
   "metadata": {},
   "outputs": [],
   "source": []
  },
  {
   "cell_type": "code",
   "execution_count": 14,
   "id": "bcccf241-0d9c-4e77-80d8-c5961bb14adc",
   "metadata": {},
   "outputs": [
    {
     "data": {
      "text/plain": [
       "CATEGORY\n",
       "CATEG-3    1340720\n",
       "CATEG-1      47127\n",
       "CATEG-2      39333\n",
       "Name: UNITS_SOLD, dtype: int64"
      ]
     },
     "execution_count": 14,
     "metadata": {},
     "output_type": "execute_result"
    }
   ],
   "source": [
    "# Agrupar por categoría y evaluar unidades vendidas\n",
    "ventas_por_cat = df.groupby(\"CATEGORY\")[\"UNITS_SOLD\"].sum().sort_values(ascending=False)\n",
    "ventas_por_cat"
   ]
  },
  {
   "cell_type": "code",
   "execution_count": 15,
   "id": "2e8cdaa1-ab8c-4d34-89c9-92a000425c17",
   "metadata": {},
   "outputs": [
    {
     "data": {
      "image/png": "[encoded data removed]",
      "text/plain": [
       "<Figure size 1000x500 with 1 Axes>"
      ]
     },
     "metadata": {},
     "output_type": "display_data"
    }
   ],
   "source": [
    "# Graficar ventas por categoría\n",
    "plt.figure(figsize=(10,5))\n",
    "plt.title(\"Ventas por categoría\")\n",
    "plt.ylabel(\"Categoría\")\n",
    "plt.xlabel(\"Ventas\")\n",
    "plt.ticklabel_format(style='plain', axis='x')\n",
    "sns.barplot(y=ventas_por_cat.index, x=ventas_por_cat.values);"
   ]
  },
  {
   "cell_type": "code",
   "execution_count": 16,
   "id": "726a497a-955f-462f-8d93-c7332fe6fdab",
   "metadata": {},
   "outputs": [
    {
     "data": {
      "text/plain": [
       "1293593"
      ]
     },
     "execution_count": 16,
     "metadata": {},
     "output_type": "execute_result"
    }
   ],
   "source": [
    "# Calcular diferencia de ventas entre la primera y segunda categoría con mayor cantidad de ventas\n",
    "dif_ventas_por_cat = ventas_por_cat.loc[\"CATEG-3\"] - ventas_por_cat.loc[\"CATEG-1\"]\n",
    "dif_ventas_por_cat"
   ]
  },
  {
   "cell_type": "markdown",
   "id": "dff0831d-ab79-439d-8cf7-28893a09307c",
   "metadata": {},
   "source": [
    "**Se puede observar que la categoría \"CATEG-3\" es la que mayor unidades vendidas presenta, seguidas de lejos por la 1 y la 2, con una diferencia de 1293593 unidades vendidas entre la \"CATEG-3\" y la \"CATEG-1\".**"
   ]
  },
  {
   "cell_type": "markdown",
   "id": "44f0d824-c5df-4e83-b427-36cc02f6439a",
   "metadata": {},
   "source": [
    "# Preprocesamiento para ARIMA, SARIMA y SARIMAX"
   ]
  },
  {
   "cell_type": "markdown",
   "id": "0f0576d1-8ec9-48c5-9331-67067cc4309d",
   "metadata": {},
   "source": [
    "**Para trabajar con los modelos ARIMA, es necesario dividir el dataset por cada categoría. Esto es necesario porque el modelo se basa en el comportamiento histórico de cada categoría, y cada una puede tener patrones únicos. Los modelos agregados mezclarían los patrones y podrían empeorar el forecasting.**\n",
    "\n",
    "**Esta división permitiría estimar las ventas de los siguientes 21 días, para cada una de las categorías.**"
   ]
  },
  {
   "cell_type": "code",
   "execution_count": 17,
   "id": "82d03610-1454-4066-830a-cf27a4e03cfb",
   "metadata": {},
   "outputs": [
    {
     "name": "stdout",
     "output_type": "stream",
     "text": [
      "  CATEGORY       DATE  UNITS_SOLD\n",
      "0  CATEG-1 2021-08-17          59\n",
      "  CATEGORY       DATE  UNITS_SOLD\n",
      "2  CATEG-2 2021-10-26          23\n",
      "  CATEGORY       DATE  UNITS_SOLD\n",
      "5  CATEG-3 2018-10-18           1\n"
     ]
    }
   ],
   "source": [
    "# Crear 3 df filtrados por cada categoría y crear copias para no modificar el df original\n",
    "categ_1 = df[df[\"CATEGORY\"] == \"CATEG-1\"].copy()\n",
    "categ_2 = df[df[\"CATEGORY\"] == \"CATEG-2\"].copy()\n",
    "categ_3 = df[df[\"CATEGORY\"] == \"CATEG-3\"].copy()\n",
    "\n",
    "# Verificar\n",
    "print(categ_1.head(1))\n",
    "print(categ_2.head(1))\n",
    "print(categ_3.head(1))"
   ]
  },
  {
   "cell_type": "code",
   "execution_count": 18,
   "id": "6b385e34-a4bc-4e2c-8dec-84f7ce934d34",
   "metadata": {},
   "outputs": [
    {
     "data": {
      "text/plain": [
       "1526   2018-10-16\n",
       "506    2019-06-11\n",
       "1539   2019-06-12\n",
       "Name: DATE, dtype: datetime64[ns]"
      ]
     },
     "execution_count": 18,
     "metadata": {},
     "output_type": "execute_result"
    }
   ],
   "source": [
    "# Ordenar dfs por fechas\n",
    "categ_1 = categ_1.sort_values(by=[\"DATE\"])\n",
    "categ_2 = categ_2.sort_values(by=[\"DATE\"])\n",
    "categ_3 = categ_3.sort_values(by=[\"DATE\"])\n",
    "\n",
    "# Verificar\n",
    "categ_1[\"DATE\"].head(3)"
   ]
  },
  {
   "cell_type": "markdown",
   "id": "94bb2ba7-627a-4950-b28f-5f641030a038",
   "metadata": {},
   "source": [
    "**Evaluar secuencialidad de fechas, porque los modelos ARIMA, SARIMA y SARIMAX requieren fechas consecutivas.**"
   ]
  },
  {
   "cell_type": "code",
   "execution_count": 19,
   "id": "648920ab-a988-4e03-9811-810bd058a12c",
   "metadata": {},
   "outputs": [
    {
     "data": {
      "text/html": [
       "<div>\n",
       "<style scoped>\n",
       "    .dataframe tbody tr th:only-of-type {\n",
       "        vertical-align: middle;\n",
       "    }\n",
       "\n",
       "    .dataframe tbody tr th {\n",
       "        vertical-align: top;\n",
       "    }\n",
       "\n",
       "    .dataframe thead th {\n",
       "        text-align: right;\n",
       "    }\n",
       "</style>\n",
       "<table border=\"1\" class=\"dataframe\">\n",
       "  <thead>\n",
       "    <tr style=\"text-align: right;\">\n",
       "      <th></th>\n",
       "      <th>CATEGORY</th>\n",
       "      <th>DATE</th>\n",
       "      <th>UNITS_SOLD</th>\n",
       "    </tr>\n",
       "  </thead>\n",
       "  <tbody>\n",
       "    <tr>\n",
       "      <th>1526</th>\n",
       "      <td>CATEG-1</td>\n",
       "      <td>2018-10-16</td>\n",
       "      <td>1</td>\n",
       "    </tr>\n",
       "    <tr>\n",
       "      <th>506</th>\n",
       "      <td>CATEG-1</td>\n",
       "      <td>2019-06-11</td>\n",
       "      <td>27</td>\n",
       "    </tr>\n",
       "    <tr>\n",
       "      <th>1539</th>\n",
       "      <td>CATEG-1</td>\n",
       "      <td>2019-06-12</td>\n",
       "      <td>26</td>\n",
       "    </tr>\n",
       "    <tr>\n",
       "      <th>423</th>\n",
       "      <td>CATEG-1</td>\n",
       "      <td>2019-06-13</td>\n",
       "      <td>24</td>\n",
       "    </tr>\n",
       "    <tr>\n",
       "      <th>2222</th>\n",
       "      <td>CATEG-1</td>\n",
       "      <td>2019-06-14</td>\n",
       "      <td>18</td>\n",
       "    </tr>\n",
       "  </tbody>\n",
       "</table>\n",
       "</div>"
      ],
      "text/plain": [
       "     CATEGORY       DATE  UNITS_SOLD\n",
       "1526  CATEG-1 2018-10-16           1\n",
       "506   CATEG-1 2019-06-11          27\n",
       "1539  CATEG-1 2019-06-12          26\n",
       "423   CATEG-1 2019-06-13          24\n",
       "2222  CATEG-1 2019-06-14          18"
      ]
     },
     "execution_count": 19,
     "metadata": {},
     "output_type": "execute_result"
    }
   ],
   "source": [
    "categ_1.head()"
   ]
  },
  {
   "cell_type": "code",
   "execution_count": 20,
   "id": "845fb4ad-3494-4a09-bf30-c464bcd40fdf",
   "metadata": {},
   "outputs": [
    {
     "data": {
      "text/html": [
       "<div>\n",
       "<style scoped>\n",
       "    .dataframe tbody tr th:only-of-type {\n",
       "        vertical-align: middle;\n",
       "    }\n",
       "\n",
       "    .dataframe tbody tr th {\n",
       "        vertical-align: top;\n",
       "    }\n",
       "\n",
       "    .dataframe thead th {\n",
       "        text-align: right;\n",
       "    }\n",
       "</style>\n",
       "<table border=\"1\" class=\"dataframe\">\n",
       "  <thead>\n",
       "    <tr style=\"text-align: right;\">\n",
       "      <th></th>\n",
       "      <th>CATEGORY</th>\n",
       "      <th>DATE</th>\n",
       "      <th>UNITS_SOLD</th>\n",
       "    </tr>\n",
       "  </thead>\n",
       "  <tbody>\n",
       "    <tr>\n",
       "      <th>59</th>\n",
       "      <td>CATEG-2</td>\n",
       "      <td>2018-10-16</td>\n",
       "      <td>1</td>\n",
       "    </tr>\n",
       "    <tr>\n",
       "      <th>2369</th>\n",
       "      <td>CATEG-2</td>\n",
       "      <td>2019-06-11</td>\n",
       "      <td>15</td>\n",
       "    </tr>\n",
       "    <tr>\n",
       "      <th>1503</th>\n",
       "      <td>CATEG-2</td>\n",
       "      <td>2019-06-12</td>\n",
       "      <td>13</td>\n",
       "    </tr>\n",
       "    <tr>\n",
       "      <th>92</th>\n",
       "      <td>CATEG-2</td>\n",
       "      <td>2019-06-13</td>\n",
       "      <td>8</td>\n",
       "    </tr>\n",
       "    <tr>\n",
       "      <th>814</th>\n",
       "      <td>CATEG-2</td>\n",
       "      <td>2019-06-14</td>\n",
       "      <td>9</td>\n",
       "    </tr>\n",
       "  </tbody>\n",
       "</table>\n",
       "</div>"
      ],
      "text/plain": [
       "     CATEGORY       DATE  UNITS_SOLD\n",
       "59    CATEG-2 2018-10-16           1\n",
       "2369  CATEG-2 2019-06-11          15\n",
       "1503  CATEG-2 2019-06-12          13\n",
       "92    CATEG-2 2019-06-13           8\n",
       "814   CATEG-2 2019-06-14           9"
      ]
     },
     "execution_count": 20,
     "metadata": {},
     "output_type": "execute_result"
    }
   ],
   "source": [
    "categ_2.head()"
   ]
  },
  {
   "cell_type": "code",
   "execution_count": 21,
   "id": "a1b3da1e-fe1e-470c-8cdd-65598f07620b",
   "metadata": {},
   "outputs": [
    {
     "data": {
      "text/html": [
       "<div>\n",
       "<style scoped>\n",
       "    .dataframe tbody tr th:only-of-type {\n",
       "        vertical-align: middle;\n",
       "    }\n",
       "\n",
       "    .dataframe tbody tr th {\n",
       "        vertical-align: top;\n",
       "    }\n",
       "\n",
       "    .dataframe thead th {\n",
       "        text-align: right;\n",
       "    }\n",
       "</style>\n",
       "<table border=\"1\" class=\"dataframe\">\n",
       "  <thead>\n",
       "    <tr style=\"text-align: right;\">\n",
       "      <th></th>\n",
       "      <th>CATEGORY</th>\n",
       "      <th>DATE</th>\n",
       "      <th>UNITS_SOLD</th>\n",
       "    </tr>\n",
       "  </thead>\n",
       "  <tbody>\n",
       "    <tr>\n",
       "      <th>1818</th>\n",
       "      <td>CATEG-3</td>\n",
       "      <td>2018-09-24</td>\n",
       "      <td>0</td>\n",
       "    </tr>\n",
       "    <tr>\n",
       "      <th>2136</th>\n",
       "      <td>CATEG-3</td>\n",
       "      <td>2018-09-25</td>\n",
       "      <td>0</td>\n",
       "    </tr>\n",
       "    <tr>\n",
       "      <th>1803</th>\n",
       "      <td>CATEG-3</td>\n",
       "      <td>2018-09-27</td>\n",
       "      <td>0</td>\n",
       "    </tr>\n",
       "    <tr>\n",
       "      <th>669</th>\n",
       "      <td>CATEG-3</td>\n",
       "      <td>2018-09-28</td>\n",
       "      <td>2</td>\n",
       "    </tr>\n",
       "    <tr>\n",
       "      <th>2617</th>\n",
       "      <td>CATEG-3</td>\n",
       "      <td>2018-09-29</td>\n",
       "      <td>1</td>\n",
       "    </tr>\n",
       "  </tbody>\n",
       "</table>\n",
       "</div>"
      ],
      "text/plain": [
       "     CATEGORY       DATE  UNITS_SOLD\n",
       "1818  CATEG-3 2018-09-24           0\n",
       "2136  CATEG-3 2018-09-25           0\n",
       "1803  CATEG-3 2018-09-27           0\n",
       "669   CATEG-3 2018-09-28           2\n",
       "2617  CATEG-3 2018-09-29           1"
      ]
     },
     "execution_count": 21,
     "metadata": {},
     "output_type": "execute_result"
    }
   ],
   "source": [
    "categ_3.head()"
   ]
  },
  {
   "cell_type": "markdown",
   "id": "208e67ee-2472-442f-b2ee-852c5b5f755a",
   "metadata": {},
   "source": [
    "**Se puede observar que por lo menos en los df de \"CATEG-1\" y \"CATEG-2\", hay 1 salto de fechas.**\n",
    "\n",
    "**Es necesario entender si es un comportamiento que solo sucede con el primer registro, en ese caso se podría evaluar eliminarlo, ya que solo tiene una venta y un salto significativo, o si es una situación frecuente, y en ese caso se podría rellenar con 0 ventas las fechas faltantes, para representar la falta de ventas, para generar una continuidad en las fechas y que los modelos funcionen correctamente.**"
   ]
  },
  {
   "cell_type": "code",
   "execution_count": 22,
   "id": "d814a820-6c04-4275-9d26-6f763d3edd40",
   "metadata": {},
   "outputs": [],
   "source": [
    "# Función para evaluar fechas no consecutivas\n",
    "def fechas_no_consecutivas(df_cat, col=\"DATE\"):\n",
    "    \"\"\"Función que devuelve un df con fechas que no sean consecutivas con las otras fechas de la columna\"\"\"\n",
    "    # Crear nuevo df para testear\n",
    "    df_test = df_cat.copy()\n",
    "    \n",
    "    # Calcular diferencias hacia adelante y hacia atrás\n",
    "    dif_anterior = df_test[col].diff(periods=1)  \n",
    "    dif_posterior = df_test[col].diff(periods=-1)\n",
    "\n",
    "    # Filtrar donde la diferencia no sea de 1 día\n",
    "    fechas_no_continuas = (dif_anterior != pd.Timedelta(days=1)) & (dif_anterior.notna()) | \\\n",
    "                          (dif_posterior != pd.Timedelta(days=-1)) & (dif_posterior.notna())\n",
    "\n",
    "    # Devolver las fechas no consecutivas y sus índices\n",
    "    return df_test[fechas_no_continuas], df_cat[fechas_no_continuas].index"
   ]
  },
  {
   "cell_type": "code",
   "execution_count": 23,
   "id": "3a42b9f1-261a-4ba7-a74f-57ec5bcee338",
   "metadata": {},
   "outputs": [
    {
     "name": "stdout",
     "output_type": "stream",
     "text": [
      "Index([1526, 506], dtype='int64')\n"
     ]
    },
    {
     "data": {
      "text/html": [
       "<div>\n",
       "<style scoped>\n",
       "    .dataframe tbody tr th:only-of-type {\n",
       "        vertical-align: middle;\n",
       "    }\n",
       "\n",
       "    .dataframe tbody tr th {\n",
       "        vertical-align: top;\n",
       "    }\n",
       "\n",
       "    .dataframe thead th {\n",
       "        text-align: right;\n",
       "    }\n",
       "</style>\n",
       "<table border=\"1\" class=\"dataframe\">\n",
       "  <thead>\n",
       "    <tr style=\"text-align: right;\">\n",
       "      <th></th>\n",
       "      <th>CATEGORY</th>\n",
       "      <th>DATE</th>\n",
       "      <th>UNITS_SOLD</th>\n",
       "    </tr>\n",
       "  </thead>\n",
       "  <tbody>\n",
       "    <tr>\n",
       "      <th>1526</th>\n",
       "      <td>CATEG-1</td>\n",
       "      <td>2018-10-16</td>\n",
       "      <td>1</td>\n",
       "    </tr>\n",
       "    <tr>\n",
       "      <th>506</th>\n",
       "      <td>CATEG-1</td>\n",
       "      <td>2019-06-11</td>\n",
       "      <td>27</td>\n",
       "    </tr>\n",
       "  </tbody>\n",
       "</table>\n",
       "</div>"
      ],
      "text/plain": [
       "     CATEGORY       DATE  UNITS_SOLD\n",
       "1526  CATEG-1 2018-10-16           1\n",
       "506   CATEG-1 2019-06-11          27"
      ]
     },
     "execution_count": 23,
     "metadata": {},
     "output_type": "execute_result"
    }
   ],
   "source": [
    "# Evaluar fechas no consecutivas para categ_1\n",
    "categ_1_fechas_no_consecutivas, categ_1_idx_a_arreglar = fechas_no_consecutivas(categ_1)\n",
    "print(categ_1_idx_a_arreglar)\n",
    "categ_1_fechas_date = categ_1_fechas_no_consecutivas[\"DATE\"]\n",
    "categ_1_fechas_no_consecutivas"
   ]
  },
  {
   "cell_type": "code",
   "execution_count": 24,
   "id": "8125a2fc-7146-4333-8eee-ae9ee4362a4d",
   "metadata": {},
   "outputs": [
    {
     "name": "stdout",
     "output_type": "stream",
     "text": [
      "Index([59, 2369, 1484, 304, 90, 1043], dtype='int64')\n"
     ]
    },
    {
     "data": {
      "text/html": [
       "<div>\n",
       "<style scoped>\n",
       "    .dataframe tbody tr th:only-of-type {\n",
       "        vertical-align: middle;\n",
       "    }\n",
       "\n",
       "    .dataframe tbody tr th {\n",
       "        vertical-align: top;\n",
       "    }\n",
       "\n",
       "    .dataframe thead th {\n",
       "        text-align: right;\n",
       "    }\n",
       "</style>\n",
       "<table border=\"1\" class=\"dataframe\">\n",
       "  <thead>\n",
       "    <tr style=\"text-align: right;\">\n",
       "      <th></th>\n",
       "      <th>CATEGORY</th>\n",
       "      <th>DATE</th>\n",
       "      <th>UNITS_SOLD</th>\n",
       "    </tr>\n",
       "  </thead>\n",
       "  <tbody>\n",
       "    <tr>\n",
       "      <th>59</th>\n",
       "      <td>CATEG-2</td>\n",
       "      <td>2018-10-16</td>\n",
       "      <td>1</td>\n",
       "    </tr>\n",
       "    <tr>\n",
       "      <th>2369</th>\n",
       "      <td>CATEG-2</td>\n",
       "      <td>2019-06-11</td>\n",
       "      <td>15</td>\n",
       "    </tr>\n",
       "    <tr>\n",
       "      <th>1484</th>\n",
       "      <td>CATEG-2</td>\n",
       "      <td>2019-08-13</td>\n",
       "      <td>10</td>\n",
       "    </tr>\n",
       "    <tr>\n",
       "      <th>304</th>\n",
       "      <td>CATEG-2</td>\n",
       "      <td>2019-08-21</td>\n",
       "      <td>8</td>\n",
       "    </tr>\n",
       "    <tr>\n",
       "      <th>90</th>\n",
       "      <td>CATEG-2</td>\n",
       "      <td>2019-10-25</td>\n",
       "      <td>2</td>\n",
       "    </tr>\n",
       "    <tr>\n",
       "      <th>1043</th>\n",
       "      <td>CATEG-2</td>\n",
       "      <td>2019-10-27</td>\n",
       "      <td>2</td>\n",
       "    </tr>\n",
       "  </tbody>\n",
       "</table>\n",
       "</div>"
      ],
      "text/plain": [
       "     CATEGORY       DATE  UNITS_SOLD\n",
       "59    CATEG-2 2018-10-16           1\n",
       "2369  CATEG-2 2019-06-11          15\n",
       "1484  CATEG-2 2019-08-13          10\n",
       "304   CATEG-2 2019-08-21           8\n",
       "90    CATEG-2 2019-10-25           2\n",
       "1043  CATEG-2 2019-10-27           2"
      ]
     },
     "execution_count": 24,
     "metadata": {},
     "output_type": "execute_result"
    }
   ],
   "source": [
    "# Evaluar fechas no consecutivas para categ_2\n",
    "categ_2_fechas_no_consecutivas, categ_2_idx_a_arreglar = fechas_no_consecutivas(categ_2)\n",
    "print(categ_2_idx_a_arreglar)\n",
    "categ_2_fechas_date = categ_2_fechas_no_consecutivas[\"DATE\"]\n",
    "categ_2_fechas_no_consecutivas"
   ]
  },
  {
   "cell_type": "code",
   "execution_count": 25,
   "id": "b5315be6-7ba5-4bd6-9207-9c81c7502c60",
   "metadata": {},
   "outputs": [
    {
     "name": "stdout",
     "output_type": "stream",
     "text": [
      "Index([2136, 1803, 406, 5, 2077, 228, 1325, 1204, 665, 1242, 1375], dtype='int64')\n"
     ]
    },
    {
     "data": {
      "text/html": [
       "<div>\n",
       "<style scoped>\n",
       "    .dataframe tbody tr th:only-of-type {\n",
       "        vertical-align: middle;\n",
       "    }\n",
       "\n",
       "    .dataframe tbody tr th {\n",
       "        vertical-align: top;\n",
       "    }\n",
       "\n",
       "    .dataframe thead th {\n",
       "        text-align: right;\n",
       "    }\n",
       "</style>\n",
       "<table border=\"1\" class=\"dataframe\">\n",
       "  <thead>\n",
       "    <tr style=\"text-align: right;\">\n",
       "      <th></th>\n",
       "      <th>CATEGORY</th>\n",
       "      <th>DATE</th>\n",
       "      <th>UNITS_SOLD</th>\n",
       "    </tr>\n",
       "  </thead>\n",
       "  <tbody>\n",
       "    <tr>\n",
       "      <th>2136</th>\n",
       "      <td>CATEG-3</td>\n",
       "      <td>2018-09-25</td>\n",
       "      <td>0</td>\n",
       "    </tr>\n",
       "    <tr>\n",
       "      <th>1803</th>\n",
       "      <td>CATEG-3</td>\n",
       "      <td>2018-09-27</td>\n",
       "      <td>0</td>\n",
       "    </tr>\n",
       "    <tr>\n",
       "      <th>406</th>\n",
       "      <td>CATEG-3</td>\n",
       "      <td>2018-10-15</td>\n",
       "      <td>1</td>\n",
       "    </tr>\n",
       "    <tr>\n",
       "      <th>5</th>\n",
       "      <td>CATEG-3</td>\n",
       "      <td>2018-10-18</td>\n",
       "      <td>1</td>\n",
       "    </tr>\n",
       "    <tr>\n",
       "      <th>2077</th>\n",
       "      <td>CATEG-3</td>\n",
       "      <td>2018-10-25</td>\n",
       "      <td>0</td>\n",
       "    </tr>\n",
       "    <tr>\n",
       "      <th>228</th>\n",
       "      <td>CATEG-3</td>\n",
       "      <td>2018-10-29</td>\n",
       "      <td>0</td>\n",
       "    </tr>\n",
       "    <tr>\n",
       "      <th>1325</th>\n",
       "      <td>CATEG-3</td>\n",
       "      <td>2018-11-03</td>\n",
       "      <td>0</td>\n",
       "    </tr>\n",
       "    <tr>\n",
       "      <th>1204</th>\n",
       "      <td>CATEG-3</td>\n",
       "      <td>2018-11-05</td>\n",
       "      <td>0</td>\n",
       "    </tr>\n",
       "    <tr>\n",
       "      <th>665</th>\n",
       "      <td>CATEG-3</td>\n",
       "      <td>2018-11-08</td>\n",
       "      <td>0</td>\n",
       "    </tr>\n",
       "    <tr>\n",
       "      <th>1242</th>\n",
       "      <td>CATEG-3</td>\n",
       "      <td>2018-11-11</td>\n",
       "      <td>0</td>\n",
       "    </tr>\n",
       "    <tr>\n",
       "      <th>1375</th>\n",
       "      <td>CATEG-3</td>\n",
       "      <td>2019-06-11</td>\n",
       "      <td>642</td>\n",
       "    </tr>\n",
       "  </tbody>\n",
       "</table>\n",
       "</div>"
      ],
      "text/plain": [
       "     CATEGORY       DATE  UNITS_SOLD\n",
       "2136  CATEG-3 2018-09-25           0\n",
       "1803  CATEG-3 2018-09-27           0\n",
       "406   CATEG-3 2018-10-15           1\n",
       "5     CATEG-3 2018-10-18           1\n",
       "2077  CATEG-3 2018-10-25           0\n",
       "228   CATEG-3 2018-10-29           0\n",
       "1325  CATEG-3 2018-11-03           0\n",
       "1204  CATEG-3 2018-11-05           0\n",
       "665   CATEG-3 2018-11-08           0\n",
       "1242  CATEG-3 2018-11-11           0\n",
       "1375  CATEG-3 2019-06-11         642"
      ]
     },
     "execution_count": 25,
     "metadata": {},
     "output_type": "execute_result"
    }
   ],
   "source": [
    "# Evaluar fechas no consecutivas para categ_3\n",
    "categ_3_fechas_no_consecutivas, categ_3_idx_a_arreglar = fechas_no_consecutivas(categ_3)\n",
    "print(categ_3_idx_a_arreglar)\n",
    "categ_3_fechas_date = categ_3_fechas_no_consecutivas[\"DATE\"]\n",
    "categ_3_fechas_no_consecutivas"
   ]
  },
  {
   "cell_type": "markdown",
   "id": "a5aec0a4-61ea-4705-b5ed-738a48c9a35c",
   "metadata": {},
   "source": [
    "**En categ_1 y categ_2, la primera fecha no consecutiva, \"2018-10-16\", tiene un salto de aproximadamente 7 meses, por lo tanto, sería relevante eliminar ese primer registro, para no rellenar los días de 7 meses con 0s y afectar al modelo.**\n",
    "\n",
    "**Las fechas aisladas con saltos poco significativos, presentes en los 3 dfs, serán rellenadas con 0s.**"
   ]
  },
  {
   "cell_type": "code",
   "execution_count": 26,
   "id": "0cacd2ae-501c-4bd4-9aea-7fc7060b16c3",
   "metadata": {},
   "outputs": [],
   "source": [
    "# Eliminar primer registro de fecha en categ_1 y categ_2\n",
    "categ_1.drop(index=[categ_1_idx_a_arreglar[0]], inplace=True)\n",
    "categ_2.drop(index=[categ_2_idx_a_arreglar[0]], inplace=True)"
   ]
  },
  {
   "cell_type": "code",
   "execution_count": 27,
   "id": "b45f1a68-f83a-46f8-89b4-df77b374bf70",
   "metadata": {},
   "outputs": [
    {
     "data": {
      "text/plain": [
       "[506]"
      ]
     },
     "execution_count": 27,
     "metadata": {},
     "output_type": "execute_result"
    }
   ],
   "source": [
    "# Eliminar primer índice de las primeras 2 listas\n",
    "categ_1_idx_a_arreglar = list(categ_1_idx_a_arreglar)\n",
    "categ_1_idx_a_arreglar.pop(0)\n",
    "\n",
    "categ_2_idx_a_arreglar = list(categ_2_idx_a_arreglar)\n",
    "categ_2_idx_a_arreglar.pop(0)\n",
    "\n",
    "# Verificar\n",
    "categ_1_idx_a_arreglar"
   ]
  },
  {
   "cell_type": "code",
   "execution_count": 28,
   "id": "1052a8f2-b4ca-44e8-9407-06e401b83a3d",
   "metadata": {},
   "outputs": [
    {
     "data": {
      "text/plain": [
       "Index(['DATE', 'UNITS_SOLD'], dtype='object')"
      ]
     },
     "execution_count": 28,
     "metadata": {},
     "output_type": "execute_result"
    }
   ],
   "source": [
    "# Ya que las categorías no son necesarias al haber separado los df, se droppea esa columna\n",
    "categ_1.drop(columns=\"CATEGORY\", inplace=True)\n",
    "categ_2.drop(columns=\"CATEGORY\", inplace=True)\n",
    "categ_3.drop(columns=\"CATEGORY\", inplace=True)\n",
    "\n",
    "# Verificar\n",
    "categ_1.columns"
   ]
  },
  {
   "cell_type": "code",
   "execution_count": null,
   "id": "5dcb67ec-f297-42a0-ba31-a9c7e9b55e80",
   "metadata": {},
   "outputs": [],
   "source": []
  },
  {
   "cell_type": "code",
   "execution_count": 29,
   "id": "681e90cf-8311-4dac-bee8-7409d9c2125a",
   "metadata": {},
   "outputs": [],
   "source": [
    "# Función para llenar fechas faltantes con 0s\n",
    "def llenar_fechas_con_0(df_cat, indices_no_continuos, col_fecha=\"DATE\", col_ventas=\"UNITS_SOLD\"):\n",
    "    \"\"\"Función para llenar fechas faltantes con 0s.\"\"\"\n",
    "    # Crear una copia para trabajar\n",
    "    df_filled = df_cat.copy()\n",
    "    \n",
    "    # Loopear por los índices de fechas no consecutivas para agregar fechas faltantes inmediatas\n",
    "    for idx in indices_no_continuos:\n",
    "        fecha_actual = df_filled.loc[idx, col_fecha]\n",
    "\n",
    "        # Comprobar y agregar la fecha posterior inmediata si falta\n",
    "        fecha_posterior = fecha_actual + pd.Timedelta(days=1)\n",
    "        if fecha_posterior not in df_filled[col_fecha].values:\n",
    "            df_filled.loc[idx+1000000, col_fecha] = fecha_posterior\n",
    "            df_filled.loc[idx+1000000, col_ventas] = 0\n",
    "\n",
    "        # Comprobar y agregar la fecha anterior inmediata si falta\n",
    "        fecha_anterior = fecha_actual - pd.Timedelta(days=1)\n",
    "        if fecha_anterior not in df_filled[col_fecha].values:\n",
    "            df_filled.loc[idx+1000000, col_fecha] = fecha_anterior\n",
    "            df_filled.loc[idx+1000000, col_ventas] = 0\n",
    "\n",
    "    return df_filled"
   ]
  },
  {
   "cell_type": "code",
   "execution_count": 30,
   "id": "965edac9-52a2-424b-bc8c-df9ba5893aae",
   "metadata": {},
   "outputs": [],
   "source": [
    "# Crear fechas faltantes y llenarlas con 0 ventas\n",
    "categ_1 = llenar_fechas_con_0(categ_1, categ_1_idx_a_arreglar)"
   ]
  },
  {
   "cell_type": "markdown",
   "id": "b945f7fa-16dd-4113-8c74-37d8e8fd163c",
   "metadata": {},
   "source": [
    "**Verificar de forma manual, debido a un bug en la función. Si bien no es muy pythónico, debido al tiempo disponible, es necesario continuar y luego de finalizar, revisar una mejor solución.**"
   ]
  },
  {
   "cell_type": "code",
   "execution_count": 31,
   "id": "f730fb03-88cc-498c-9ece-3e2997f5c453",
   "metadata": {},
   "outputs": [
    {
     "data": {
      "text/plain": [
       "506   2019-06-11\n",
       "Name: DATE, dtype: datetime64[ns]"
      ]
     },
     "execution_count": 31,
     "metadata": {},
     "output_type": "execute_result"
    }
   ],
   "source": [
    "# Verificar y completar casos\n",
    "fecha_base_categ_1 = categ_1.loc[categ_1_idx_a_arreglar][\"DATE\"]\n",
    "fecha_base_categ_1"
   ]
  },
  {
   "cell_type": "code",
   "execution_count": 32,
   "id": "11f97699-2a0f-4546-87eb-d73c0811ec7c",
   "metadata": {},
   "outputs": [
    {
     "data": {
      "text/html": [
       "<div>\n",
       "<style scoped>\n",
       "    .dataframe tbody tr th:only-of-type {\n",
       "        vertical-align: middle;\n",
       "    }\n",
       "\n",
       "    .dataframe tbody tr th {\n",
       "        vertical-align: top;\n",
       "    }\n",
       "\n",
       "    .dataframe thead th {\n",
       "        text-align: right;\n",
       "    }\n",
       "</style>\n",
       "<table border=\"1\" class=\"dataframe\">\n",
       "  <thead>\n",
       "    <tr style=\"text-align: right;\">\n",
       "      <th></th>\n",
       "      <th>DATE</th>\n",
       "      <th>UNITS_SOLD</th>\n",
       "    </tr>\n",
       "  </thead>\n",
       "  <tbody>\n",
       "    <tr>\n",
       "      <th>1000506</th>\n",
       "      <td>2019-06-10</td>\n",
       "      <td>0.0</td>\n",
       "    </tr>\n",
       "  </tbody>\n",
       "</table>\n",
       "</div>"
      ],
      "text/plain": [
       "              DATE  UNITS_SOLD\n",
       "1000506 2019-06-10         0.0"
      ]
     },
     "execution_count": 32,
     "metadata": {},
     "output_type": "execute_result"
    }
   ],
   "source": [
    "# Verificar fechas anteriores y posteriores\n",
    "categ_1[categ_1[\"DATE\"] == \"2019-06-10\"]"
   ]
  },
  {
   "cell_type": "code",
   "execution_count": 33,
   "id": "21a059c1-118a-42a1-b445-3f5fbed00e7a",
   "metadata": {},
   "outputs": [
    {
     "data": {
      "text/html": [
       "<div>\n",
       "<style scoped>\n",
       "    .dataframe tbody tr th:only-of-type {\n",
       "        vertical-align: middle;\n",
       "    }\n",
       "\n",
       "    .dataframe tbody tr th {\n",
       "        vertical-align: top;\n",
       "    }\n",
       "\n",
       "    .dataframe thead th {\n",
       "        text-align: right;\n",
       "    }\n",
       "</style>\n",
       "<table border=\"1\" class=\"dataframe\">\n",
       "  <thead>\n",
       "    <tr style=\"text-align: right;\">\n",
       "      <th></th>\n",
       "      <th>DATE</th>\n",
       "      <th>UNITS_SOLD</th>\n",
       "    </tr>\n",
       "  </thead>\n",
       "  <tbody>\n",
       "    <tr>\n",
       "      <th>1539</th>\n",
       "      <td>2019-06-12</td>\n",
       "      <td>26.0</td>\n",
       "    </tr>\n",
       "  </tbody>\n",
       "</table>\n",
       "</div>"
      ],
      "text/plain": [
       "           DATE  UNITS_SOLD\n",
       "1539 2019-06-12        26.0"
      ]
     },
     "execution_count": 33,
     "metadata": {},
     "output_type": "execute_result"
    }
   ],
   "source": [
    "categ_1[categ_1[\"DATE\"] == \"2019-06-12\"]"
   ]
  },
  {
   "cell_type": "code",
   "execution_count": 35,
   "id": "e630c599-b270-43b3-bb91-ef7e5d22bd27",
   "metadata": {},
   "outputs": [],
   "source": [
    "# Crear fechas faltantes y llenarlas con 0 ventas para categ_2\n",
    "categ_2 = llenar_fechas_con_0(categ_2, categ_2_idx_a_arreglar)"
   ]
  },
  {
   "cell_type": "code",
   "execution_count": 43,
   "id": "03fcb3aa-b615-4189-8f97-23d4842fcf44",
   "metadata": {},
   "outputs": [
    {
     "data": {
      "text/plain": [
       "59     2018-10-16\n",
       "2369   2019-06-11\n",
       "1484   2019-08-13\n",
       "304    2019-08-21\n",
       "90     2019-10-25\n",
       "1043   2019-10-27\n",
       "Name: DATE, dtype: datetime64[ns]"
      ]
     },
     "execution_count": 43,
     "metadata": {},
     "output_type": "execute_result"
    }
   ],
   "source": [
    "# Revisar en categ_2\n",
    "categ_2_fechas_date"
   ]
  },
  {
   "cell_type": "code",
   "execution_count": 37,
   "id": "f9dfd235-4ade-477c-a26b-ccbec5de7d48",
   "metadata": {},
   "outputs": [
    {
     "data": {
      "text/html": [
       "<div>\n",
       "<style scoped>\n",
       "    .dataframe tbody tr th:only-of-type {\n",
       "        vertical-align: middle;\n",
       "    }\n",
       "\n",
       "    .dataframe tbody tr th {\n",
       "        vertical-align: top;\n",
       "    }\n",
       "\n",
       "    .dataframe thead th {\n",
       "        text-align: right;\n",
       "    }\n",
       "</style>\n",
       "<table border=\"1\" class=\"dataframe\">\n",
       "  <thead>\n",
       "    <tr style=\"text-align: right;\">\n",
       "      <th></th>\n",
       "      <th>DATE</th>\n",
       "      <th>UNITS_SOLD</th>\n",
       "    </tr>\n",
       "  </thead>\n",
       "  <tbody>\n",
       "    <tr>\n",
       "      <th>2369</th>\n",
       "      <td>2019-06-11</td>\n",
       "      <td>15.0</td>\n",
       "    </tr>\n",
       "  </tbody>\n",
       "</table>\n",
       "</div>"
      ],
      "text/plain": [
       "           DATE  UNITS_SOLD\n",
       "2369 2019-06-11        15.0"
      ]
     },
     "execution_count": 37,
     "metadata": {},
     "output_type": "execute_result"
    }
   ],
   "source": [
    "categ_2[categ_2[\"DATE\"] == \"2019-06-11\"]"
   ]
  },
  {
   "cell_type": "code",
   "execution_count": 38,
   "id": "4733dbdd-f34f-42b2-a304-009f99f379f7",
   "metadata": {},
   "outputs": [
    {
     "data": {
      "text/html": [
       "<div>\n",
       "<style scoped>\n",
       "    .dataframe tbody tr th:only-of-type {\n",
       "        vertical-align: middle;\n",
       "    }\n",
       "\n",
       "    .dataframe tbody tr th {\n",
       "        vertical-align: top;\n",
       "    }\n",
       "\n",
       "    .dataframe thead th {\n",
       "        text-align: right;\n",
       "    }\n",
       "</style>\n",
       "<table border=\"1\" class=\"dataframe\">\n",
       "  <thead>\n",
       "    <tr style=\"text-align: right;\">\n",
       "      <th></th>\n",
       "      <th>DATE</th>\n",
       "      <th>UNITS_SOLD</th>\n",
       "    </tr>\n",
       "  </thead>\n",
       "  <tbody>\n",
       "    <tr>\n",
       "      <th>1002369</th>\n",
       "      <td>2019-06-10</td>\n",
       "      <td>0.0</td>\n",
       "    </tr>\n",
       "  </tbody>\n",
       "</table>\n",
       "</div>"
      ],
      "text/plain": [
       "              DATE  UNITS_SOLD\n",
       "1002369 2019-06-10         0.0"
      ]
     },
     "execution_count": 38,
     "metadata": {},
     "output_type": "execute_result"
    }
   ],
   "source": [
    "categ_2[categ_2[\"DATE\"] == \"2019-06-10\"]"
   ]
  },
  {
   "cell_type": "code",
   "execution_count": 39,
   "id": "6e77328a-5156-42b5-ab0f-a82a8d90bbcc",
   "metadata": {},
   "outputs": [
    {
     "data": {
      "text/html": [
       "<div>\n",
       "<style scoped>\n",
       "    .dataframe tbody tr th:only-of-type {\n",
       "        vertical-align: middle;\n",
       "    }\n",
       "\n",
       "    .dataframe tbody tr th {\n",
       "        vertical-align: top;\n",
       "    }\n",
       "\n",
       "    .dataframe thead th {\n",
       "        text-align: right;\n",
       "    }\n",
       "</style>\n",
       "<table border=\"1\" class=\"dataframe\">\n",
       "  <thead>\n",
       "    <tr style=\"text-align: right;\">\n",
       "      <th></th>\n",
       "      <th>DATE</th>\n",
       "      <th>UNITS_SOLD</th>\n",
       "    </tr>\n",
       "  </thead>\n",
       "  <tbody>\n",
       "    <tr>\n",
       "      <th>1503</th>\n",
       "      <td>2019-06-12</td>\n",
       "      <td>13.0</td>\n",
       "    </tr>\n",
       "  </tbody>\n",
       "</table>\n",
       "</div>"
      ],
      "text/plain": [
       "           DATE  UNITS_SOLD\n",
       "1503 2019-06-12        13.0"
      ]
     },
     "execution_count": 39,
     "metadata": {},
     "output_type": "execute_result"
    }
   ],
   "source": [
    "categ_2[categ_2[\"DATE\"] == \"2019-06-12\"]"
   ]
  },
  {
   "cell_type": "code",
   "execution_count": 44,
   "id": "78ed76b6-d220-4391-ac72-c6be66b3193a",
   "metadata": {},
   "outputs": [],
   "source": [
    "# Crear fechas faltantes y llenarlas con 0 ventas para categ_3\n",
    "categ_3 = llenar_fechas_con_0(categ_3, categ_3_idx_a_arreglar)"
   ]
  },
  {
   "cell_type": "code",
   "execution_count": 45,
   "id": "fb79698b-61c8-4f8c-9232-34d6b3eb4c4d",
   "metadata": {},
   "outputs": [
    {
     "data": {
      "text/plain": [
       "2136   2018-09-25\n",
       "1803   2018-09-27\n",
       "406    2018-10-15\n",
       "5      2018-10-18\n",
       "2077   2018-10-25\n",
       "228    2018-10-29\n",
       "1325   2018-11-03\n",
       "1204   2018-11-05\n",
       "665    2018-11-08\n",
       "1242   2018-11-11\n",
       "1375   2019-06-11\n",
       "Name: DATE, dtype: datetime64[ns]"
      ]
     },
     "execution_count": 45,
     "metadata": {},
     "output_type": "execute_result"
    }
   ],
   "source": [
    "# Revisar en categ_3\n",
    "categ_3_fechas_date"
   ]
  },
  {
   "cell_type": "code",
   "execution_count": 47,
   "id": "cc9a5864-9383-4e45-a8b4-e2c4233b6052",
   "metadata": {},
   "outputs": [
    {
     "data": {
      "text/html": [
       "<div>\n",
       "<style scoped>\n",
       "    .dataframe tbody tr th:only-of-type {\n",
       "        vertical-align: middle;\n",
       "    }\n",
       "\n",
       "    .dataframe tbody tr th {\n",
       "        vertical-align: top;\n",
       "    }\n",
       "\n",
       "    .dataframe thead th {\n",
       "        text-align: right;\n",
       "    }\n",
       "</style>\n",
       "<table border=\"1\" class=\"dataframe\">\n",
       "  <thead>\n",
       "    <tr style=\"text-align: right;\">\n",
       "      <th></th>\n",
       "      <th>DATE</th>\n",
       "      <th>UNITS_SOLD</th>\n",
       "    </tr>\n",
       "  </thead>\n",
       "  <tbody>\n",
       "    <tr>\n",
       "      <th>1803</th>\n",
       "      <td>2018-09-27</td>\n",
       "      <td>0.0</td>\n",
       "    </tr>\n",
       "  </tbody>\n",
       "</table>\n",
       "</div>"
      ],
      "text/plain": [
       "           DATE  UNITS_SOLD\n",
       "1803 2018-09-27         0.0"
      ]
     },
     "execution_count": 47,
     "metadata": {},
     "output_type": "execute_result"
    }
   ],
   "source": [
    "categ_3[categ_3[\"DATE\"] == \"2018-09-27\"]"
   ]
  },
  {
   "cell_type": "code",
   "execution_count": 48,
   "id": "24ec2621-c5db-4d91-bd93-0787fd282075",
   "metadata": {},
   "outputs": [
    {
     "data": {
      "text/html": [
       "<div>\n",
       "<style scoped>\n",
       "    .dataframe tbody tr th:only-of-type {\n",
       "        vertical-align: middle;\n",
       "    }\n",
       "\n",
       "    .dataframe tbody tr th {\n",
       "        vertical-align: top;\n",
       "    }\n",
       "\n",
       "    .dataframe thead th {\n",
       "        text-align: right;\n",
       "    }\n",
       "</style>\n",
       "<table border=\"1\" class=\"dataframe\">\n",
       "  <thead>\n",
       "    <tr style=\"text-align: right;\">\n",
       "      <th></th>\n",
       "      <th>DATE</th>\n",
       "      <th>UNITS_SOLD</th>\n",
       "    </tr>\n",
       "  </thead>\n",
       "  <tbody>\n",
       "    <tr>\n",
       "      <th>1002136</th>\n",
       "      <td>2018-09-26</td>\n",
       "      <td>0.0</td>\n",
       "    </tr>\n",
       "  </tbody>\n",
       "</table>\n",
       "</div>"
      ],
      "text/plain": [
       "              DATE  UNITS_SOLD\n",
       "1002136 2018-09-26         0.0"
      ]
     },
     "execution_count": 48,
     "metadata": {},
     "output_type": "execute_result"
    }
   ],
   "source": [
    "categ_3[categ_3[\"DATE\"] == \"2018-09-26\"]"
   ]
  },
  {
   "cell_type": "code",
   "execution_count": 49,
   "id": "8d8e5d03-d89f-4c5b-b106-3345da226d84",
   "metadata": {},
   "outputs": [
    {
     "data": {
      "text/html": [
       "<div>\n",
       "<style scoped>\n",
       "    .dataframe tbody tr th:only-of-type {\n",
       "        vertical-align: middle;\n",
       "    }\n",
       "\n",
       "    .dataframe tbody tr th {\n",
       "        vertical-align: top;\n",
       "    }\n",
       "\n",
       "    .dataframe thead th {\n",
       "        text-align: right;\n",
       "    }\n",
       "</style>\n",
       "<table border=\"1\" class=\"dataframe\">\n",
       "  <thead>\n",
       "    <tr style=\"text-align: right;\">\n",
       "      <th></th>\n",
       "      <th>DATE</th>\n",
       "      <th>UNITS_SOLD</th>\n",
       "    </tr>\n",
       "  </thead>\n",
       "  <tbody>\n",
       "    <tr>\n",
       "      <th>669</th>\n",
       "      <td>2018-09-28</td>\n",
       "      <td>2.0</td>\n",
       "    </tr>\n",
       "  </tbody>\n",
       "</table>\n",
       "</div>"
      ],
      "text/plain": [
       "          DATE  UNITS_SOLD\n",
       "669 2018-09-28         2.0"
      ]
     },
     "execution_count": 49,
     "metadata": {},
     "output_type": "execute_result"
    }
   ],
   "source": [
    "categ_3[categ_3[\"DATE\"] == \"2018-09-28\"]"
   ]
  },
  {
   "cell_type": "markdown",
   "id": "d0e34ac1-c8ed-41c2-a733-8378787ed48e",
   "metadata": {},
   "source": [
    "**Para trabajar con series de tiempo, es necesario crear un índice con la columna \"DATE\".**"
   ]
  },
  {
   "cell_type": "code",
   "execution_count": null,
   "id": "8e193fed-4809-4180-8627-76ec91460dd6",
   "metadata": {},
   "outputs": [],
   "source": []
  },
  {
   "cell_type": "code",
   "execution_count": 45,
   "id": "3f40f18e-613c-4b3b-b59b-44c58f6070c4",
   "metadata": {},
   "outputs": [
    {
     "data": {
      "text/html": [
       "<div>\n",
       "<style scoped>\n",
       "    .dataframe tbody tr th:only-of-type {\n",
       "        vertical-align: middle;\n",
       "    }\n",
       "\n",
       "    .dataframe tbody tr th {\n",
       "        vertical-align: top;\n",
       "    }\n",
       "\n",
       "    .dataframe thead th {\n",
       "        text-align: right;\n",
       "    }\n",
       "</style>\n",
       "<table border=\"1\" class=\"dataframe\">\n",
       "  <thead>\n",
       "    <tr style=\"text-align: right;\">\n",
       "      <th></th>\n",
       "      <th>CATEGORY</th>\n",
       "      <th>DATE</th>\n",
       "      <th>UNITS_SOLD</th>\n",
       "    </tr>\n",
       "  </thead>\n",
       "  <tbody>\n",
       "    <tr>\n",
       "      <th>1526</th>\n",
       "      <td>CATEG-1</td>\n",
       "      <td>2018-10-16</td>\n",
       "      <td>1</td>\n",
       "    </tr>\n",
       "    <tr>\n",
       "      <th>506</th>\n",
       "      <td>CATEG-1</td>\n",
       "      <td>2019-06-11</td>\n",
       "      <td>27</td>\n",
       "    </tr>\n",
       "    <tr>\n",
       "      <th>1539</th>\n",
       "      <td>CATEG-1</td>\n",
       "      <td>2019-06-12</td>\n",
       "      <td>26</td>\n",
       "    </tr>\n",
       "    <tr>\n",
       "      <th>423</th>\n",
       "      <td>CATEG-1</td>\n",
       "      <td>2019-06-13</td>\n",
       "      <td>24</td>\n",
       "    </tr>\n",
       "    <tr>\n",
       "      <th>2222</th>\n",
       "      <td>CATEG-1</td>\n",
       "      <td>2019-06-14</td>\n",
       "      <td>18</td>\n",
       "    </tr>\n",
       "    <tr>\n",
       "      <th>...</th>\n",
       "      <td>...</td>\n",
       "      <td>...</td>\n",
       "      <td>...</td>\n",
       "    </tr>\n",
       "    <tr>\n",
       "      <th>1723</th>\n",
       "      <td>CATEG-1</td>\n",
       "      <td>2021-11-08</td>\n",
       "      <td>63</td>\n",
       "    </tr>\n",
       "    <tr>\n",
       "      <th>717</th>\n",
       "      <td>CATEG-1</td>\n",
       "      <td>2021-11-09</td>\n",
       "      <td>65</td>\n",
       "    </tr>\n",
       "    <tr>\n",
       "      <th>2605</th>\n",
       "      <td>CATEG-1</td>\n",
       "      <td>2021-11-10</td>\n",
       "      <td>189</td>\n",
       "    </tr>\n",
       "    <tr>\n",
       "      <th>736</th>\n",
       "      <td>CATEG-1</td>\n",
       "      <td>2021-11-11</td>\n",
       "      <td>194</td>\n",
       "    </tr>\n",
       "    <tr>\n",
       "      <th>1423</th>\n",
       "      <td>CATEG-1</td>\n",
       "      <td>2021-11-12</td>\n",
       "      <td>146</td>\n",
       "    </tr>\n",
       "  </tbody>\n",
       "</table>\n",
       "<p>887 rows × 3 columns</p>\n",
       "</div>"
      ],
      "text/plain": [
       "     CATEGORY       DATE  UNITS_SOLD\n",
       "1526  CATEG-1 2018-10-16           1\n",
       "506   CATEG-1 2019-06-11          27\n",
       "1539  CATEG-1 2019-06-12          26\n",
       "423   CATEG-1 2019-06-13          24\n",
       "2222  CATEG-1 2019-06-14          18\n",
       "...       ...        ...         ...\n",
       "1723  CATEG-1 2021-11-08          63\n",
       "717   CATEG-1 2021-11-09          65\n",
       "2605  CATEG-1 2021-11-10         189\n",
       "736   CATEG-1 2021-11-11         194\n",
       "1423  CATEG-1 2021-11-12         146\n",
       "\n",
       "[887 rows x 3 columns]"
      ]
     },
     "execution_count": 45,
     "metadata": {},
     "output_type": "execute_result"
    }
   ],
   "source": [
    "categ_1.index = pd.PeriodIndex(categ_1[\"DATE\"], freq=\"M\")"
   ]
  },
  {
   "cell_type": "code",
   "execution_count": 47,
   "id": "5b94b1dd-8b49-4e99-9d25-c2ee1fd800fc",
   "metadata": {},
   "outputs": [],
   "source": [
    "# EVALUAR FECHAS! CoMPLETAR CON 0s en fechas faltantes, para indicar que esas fechas no tienen ventas en esas unidades\n",
    "# ES NECESARIO PARA QUE FUNCIONE EL MODELO ARIMA CORRECTAMENTE!"
   ]
  },
  {
   "cell_type": "code",
   "execution_count": null,
   "id": "aaefe6d9-ca28-4a47-a34a-8096f325797e",
   "metadata": {},
   "outputs": [],
   "source": [
    "# PARA ARIMA, SERIE ESTACIONARIA, ELIMINAR TENDENCIA Y ESTACIONALIDAD"
   ]
  },
  {
   "cell_type": "code",
   "execution_count": null,
   "id": "64d9a423-3970-4d9a-a8a9-26b3374e92fa",
   "metadata": {},
   "outputs": [],
   "source": [
    "# PARA SARIMA, ELIMINAR TENDENCIA"
   ]
  },
  {
   "cell_type": "code",
   "execution_count": 48,
   "id": "c1bd8270-21c8-40c4-9683-6528410f2a19",
   "metadata": {},
   "outputs": [],
   "source": [
    "# PARA SARIMAX, ELIMINAR TENDENCIA y AGREGAR CATEGORIA COMO VARIABLE EXOGENA!"
   ]
  },
  {
   "cell_type": "code",
   "execution_count": null,
   "id": "854a1c5f-4a72-4f74-a24a-6046617a5a16",
   "metadata": {},
   "outputs": [],
   "source": []
  },
  {
   "cell_type": "markdown",
   "id": "05a82b47-7160-464c-8b5f-11ea595bcbac",
   "metadata": {},
   "source": [
    "# Modelos de Machine Learning"
   ]
  },
  {
   "cell_type": "code",
   "execution_count": null,
   "id": "30c1e571-dfaf-4f39-9cc0-1feacd558d97",
   "metadata": {},
   "outputs": [],
   "source": []
  },
  {
   "cell_type": "code",
   "execution_count": null,
   "id": "2f79e450-d266-42a5-9e1b-7e3563ff9a7a",
   "metadata": {},
   "outputs": [],
   "source": []
  }
 ],
 "metadata": {
  "kernelspec": {
   "display_name": "Python 3 (ipykernel)",
   "language": "python",
   "name": "python3"
  },
  "language_info": {
   "codemirror_mode": {
    "name": "ipython",
    "version": 3
   },
   "file_extension": ".py",
   "mimetype": "text/x-python",
   "name": "python",
   "nbconvert_exporter": "python",
   "pygments_lexer": "ipython3",
   "version": "3.12.5"
  }
 },
 "nbformat": 4,
 "nbformat_minor": 5
}
